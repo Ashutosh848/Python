{
 "cells": [
  {
   "cell_type": "code",
   "execution_count": 3,
   "id": "8b8a8eb8-ef94-434a-ba80-c8e5344c74de",
   "metadata": {},
   "outputs": [
    {
     "name": "stdout",
     "output_type": "stream",
     "text": [
      "*\n",
      "**\n",
      "***\n",
      "****\n",
      "*****\n"
     ]
    }
   ],
   "source": [
    "n = 5\n",
    "for r in range(1,n+1):\n",
    "    for c in range(1,r+1):\n",
    "        print(\"*\",end = '')\n",
    "    print()"
   ]
  },
  {
   "cell_type": "code",
   "execution_count": 6,
   "id": "69a3e1e2-3306-4ef2-b544-c5c061412d85",
   "metadata": {},
   "outputs": [
    {
     "name": "stdout",
     "output_type": "stream",
     "text": [
      "    *\n",
      "   **\n",
      "  ***\n",
      " ****\n",
      "*****\n"
     ]
    }
   ],
   "source": [
    "n = 5 \n",
    "for r in range(1,n+1):\n",
    "    for s in range(n-r):\n",
    "        print(' ',end = '')\n",
    "    for c in range(r):\n",
    "        print(\"*\",end = '')\n",
    "    print()"
   ]
  },
  {
   "cell_type": "code",
   "execution_count": 7,
   "id": "3c646b31-5aed-4d88-9248-4978718c2388",
   "metadata": {},
   "outputs": [
    {
     "name": "stdout",
     "output_type": "stream",
     "text": [
      "    * \n",
      "   * * \n",
      "  * * * \n",
      " * * * * \n",
      "* * * * * \n"
     ]
    }
   ],
   "source": [
    "n = 5\n",
    "for r in range(1,n+1):\n",
    "    for s in range(n-r):\n",
    "        print(\" \",end = \"\")\n",
    "    for c in range(r):\n",
    "        print(\"* \",end = '')\n",
    "    print()"
   ]
  },
  {
   "cell_type": "code",
   "execution_count": 9,
   "id": "30739d3d-7015-4280-8449-3e0b46a8d9c6",
   "metadata": {},
   "outputs": [
    {
     "name": "stdout",
     "output_type": "stream",
     "text": [
      "* * * * * \n",
      "* * * * * \n",
      "* * * * * \n",
      "* * * * * \n",
      "* * * * * \n"
     ]
    }
   ],
   "source": [
    "n = 5\n",
    "for r in range(1,n+1):\n",
    "    for c in range(1,n+1):\n",
    "        print(\"* \",end = '')\n",
    "    print()"
   ]
  },
  {
   "cell_type": "code",
   "execution_count": 16,
   "id": "daec1b82-183d-4b08-ac6c-8e0b84c9f28a",
   "metadata": {},
   "outputs": [
    {
     "name": "stdout",
     "output_type": "stream",
     "text": [
      "* * * * * \n",
      "*       * \n",
      "*       * \n",
      "*       * \n",
      "* * * * * \n"
     ]
    }
   ],
   "source": [
    "n = 5\n",
    "for r in range(1,n+1):\n",
    "    for c in range(1,n+1):\n",
    "        if(c==1 or c==5 or r==1 or r == 5):\n",
    "            print(\"* \",end = '')\n",
    "        else:\n",
    "            print(\"  \",end ='')\n",
    "    print()"
   ]
  },
  {
   "cell_type": "code",
   "execution_count": 22,
   "id": "6f81ab6c-e89e-4f16-9334-96f590b0a813",
   "metadata": {},
   "outputs": [
    {
     "name": "stdout",
     "output_type": "stream",
     "text": [
      "* \n",
      "* * \n",
      "* * * \n",
      "* * * * \n",
      "* * * * * \n",
      "* * * * \n",
      "* * * \n",
      "* * \n",
      "* \n"
     ]
    }
   ],
   "source": [
    "n = 5\n",
    "for r in range(1,2*n):\n",
    "    if(r<=n):\n",
    "        total = r\n",
    "    else:\n",
    "        total = 2*n-r\n",
    "    for c in range(1,total+1):\n",
    "        print(\"* \",end = '')\n",
    "    print()"
   ]
  },
  {
   "cell_type": "code",
   "execution_count": 2,
   "id": "6c23b82d-5b6e-45b5-b3ba-94318d4522fa",
   "metadata": {},
   "outputs": [
    {
     "name": "stdout",
     "output_type": "stream",
     "text": [
      "     * \n",
      "    * * \n",
      "   * * * \n",
      "  * * * * \n",
      " * * * * * \n",
      " * * * * * \n",
      "  * * * * \n",
      "   * * * \n",
      "    * * \n",
      "     * \n"
     ]
    }
   ],
   "source": [
    "n = 5\n",
    "\n",
    "for r in range(1,2*n+1):\n",
    "    if(r<=n):\n",
    "        total = r\n",
    "    else:\n",
    "        total = 2*n-r+1\n",
    "    nfs = n-total\n",
    "    for s in range(0,nfs+1):\n",
    "        print(\" \",end = '')\n",
    "    for c in range(1,total+1):\n",
    "        print(\"* \",end = '')\n",
    "    print()"
   ]
  },
  {
   "cell_type": "code",
   "execution_count": 10,
   "id": "e4b1feda-f17a-43d9-9a2a-184ad1381827",
   "metadata": {},
   "outputs": [
    {
     "name": "stdout",
     "output_type": "stream",
     "text": [
      "* * * * * \n",
      "* * * * \n",
      "* * * \n",
      "* * \n",
      "* \n"
     ]
    }
   ],
   "source": [
    "n = 5\n",
    "for r in range(1,n+1):\n",
    "    for c in range(n-r+1):\n",
    "        print(\"* \",end = '')\n",
    "    print()"
   ]
  },
  {
   "cell_type": "code",
   "execution_count": 19,
   "id": "4f45e9b7-71d9-4df0-8ee6-d805bf802414",
   "metadata": {},
   "outputs": [
    {
     "name": "stdout",
     "output_type": "stream",
     "text": [
      "*****\n",
      " ****\n",
      "  ***\n",
      "   **\n",
      "    *\n"
     ]
    }
   ],
   "source": [
    "n = 5\n",
    "for r in range(1,n+1):\n",
    "    for s in range(r-1):\n",
    "        print(\" \",end = '')\n",
    "    for c in range(n-r+1):\n",
    "        print(\"*\",end = '')\n",
    "    print()\n",
    "    "
   ]
  },
  {
   "cell_type": "code",
   "execution_count": 26,
   "id": "e59fcca7-893e-4a5d-ae73-6ffaee228174",
   "metadata": {},
   "outputs": [
    {
     "name": "stdout",
     "output_type": "stream",
     "text": [
      " *****\n",
      "  ****\n",
      "   ***\n",
      "    **\n",
      "     *\n",
      "    **\n",
      "   ***\n",
      "  ****\n",
      " *****\n",
      "******\n"
     ]
    }
   ],
   "source": [
    "n = 5\n",
    "for r in range(1,2*n+1):\n",
    "    if(r<=n):\n",
    "        total = n-r+1\n",
    "    else:\n",
    "        total = r-n+1\n",
    "    nfs = n - total\n",
    "    for s in range(0,nfs+1):\n",
    "        print(\" \",end = '')\n",
    "    for c in range(1,total+1):\n",
    "        print(\"*\",end = '')\n",
    "    print()"
   ]
  },
  {
   "cell_type": "code",
   "execution_count": 30,
   "id": "7bb90c17-e8d0-4c3f-a020-3fa7b5253d4e",
   "metadata": {},
   "outputs": [
    {
     "name": "stdout",
     "output_type": "stream",
     "text": [
      "OXOXOX\n",
      "XOXOXO\n",
      "OXOXOX\n",
      "XOXOXO\n",
      "OXOXOX\n"
     ]
    }
   ],
   "source": [
    "n = 5\n",
    "\n",
    "for r in range(1,n+1):\n",
    "    for c in range(n+1):\n",
    "        if((r+c)%2==0):\n",
    "            print(\"X\",end = '')\n",
    "        else:\n",
    "            print(\"O\",end = '')\n",
    "    print()"
   ]
  },
  {
   "cell_type": "code",
   "execution_count": 34,
   "id": "bacc4041-fb0d-4b63-a1a3-53410af5a2a0",
   "metadata": {},
   "outputs": [
    {
     "name": "stdout",
     "output_type": "stream",
     "text": [
      "1\n",
      "22\n",
      "333\n",
      "4444\n",
      "55555\n"
     ]
    }
   ],
   "source": [
    "for r in range(1,n+1):\n",
    "    for c in range(1,r+1):\n",
    "        print(r,end = '')\n",
    "    print()"
   ]
  },
  {
   "cell_type": "code",
   "execution_count": null,
   "id": "861e12b9-225d-4687-ab07-7362006fbd6e",
   "metadata": {},
   "outputs": [],
   "source": []
  }
 ],
 "metadata": {
  "kernelspec": {
   "display_name": "Python 3 (ipykernel)",
   "language": "python",
   "name": "python3"
  },
  "language_info": {
   "codemirror_mode": {
    "name": "ipython",
    "version": 3
   },
   "file_extension": ".py",
   "mimetype": "text/x-python",
   "name": "python",
   "nbconvert_exporter": "python",
   "pygments_lexer": "ipython3",
   "version": "3.11.7"
  }
 },
 "nbformat": 4,
 "nbformat_minor": 5
}
