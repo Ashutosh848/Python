{
 "cells": [
  {
   "cell_type": "code",
   "execution_count": 2,
   "id": "02222583-fddf-4925-9f59-57930ba5fe1a",
   "metadata": {},
   "outputs": [],
   "source": [
    "#Dictionary \n",
    "#Key and value Pair\n",
    "#Key will be always unique\n",
    "#Value can be unique and common\n",
    "#No Index\n",
    "#Ordered\n",
    "#Mutable in nature {}"
   ]
  },
  {
   "cell_type": "code",
   "execution_count": 5,
   "id": "e358193a-9e01-46a0-aa3c-e9895e4f402c",
   "metadata": {},
   "outputs": [],
   "source": [
    "d = {10:\"sah\"}\n",
    "d.update({10:\"Ashut\",20:\"Main\"})"
   ]
  },
  {
   "cell_type": "code",
   "execution_count": 15,
   "id": "4ca583a5-acdf-4c41-bd57-4fb437a10631",
   "metadata": {},
   "outputs": [
    {
     "name": "stdout",
     "output_type": "stream",
     "text": [
      "{'total': 8}\n"
     ]
    }
   ],
   "source": [
    "mydict = {\"total\":10}\n",
    "count = 0\n",
    "for i in range(10,19):\n",
    "    mydict['total'] = count\n",
    "    count+=1\n",
    "print(mydict)"
   ]
  },
  {
   "cell_type": "code",
   "execution_count": 35,
   "id": "b8aebc3a-830f-4362-9aa7-a675838217a8",
   "metadata": {},
   "outputs": [
    {
     "name": "stdout",
     "output_type": "stream",
     "text": [
      "{'total': 10, 'h': 1, 'e': 2, 'y': 1, 'u': 1, 's': 1, 'r': 1}\n"
     ]
    }
   ],
   "source": [
    "mydict = {'total':10}\n",
    "\n",
    "for i in 'heyuser':\n",
    "    if(i not in mydict):\n",
    "        mydict[i] = 1\n",
    "    else:\n",
    "        mydict[i] +=1\n",
    "print(mydict)"
   ]
  },
  {
   "cell_type": "code",
   "execution_count": 48,
   "id": "c8f25f0b-1834-4e3b-9639-0fe2753d524c",
   "metadata": {},
   "outputs": [
    {
     "name": "stdout",
     "output_type": "stream",
     "text": [
      "{'divi': 3, 'notdivi': 46}\n"
     ]
    }
   ],
   "source": [
    "mydict = {'divi':0,'notdivi':0}\n",
    "count = 1\n",
    "not_divi = 0\n",
    "for i in range(1,50+1):\n",
    "    if(i%2==0 and i%7==0):\n",
    "        mydict['divi']=count\n",
    "        count+=1\n",
    "    else:\n",
    "        mydict['notdivi']=not_divi\n",
    "        not_divi+=1\n",
    "print(mydict)"
   ]
  },
  {
   "cell_type": "code",
   "execution_count": 54,
   "id": "cd98f3f8-dab5-4bf9-8351-6b614a161316",
   "metadata": {},
   "outputs": [
    {
     "name": "stdout",
     "output_type": "stream",
     "text": [
      "{'e': 2, 'o': 2, 'A': 1, 'u': 1}\n"
     ]
    }
   ],
   "source": [
    "mydict = {}\n",
    "vowels = 'aeiouAEIOU'\n",
    "for i in 'hey hello Ashutosh':\n",
    "    if(i in vowels):\n",
    "        if(i not in mydict):\n",
    "            mydict[i] = 1\n",
    "        else:\n",
    "            mydict[i]+=1\n",
    "print(mydict)"
   ]
  },
  {
   "cell_type": "code",
   "execution_count": 56,
   "id": "d6b47ebc-55db-4c8c-8bd5-0c5013e51217",
   "metadata": {},
   "outputs": [
    {
     "name": "stdout",
     "output_type": "stream",
     "text": [
      "{'hey': 3, 'juj': 1, 'htg': 1, 'hello': 2}\n"
     ]
    }
   ],
   "source": [
    "mydict = {}\n",
    "x = 'hey juj htg hey hey hello hello'.split()\n",
    "for i in x:\n",
    "    if(i not in mydict):\n",
    "        mydict[i] = 1\n",
    "    else:\n",
    "        mydict[i]+=1\n",
    "print(mydict)"
   ]
  },
  {
   "cell_type": "code",
   "execution_count": null,
   "id": "df7027ec-d73c-4a62-86b6-7b18d919a08f",
   "metadata": {},
   "outputs": [],
   "source": [
    "#Questions=>Remove,discard,update,union,intersection,difference,issuperset(),symmetric_difference_update(),"
   ]
  },
  {
   "cell_type": "code",
   "execution_count": 1,
   "id": "07eed662-0e5f-440e-b58e-f4afc27b1469",
   "metadata": {},
   "outputs": [],
   "source": [
    "#Difference between break continue and pass\n",
    "#What is the difference between list and dictionary comprehension\n",
    "#Difference .py and .pyc\n"
   ]
  },
  {
   "cell_type": "code",
   "execution_count": 4,
   "id": "f3e59e67-711a-422f-9516-2c5ded0f8750",
   "metadata": {},
   "outputs": [
    {
     "name": "stdout",
     "output_type": "stream",
     "text": [
      "{'total': 10, 'h': 1, 'e': 2, 'y': 1, 'u': 1, 's': 1, 'r': 1}\n"
     ]
    }
   ],
   "source": [
    "mydict = {'total':10}\n",
    "count = 0\n",
    "for i in 'heyuser':\n",
    "    if( i not in mydict):\n",
    "        mydict[i] = 1\n",
    "    else:\n",
    "        mydict[i]+=1\n",
    "        \n",
    "print(mydict)"
   ]
  },
  {
   "cell_type": "code",
   "execution_count": 6,
   "id": "5f4b0661-1371-4664-8e97-cda5bbc9567a",
   "metadata": {},
   "outputs": [
    {
     "name": "stdout",
     "output_type": "stream",
     "text": [
      "{'divi': 3, 'notdivi': 47}\n"
     ]
    }
   ],
   "source": [
    "mydict = {'divi':0,'notdivi':0}\n",
    "countdivi = 0\n",
    "notdivi = 0\n",
    "for i in range(0,52):\n",
    "    if(i%2==0 and i%7==0):\n",
    "        mydict['divi'] = countdivi\n",
    "        countdivi+=1\n",
    "    else:\n",
    "        mydict['notdivi'] = notdivi\n",
    "        notdivi+=1\n",
    "print(mydict)"
   ]
  },
  {
   "cell_type": "code",
   "execution_count": 11,
   "id": "6a524317-1ac5-42ad-8dc6-df693d3ec06e",
   "metadata": {},
   "outputs": [
    {
     "name": "stdout",
     "output_type": "stream",
     "text": [
      "{'e': 2, 'o': 2, 'A': 1, 'u': 1}\n"
     ]
    }
   ],
   "source": [
    "mydict = {}\n",
    "vowels = 'aeiouAEIOU'\n",
    "count = 0\n",
    "for i in 'hey hello Ashutosh':\n",
    "    if i in vowels:\n",
    "        if(i not in mydict):   \n",
    "            mydict[i] = 1\n",
    "        else:\n",
    "            mydict[i]+=1\n",
    "     \n",
    "print(mydict)"
   ]
  },
  {
   "cell_type": "code",
   "execution_count": null,
   "id": "2ec39bb9-4d3e-463d-b07e-05aa866c3831",
   "metadata": {},
   "outputs": [],
   "source": [
    "x = 'hey juj htg hey hey hello hello'.split()\n",
    "mydict = {}\n",
    "\n",
    "for "
   ]
  }
 ],
 "metadata": {
  "kernelspec": {
   "display_name": "Python 3 (ipykernel)",
   "language": "python",
   "name": "python3"
  },
  "language_info": {
   "codemirror_mode": {
    "name": "ipython",
    "version": 3
   },
   "file_extension": ".py",
   "mimetype": "text/x-python",
   "name": "python",
   "nbconvert_exporter": "python",
   "pygments_lexer": "ipython3",
   "version": "3.11.7"
  }
 },
 "nbformat": 4,
 "nbformat_minor": 5
}
