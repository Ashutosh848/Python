{
 "cells": [
  {
   "cell_type": "code",
   "execution_count": 56,
   "id": "640ac07c-1258-4135-bdb5-23a5e745bf31",
   "metadata": {},
   "outputs": [
    {
     "data": {
      "text/plain": [
       "3"
      ]
     },
     "execution_count": 56,
     "metadata": {},
     "output_type": "execute_result"
    }
   ],
   "source": [
    "def fun(a):\n",
    "    l = set()\n",
    "    for i in a:\n",
    "        if i in l:\n",
    "            return i\n",
    "        l.add(i)\n",
    "    return None\n",
    "fun([1,2,3,3,3,3])"
   ]
  },
  {
   "cell_type": "code",
   "execution_count": 27,
   "id": "19565abc-a0b2-4463-8313-af1e3020486f",
   "metadata": {},
   "outputs": [
    {
     "name": "stdin",
     "output_type": "stream",
     "text": [
      " 5\n"
     ]
    },
    {
     "name": "stdout",
     "output_type": "stream",
     "text": [
      "120\n"
     ]
    }
   ],
   "source": [
    "n = int(input())\n",
    "fact = 1\n",
    "for i in range(1,n+1):\n",
    "    fact = fact * i\n",
    "print(fact)"
   ]
  },
  {
   "cell_type": "code",
   "execution_count": 1,
   "id": "4929f661-352b-4576-88dc-d193e64f709a",
   "metadata": {},
   "outputs": [
    {
     "name": "stdout",
     "output_type": "stream",
     "text": [
      "['a', 's', 'h', 'u', 't', 'o', ' ', 'i', 'w', 'r', 'e', 'l']\n"
     ]
    }
   ],
   "source": [
    "a = \"Ashutosh Tiwari hhello\"\n",
    "l = []\n",
    "for i in a:\n",
    "    i = i.lower()\n",
    "    if i not in l:\n",
    "        l.append(i)\n",
    "print(l)"
   ]
  },
  {
   "cell_type": "code",
   "execution_count": 44,
   "id": "c7966585-8e7b-4476-89f1-1abad719cf5c",
   "metadata": {},
   "outputs": [
    {
     "name": "stdin",
     "output_type": "stream",
     "text": [
      " 10\n"
     ]
    },
    {
     "name": "stdout",
     "output_type": "stream",
     "text": [
      " 1x1 = 1\n",
      " 1x2 = 2\n",
      " 1x3 = 3\n",
      " 1x4 = 4\n",
      " 1x5 = 5\n",
      " 1x6 = 6\n",
      " 1x7 = 7\n",
      " 1x8 = 8\n",
      " 1x9 = 9\n",
      " 1x10 = 10\n",
      "End of Table 1\n",
      " 2x1 = 2\n",
      " 2x2 = 4\n",
      " 2x3 = 6\n",
      " 2x4 = 8\n",
      " 2x5 = 10\n",
      " 2x6 = 12\n",
      " 2x7 = 14\n",
      " 2x8 = 16\n",
      " 2x9 = 18\n",
      " 2x10 = 20\n",
      "End of Table 2\n",
      " 3x1 = 3\n",
      " 3x2 = 6\n",
      " 3x3 = 9\n",
      " 3x4 = 12\n",
      " 3x5 = 15\n",
      " 3x6 = 18\n",
      " 3x7 = 21\n",
      " 3x8 = 24\n",
      " 3x9 = 27\n",
      " 3x10 = 30\n",
      "End of Table 3\n",
      " 4x1 = 4\n",
      " 4x2 = 8\n",
      " 4x3 = 12\n",
      " 4x4 = 16\n",
      " 4x5 = 20\n",
      " 4x6 = 24\n",
      " 4x7 = 28\n",
      " 4x8 = 32\n",
      " 4x9 = 36\n",
      " 4x10 = 40\n",
      "End of Table 4\n",
      " 5x1 = 5\n",
      " 5x2 = 10\n",
      " 5x3 = 15\n",
      " 5x4 = 20\n",
      " 5x5 = 25\n",
      " 5x6 = 30\n",
      " 5x7 = 35\n",
      " 5x8 = 40\n",
      " 5x9 = 45\n",
      " 5x10 = 50\n",
      "End of Table 5\n",
      " 6x1 = 6\n",
      " 6x2 = 12\n",
      " 6x3 = 18\n",
      " 6x4 = 24\n",
      " 6x5 = 30\n",
      " 6x6 = 36\n",
      " 6x7 = 42\n",
      " 6x8 = 48\n",
      " 6x9 = 54\n",
      " 6x10 = 60\n",
      "End of Table 6\n",
      " 7x1 = 7\n",
      " 7x2 = 14\n",
      " 7x3 = 21\n",
      " 7x4 = 28\n",
      " 7x5 = 35\n",
      " 7x6 = 42\n",
      " 7x7 = 49\n",
      " 7x8 = 56\n",
      " 7x9 = 63\n",
      " 7x10 = 70\n",
      "End of Table 7\n",
      " 8x1 = 8\n",
      " 8x2 = 16\n",
      " 8x3 = 24\n",
      " 8x4 = 32\n",
      " 8x5 = 40\n",
      " 8x6 = 48\n",
      " 8x7 = 56\n",
      " 8x8 = 64\n",
      " 8x9 = 72\n",
      " 8x10 = 80\n",
      "End of Table 8\n",
      " 9x1 = 9\n",
      " 9x2 = 18\n",
      " 9x3 = 27\n",
      " 9x4 = 36\n",
      " 9x5 = 45\n",
      " 9x6 = 54\n",
      " 9x7 = 63\n",
      " 9x8 = 72\n",
      " 9x9 = 81\n",
      " 9x10 = 90\n",
      "End of Table 9\n",
      " 10x1 = 10\n",
      " 10x2 = 20\n",
      " 10x3 = 30\n",
      " 10x4 = 40\n",
      " 10x5 = 50\n",
      " 10x6 = 60\n",
      " 10x7 = 70\n",
      " 10x8 = 80\n",
      " 10x9 = 90\n",
      " 10x10 = 100\n",
      "End of Table 10\n"
     ]
    }
   ],
   "source": [
    "n = int(input())\n",
    "\n",
    "for i in range(1,n+1):\n",
    "    for j in range(1,n+1):\n",
    "        print(f\" {i}x{j} = {i*j}\")\n",
    "        if (j==10):\n",
    "            print(f\"End of Table {i}\")"
   ]
  },
  {
   "cell_type": "code",
   "execution_count": 111,
   "id": "7a879ad1-2099-4928-9269-5929d4c93483",
   "metadata": {},
   "outputs": [
    {
     "name": "stdout",
     "output_type": "stream",
     "text": [
      "[3, 1, 6, 2, 3, 2, 2, 1, 3, 3, 5, 5, 1, 6, 1, 2, 3, 6, 2, 4, 4, 1, 3, 4, 6, 4, 4, 1, 5, 1, 1, 1, 3, 3, 6, 6, 5, 6, 4, 2, 4, 2, 3, 4, 4, 2, 1, 3, 3, 4, 2, 4, 1, 5, 2, 4, 2, 1, 4, 6, 6, 5, 6, 6, 4, 5, 1, 5, 1, 1, 6, 4, 3, 4, 4, 2, 2, 6, 1, 1, 3, 6, 4, 5, 6, 3, 2, 5, 6, 3, 2, 1, 6, 1, 2, 5, 3, 2, 4],"
     ]
    }
   ],
   "source": [
    "import random\n",
    "a = [random.randint(1,6) for num in range(1,100)]\n",
    "print(a,end = ',')"
   ]
  },
  {
   "cell_type": "code",
   "execution_count": 123,
   "id": "2e21a720-6a4d-47ea-a09b-7ede494602b1",
   "metadata": {},
   "outputs": [
    {
     "name": "stdin",
     "output_type": "stream",
     "text": [
      " 10\n",
      " 1\n",
      " 2\n",
      " 3\n",
      " 4\n",
      " 5\n",
      " 6\n",
      " 7\n",
      " 8\n",
      " 9\n",
      " 10\n"
     ]
    },
    {
     "name": "stdout",
     "output_type": "stream",
     "text": [
      "[1, 2, 3, 4, 5, 6, 7, 8, 9, 10]\n",
      "[1, 4, 9]\n"
     ]
    }
   ],
   "source": [
    "n = int(input())\n",
    "a = []\n",
    "l = []\n",
    "for i in range(1,n+1):\n",
    "    val = int(input())\n",
    "    a.append(val)\n",
    "print(a)\n",
    "\n",
    "for i in a:\n",
    "    digit = i**0.5\n",
    "    if int(digit+0.5)**2 == i:\n",
    "        l.append(i)\n",
    "print(l)"
   ]
  },
  {
   "cell_type": "code",
   "execution_count": 158,
   "id": "cb0f0eca-b031-4d1e-9e33-cb68c76122eb",
   "metadata": {},
   "outputs": [
    {
     "name": "stdout",
     "output_type": "stream",
     "text": [
      "1\n"
     ]
    }
   ],
   "source": [
    "a = [10,8,1,4,2]\n",
    "min = a[0]\n",
    "for i in a:\n",
    "    if (i<min):\n",
    "        min = i\n",
    "print(min)"
   ]
  },
  {
   "cell_type": "code",
   "execution_count": 152,
   "id": "12a463e7-86e3-4409-b2fd-cf9c85e3fa38",
   "metadata": {},
   "outputs": [
    {
     "name": "stdout",
     "output_type": "stream",
     "text": [
      "dhdhduwjwmsmc,aiwiwb\n"
     ]
    }
   ],
   "source": [
    "a = \"hello how are you doing ashutosh akdjakd dhdhduwjwmsmc,aiwiwb\"\n",
    "b = a.split()\n",
    "max = 0\n",
    "for i in b:\n",
    "    if(len(i)>max):\n",
    "        max = len(i)\n",
    "print(i)"
   ]
  },
  {
   "cell_type": "code",
   "execution_count": 173,
   "id": "16423e8a-2523-4014-8da2-a2988b05d134",
   "metadata": {},
   "outputs": [
    {
     "name": "stdout",
     "output_type": "stream",
     "text": [
      "{'name': 1, 'marks': 2, 'wow': 3}\n"
     ]
    }
   ],
   "source": [
    "a = ['name','marks','wow']\n",
    "b = [1,2,3,4]\n",
    "\n",
    "c = dict(zip(a,b))\n"
   ]
  },
  {
   "cell_type": "code",
   "execution_count": 180,
   "id": "87eaa489-6cde-4540-8524-e612a7003113",
   "metadata": {},
   "outputs": [
    {
     "name": "stdout",
     "output_type": "stream",
     "text": [
      "[1, 2, 3, 4, 5, 1, 2, 3, 4, 5]\n"
     ]
    }
   ],
   "source": [
    "a = [1,2,3,4,5,6]\n",
    "print(a[:-1]+a[:-1])\n"
   ]
  },
  {
   "cell_type": "code",
   "execution_count": 3,
   "id": "c6ff92cd-2f64-498d-a8b9-1c1e4cb09149",
   "metadata": {},
   "outputs": [
    {
     "name": "stdout",
     "output_type": "stream",
     "text": [
      "['l', 'hu', 'fig', 'ashu', 'adoado']\n"
     ]
    }
   ],
   "source": [
    "a = ['ashu','fig','hu','l','adoado']\n",
    "\n",
    "for i in range(len(a)):\n",
    "    for j in range(i+1,len(a)):\n",
    "        if len(a[i])>len(a[j]):\n",
    "            a[i],a[j] = a[j],a[i]\n",
    "print(a)"
   ]
  },
  {
   "cell_type": "code",
   "execution_count": 4,
   "id": "6ac90936-60d4-481c-b76b-af9360a6547b",
   "metadata": {},
   "outputs": [
    {
     "name": "stdout",
     "output_type": "stream",
     "text": [
      "[1, 2, 3, 4, 64, 132]\n"
     ]
    }
   ],
   "source": [
    "a = [64,132,4,1,2,3]\n",
    "\n",
    "for i in range(len(a)):\n",
    "    for j in range(i+1,len(a)):\n",
    "        if a[i]>a[j]:\n",
    "            a[i],a[j] = a[j],a[i]\n",
    "print(a)"
   ]
  },
  {
   "cell_type": "code",
   "execution_count": 5,
   "id": "e1c1bab7-efb3-4647-aba6-45af9eb690b5",
   "metadata": {},
   "outputs": [
    {
     "name": "stdout",
     "output_type": "stream",
     "text": [
      "['l', 'pw', 'loo', 'low', 'high', 'Great', 'Meenal', 'ashutosh']\n"
     ]
    }
   ],
   "source": [
    "a = ['ashutosh','Meenal','Great','low','high','l','loo','pw']\n",
    "\n",
    "for i in range(len(a)):\n",
    "    for j in range(i+1,len(a)):\n",
    "        if len(a[i]) > len(a[j]):\n",
    "            a[i],a[j] = a[j],a[i]\n",
    "print(a)"
   ]
  },
  {
   "cell_type": "code",
   "execution_count": 6,
   "id": "82f4f448-ad47-4f9d-a558-44e61e24a576",
   "metadata": {},
   "outputs": [
    {
     "name": "stdout",
     "output_type": "stream",
     "text": [
      "[1, 3, 5, 14, 24, 35, 51, 64, 2445]\n"
     ]
    }
   ],
   "source": [
    "a = [24,2445,64,3,14,35,51,5,1]\n",
    "\n",
    "for i in range(len(a)):\n",
    "    for j in range(i+1,len(a)):\n",
    "        if a[i]>a[j]:\n",
    "            a[i],a[j] = a[j],a[i]\n",
    "print(a)"
   ]
  },
  {
   "cell_type": "code",
   "execution_count": 7,
   "id": "cff2f020-fb9c-40dd-952f-7b1f567659da",
   "metadata": {},
   "outputs": [
    {
     "name": "stdout",
     "output_type": "stream",
     "text": [
      "(1, 2, 3, 4, 1, 4, 9, 16)\n"
     ]
    }
   ],
   "source": [
    "a = (1,2,3,4)\n",
    "for i in a:\n",
    "    sq = i**2\n",
    "    a = a+(sq,)\n",
    "print(a)"
   ]
  },
  {
   "cell_type": "code",
   "execution_count": 8,
   "id": "a76076a3-3b71-4008-995c-b11e4199b1b6",
   "metadata": {},
   "outputs": [
    {
     "name": "stdin",
     "output_type": "stream",
     "text": [
      " 2\n",
      " 12\n",
      " 32\n"
     ]
    },
    {
     "name": "stdout",
     "output_type": "stream",
     "text": [
      "(12, 32, 144, 1024)\n"
     ]
    }
   ],
   "source": [
    "a = ()\n",
    "n = int(input())\n",
    "\n",
    "for j in range(1,n+1):\n",
    "    val = int(input())\n",
    "    a = a+(val,)\n",
    "\n",
    "for i in a:\n",
    "    sq = i**2\n",
    "    a = a + (sq,)\n",
    "print(a)"
   ]
  },
  {
   "cell_type": "code",
   "execution_count": 224,
   "id": "c94f3699-b2e3-44d9-a5c6-875edf606218",
   "metadata": {},
   "outputs": [
    {
     "name": "stdout",
     "output_type": "stream",
     "text": [
      "1\n",
      "2\n",
      "6\n",
      "24\n"
     ]
    }
   ],
   "source": []
  },
  {
   "cell_type": "code",
   "execution_count": 19,
   "id": "1d7e17b3-8360-42b5-b36e-d30919995a90",
   "metadata": {},
   "outputs": [
    {
     "name": "stdout",
     "output_type": "stream",
     "text": [
      "[24, 6, 5040, 720, 362880]\n"
     ]
    }
   ],
   "source": [
    "a = [4,3,7,6,9]\n",
    "l = []\n",
    "for i in a:\n",
    "    fact = 1\n",
    "    for j in range(1,i+1):\n",
    "        fact = fact * j\n",
    "    l.append(fact)\n",
    "print(l)"
   ]
  },
  {
   "cell_type": "code",
   "execution_count": 265,
   "id": "c00abd82-4395-4fea-9eb7-612e0f5c84f6",
   "metadata": {},
   "outputs": [
    {
     "name": "stdout",
     "output_type": "stream",
     "text": [
      "1\n",
      "2\n",
      "3\n",
      "4\n",
      "7\n"
     ]
    }
   ],
   "source": [
    "a = [1,2,3,4,5,7]\n",
    "b = [1,2,3,4,6,7]\n",
    "\n",
    "for i,j in zip(a,b):\n",
    "    if (i==j):\n",
    "        print(i)"
   ]
  },
  {
   "cell_type": "code",
   "execution_count": 268,
   "id": "4bde2af6-a920-4507-aaaf-52ab8f72e260",
   "metadata": {},
   "outputs": [
    {
     "name": "stdout",
     "output_type": "stream",
     "text": [
      "Palindrome\n"
     ]
    }
   ],
   "source": [
    "n = 1331\n",
    "temp = n\n",
    "rev = 0\n",
    "while(n!=0):\n",
    "    digit = n%10\n",
    "    rev = rev*10 + digit\n",
    "    n//=10\n",
    "if(rev == temp):\n",
    "    print(\"Palindrome\")\n",
    "else:\n",
    "    print(\"Not Palindrome\")"
   ]
  },
  {
   "cell_type": "code",
   "execution_count": 293,
   "id": "c3892586-4e18-4ef7-afae-240afd2d74e4",
   "metadata": {},
   "outputs": [
    {
     "name": "stdout",
     "output_type": "stream",
     "text": [
      "['olleh', 'dlrow']\n"
     ]
    }
   ],
   "source": [
    "a = ['hello','world']\n",
    "l = []\n",
    "for i in a:\n",
    "    rev = ''\n",
    "    for j in i:\n",
    "        rev = j + rev\n",
    "    l.append(rev)\n",
    "print(l)\n",
    "    "
   ]
  },
  {
   "cell_type": "code",
   "execution_count": 1,
   "id": "d224aa2a-1c3d-4943-8f76-b77ff2b8b893",
   "metadata": {},
   "outputs": [
    {
     "name": "stdout",
     "output_type": "stream",
     "text": [
      "AshutoshisnameMy\n"
     ]
    }
   ],
   "source": [
    "a = \"My name is Ashutosh\"\n",
    "b = a.split()\n",
    "rev = ''\n",
    "for i in b:\n",
    "    rev = i + rev\n",
    "print(rev)"
   ]
  },
  {
   "cell_type": "code",
   "execution_count": 6,
   "id": "356b8350-14ae-4b27-ae23-8d567885a23a",
   "metadata": {},
   "outputs": [
    {
     "name": "stdout",
     "output_type": "stream",
     "text": [
      "1 17\n",
      "2 14\n",
      "3 17\n",
      "4 19\n",
      "5 18\n",
      "6 15\n"
     ]
    }
   ],
   "source": [
    "import random\n",
    "frequency = [0]*6\n",
    "for j in range(100):\n",
    "    roll = random.randint(1,6)\n",
    "    frequency[roll-1]+=1\n",
    "for i,freq in enumerate(frequency,1):\n",
    "    print(i,freq)"
   ]
  },
  {
   "cell_type": "code",
   "execution_count": 12,
   "id": "1b74a63c-f46f-463f-8c7e-068f4c1a43ca",
   "metadata": {},
   "outputs": [
    {
     "name": "stdin",
     "output_type": "stream",
     "text": [
      " 4\n"
     ]
    },
    {
     "data": {
      "text/plain": [
       "[2, 3, 4, 5, 1]"
      ]
     },
     "execution_count": 12,
     "metadata": {},
     "output_type": "execute_result"
    }
   ],
   "source": [
    "def right(list,k):\n",
    "    k = k%len(list)\n",
    "    return list[-k:] + list[:-k]\n",
    "right([1,2,3,4,5],int(input()))"
   ]
  },
  {
   "cell_type": "code",
   "execution_count": 15,
   "id": "b07c385b-f336-4541-a788-91802c1ca2c4",
   "metadata": {},
   "outputs": [
    {
     "name": "stdout",
     "output_type": "stream",
     "text": [
      "[12, 13, 19, 23, 36, 40, 45, 67]\n"
     ]
    }
   ],
   "source": [
    "a = [23,12,45,13,67,19,40,36]\n",
    "\n",
    "for i in range(len(a)):\n",
    "    for j in range(i+1,len(a)):\n",
    "        if(a[i]>a[j]):\n",
    "            a[i],a[j] = a[j],a[i]\n",
    "print(a)      "
   ]
  },
  {
   "cell_type": "code",
   "execution_count": null,
   "id": "bd7de4d0-34d4-4337-857f-2e98cb79493b",
   "metadata": {},
   "outputs": [],
   "source": []
  }
 ],
 "metadata": {
  "kernelspec": {
   "display_name": "Python 3 (ipykernel)",
   "language": "python",
   "name": "python3"
  },
  "language_info": {
   "codemirror_mode": {
    "name": "ipython",
    "version": 3
   },
   "file_extension": ".py",
   "mimetype": "text/x-python",
   "name": "python",
   "nbconvert_exporter": "python",
   "pygments_lexer": "ipython3",
   "version": "3.11.7"
  }
 },
 "nbformat": 4,
 "nbformat_minor": 5
}
