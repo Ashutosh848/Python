{
  "nbformat": 4,
  "nbformat_minor": 0,
  "metadata": {
    "colab": {
      "provenance": []
    },
    "kernelspec": {
      "name": "python3",
      "display_name": "Python 3"
    },
    "language_info": {
      "name": "python"
    }
  },
  "cells": [
    {
      "cell_type": "code",
      "execution_count": null,
      "metadata": {
        "id": "Z04e64AF4qpg"
      },
      "outputs": [],
      "source": [
        "n = 5\n",
        "for r in range(1,n+1):\n",
        "    for c in range(r):\n",
        "        print(\"*\",end= '')\n",
        "    print()"
      ]
    },
    {
      "cell_type": "code",
      "source": [
        "n = 5\n",
        "for r in range(1,n+1):\n",
        "    for s in range(n-r):\n",
        "        print(\" \",end = '')\n",
        "    for c in range(1,r+1):\n",
        "        print(\"\",c,end = '')\n",
        "    print()\n"
      ],
      "metadata": {
        "colab": {
          "base_uri": "https://localhost:8080/"
        },
        "id": "2R_WylEe4sd8",
        "outputId": "fe5b3ac4-015a-4aaa-9c32-bac9fe259e2a"
      },
      "execution_count": null,
      "outputs": [
        {
          "output_type": "stream",
          "name": "stdout",
          "text": [
            "     1\n",
            "    1 2\n",
            "   1 2 3\n",
            "  1 2 3 4\n",
            " 1 2 3 4 5\n"
          ]
        }
      ]
    },
    {
      "cell_type": "code",
      "source": [
        "n = 5\n",
        "for r in range(1,n+1):\n",
        "\n",
        "    for c in range(n-r+1):\n",
        "        print(\"* \",end = '')\n",
        "    print()\n"
      ],
      "metadata": {
        "colab": {
          "base_uri": "https://localhost:8080/"
        },
        "id": "NixJLXoE4uVc",
        "outputId": "7bd086ef-27ce-4525-b5d3-15dd6f81e173"
      },
      "execution_count": null,
      "outputs": [
        {
          "output_type": "stream",
          "name": "stdout",
          "text": [
            "* * * * * \n",
            "* * * * \n",
            "* * * \n",
            "* * \n",
            "* \n"
          ]
        }
      ]
    },
    {
      "cell_type": "code",
      "source": [
        "n = 5\n",
        "for r in range(1,n+1):\n",
        "    for s in range(r-1):\n",
        "        print(\" \",end = '')\n",
        "    for c in range(n-r+1):\n",
        "        print(\"* \",end = '')\n",
        "    print()"
      ],
      "metadata": {
        "colab": {
          "base_uri": "https://localhost:8080/"
        },
        "id": "M1jaLB-W4xGH",
        "outputId": "53b8c290-8b39-497f-bd4f-4550b630f707"
      },
      "execution_count": null,
      "outputs": [
        {
          "output_type": "stream",
          "name": "stdout",
          "text": [
            "* * * * * \n",
            " * * * * \n",
            "  * * * \n",
            "   * * \n",
            "    * \n"
          ]
        }
      ]
    },
    {
      "cell_type": "code",
      "source": [
        "n = 5\n",
        "\n",
        "for r in range(1,2*n+1):\n",
        "    if(r<=n):\n",
        "        total = r\n",
        "    else:\n",
        "        total = 2*n-r\n",
        "    nfs = n-total\n",
        "    for s in range(nfs+1):\n",
        "        print(' ',end = '')\n",
        "    for c in range(1,total+1):\n",
        "        print(\"\",c,end = '')\n",
        "    print()"
      ],
      "metadata": {
        "colab": {
          "base_uri": "https://localhost:8080/"
        },
        "id": "yibSIbhB4yiX",
        "outputId": "092296c3-74dd-4d50-ba76-6054ae2911cb"
      },
      "execution_count": null,
      "outputs": [
        {
          "output_type": "stream",
          "name": "stdout",
          "text": [
            "      1\n",
            "     1 2\n",
            "    1 2 3\n",
            "   1 2 3 4\n",
            "  1 2 3 4 5\n",
            "   1 2 3 4\n",
            "    1 2 3\n",
            "     1 2\n",
            "      1\n",
            "      \n"
          ]
        }
      ]
    },
    {
      "cell_type": "code",
      "source": [
        "n = 5\n",
        "for r in range(1,2*n):\n",
        "    if(r<=n):\n",
        "        total = r\n",
        "    else:\n",
        "        total = 2*n-r\n",
        "    for c in range(1,total+1):\n",
        "        print(chr(65+c),end = '')\n",
        "    print()"
      ],
      "metadata": {
        "colab": {
          "base_uri": "https://localhost:8080/"
        },
        "id": "6kWTY51S40Vn",
        "outputId": "af6ddc86-19a8-4147-f52e-baa3385dc761"
      },
      "execution_count": null,
      "outputs": [
        {
          "output_type": "stream",
          "name": "stdout",
          "text": [
            "B\n",
            "BC\n",
            "BCD\n",
            "BCDE\n",
            "BCDEF\n",
            "BCDE\n",
            "BCD\n",
            "BC\n",
            "B\n"
          ]
        }
      ]
    },
    {
      "cell_type": "code",
      "source": [
        "n = 5\n",
        "\n",
        "for r in range(1,2*n+1):\n",
        "    if(r<=n):\n",
        "        total = n-r+1\n",
        "    else:\n",
        "        total = r-n\n",
        "    nfs = n - total\n",
        "    for s in range(nfs+1):\n",
        "        print(' ',end ='')\n",
        "    for c in range(1,total+1):\n",
        "        print(chr(65+c-1),end = '')\n",
        "    print()"
      ],
      "metadata": {
        "colab": {
          "base_uri": "https://localhost:8080/"
        },
        "id": "GGWVieB2414Z",
        "outputId": "7d1f177f-411c-4c5e-eb7c-83618e0b181b"
      },
      "execution_count": null,
      "outputs": [
        {
          "output_type": "stream",
          "name": "stdout",
          "text": [
            " ABCDE\n",
            "  ABCD\n",
            "   ABC\n",
            "    AB\n",
            "     A\n",
            "     A\n",
            "    AB\n",
            "   ABC\n",
            "  ABCD\n",
            " ABCDE\n"
          ]
        }
      ]
    },
    {
      "cell_type": "code",
      "source": [
        "n = 5\n",
        "for r in range(1,n+1):\n",
        "    for c in range(1,n+1):\n",
        "        if(r==1 or r==n or c == 1 or c==5):\n",
        "            print(chr(65+c-1),end = '')\n",
        "        else:\n",
        "            print(\" \",end = '')\n",
        "    print()"
      ],
      "metadata": {
        "colab": {
          "base_uri": "https://localhost:8080/"
        },
        "id": "vZxStqoZ43hr",
        "outputId": "8e72e562-e690-4e0c-83ac-8a5e434c044c"
      },
      "execution_count": null,
      "outputs": [
        {
          "output_type": "stream",
          "name": "stdout",
          "text": [
            "ABCDE\n",
            "A   E\n",
            "A   E\n",
            "A   E\n",
            "ABCDE\n"
          ]
        }
      ]
    },
    {
      "cell_type": "code",
      "source": [
        "n = 5\n",
        "for r in range(1,n+1):\n",
        "    for c in range(1,r+1):\n",
        "        if(r==5 or c==1 or c==r):\n",
        "            print(\"* \",end = '')\n",
        "        else:\n",
        "            print(\"  \",end = '')\n",
        "    print()"
      ],
      "metadata": {
        "colab": {
          "base_uri": "https://localhost:8080/"
        },
        "id": "03Yy4rqF45Db",
        "outputId": "54a54d28-f3b0-4fad-e9cd-593a4c30857b"
      },
      "execution_count": null,
      "outputs": [
        {
          "output_type": "stream",
          "name": "stdout",
          "text": [
            "* \n",
            "* * \n",
            "*   * \n",
            "*     * \n",
            "* * * * * \n"
          ]
        }
      ]
    },
    {
      "cell_type": "code",
      "source": [
        "n = 5\n",
        "for r in range(1,n+1):\n",
        "    for s in range(n-r):\n",
        "        print(\" \",end = '')\n",
        "    for c in range(1,r+1):\n",
        "        if( r==5 or c == 1 or c == r):\n",
        "            print(\"* \",end= '')\n",
        "        else:\n",
        "            print(\"  \",end = '')\n",
        "    print()"
      ],
      "metadata": {
        "colab": {
          "base_uri": "https://localhost:8080/"
        },
        "id": "yjaCeyl0463A",
        "outputId": "e4743585-33b6-45ef-9551-229d0ff99ed3"
      },
      "execution_count": null,
      "outputs": [
        {
          "output_type": "stream",
          "name": "stdout",
          "text": [
            "    * \n",
            "   * * \n",
            "  *   * \n",
            " *     * \n",
            "* * * * * \n"
          ]
        }
      ]
    },
    {
      "cell_type": "code",
      "source": [
        "n = 5\n",
        "for r in range(1,2*n+1):\n",
        "    if(r<=n):\n",
        "        total = r\n",
        "    else:\n",
        "        total = 2*n-r\n",
        "    nfs = n - total\n",
        "    for s in range(nfs+1):\n",
        "        print(' ',end = '')\n",
        "    for c in range(1,total+1):\n",
        "        if(c==1 or c==r or c == total):\n",
        "            print(\"* \",end = '')\n",
        "        else:\n",
        "            print(\"  \",end = '')\n",
        "    print()"
      ],
      "metadata": {
        "colab": {
          "base_uri": "https://localhost:8080/"
        },
        "id": "rokOphDh48QT",
        "outputId": "39a587cb-1f7c-46ff-f846-f2e067e86b4c"
      },
      "execution_count": null,
      "outputs": [
        {
          "output_type": "stream",
          "name": "stdout",
          "text": [
            "     * \n",
            "    * * \n",
            "   *   * \n",
            "  *     * \n",
            " *       * \n",
            "  *     * \n",
            "   *   * \n",
            "    * * \n",
            "     * \n",
            "      \n"
          ]
        }
      ]
    },
    {
      "cell_type": "code",
      "source": [
        "n = 5\n",
        "for r in range(1,2*n+1):\n",
        "    if(r<=n):\n",
        "        total = n-r+1\n",
        "    else:\n",
        "        total = r-n\n",
        "    nfs = n - total\n",
        "    for s in range(nfs+1):\n",
        "        print(\" \",end = '')\n",
        "    for c in range(1,total+1):\n",
        "        if(c==1 or c==total  or r==1 or r==2*n):\n",
        "            print(\"* \",end = '')\n",
        "        else:\n",
        "            print(\"  \",end = '')\n",
        "    print()"
      ],
      "metadata": {
        "colab": {
          "base_uri": "https://localhost:8080/"
        },
        "id": "-FKAYW345BbO",
        "outputId": "09c8b906-0615-4cd9-dea1-067fb6444e4d"
      },
      "execution_count": null,
      "outputs": [
        {
          "output_type": "stream",
          "name": "stdout",
          "text": [
            " * * * * * \n",
            "  *     * \n",
            "   *   * \n",
            "    * * \n",
            "     * \n",
            "     * \n",
            "    * * \n",
            "   *   * \n",
            "  *     * \n",
            " * * * * * \n"
          ]
        }
      ]
    },
    {
      "cell_type": "code",
      "source": [
        "n = 5\n",
        "\n",
        "for r in range(1,n+1):\n",
        "    for c in range(1,r+1):\n",
        "        if(c==1 or r==5 or c==r):\n",
        "            print(c,end= ' ')\n",
        "        else:\n",
        "            print('  ',end = '')\n",
        "    print()"
      ],
      "metadata": {
        "colab": {
          "base_uri": "https://localhost:8080/"
        },
        "id": "T0JIQIC25DEb",
        "outputId": "3d4f9855-25c4-45fa-d4b2-b6df47aae321"
      },
      "execution_count": null,
      "outputs": [
        {
          "output_type": "stream",
          "name": "stdout",
          "text": [
            "1 \n",
            "1 2 \n",
            "1   3 \n",
            "1     4 \n",
            "1 2 3 4 5 \n"
          ]
        }
      ]
    },
    {
      "cell_type": "code",
      "source": [
        "n = 5\n",
        "for r in range(1,n+1):\n",
        "    for s in range(n-r):\n",
        "        print(' ',end = '')\n",
        "    for c in range(1,r+1):\n",
        "        if(c==1 or r==5 or c==r):\n",
        "            print('* ',end = '')\n",
        "        else:\n",
        "            print('  ',end = '')\n",
        "    print()"
      ],
      "metadata": {
        "colab": {
          "base_uri": "https://localhost:8080/"
        },
        "id": "hUUyPxdU5FTW",
        "outputId": "2bc3daff-c279-406a-bb0f-6c81c2f2732f"
      },
      "execution_count": null,
      "outputs": [
        {
          "output_type": "stream",
          "name": "stdout",
          "text": [
            "    * \n",
            "   * * \n",
            "  *   * \n",
            " *     * \n",
            "* * * * * \n"
          ]
        }
      ]
    },
    {
      "cell_type": "code",
      "source": [
        "n = 5\n",
        "for r in range(1,2*n+1):\n",
        "    if(r<=n):\n",
        "        total = n-r+1\n",
        "    else:\n",
        "        total = r-n+1\n",
        "    for c in range(1,total+1):\n",
        "        if(c==1 or r==1 or c==total or r==2*n):\n",
        "            print('*',end = '')\n",
        "        else:\n",
        "            print(' ',end = '')\n",
        "    print()"
      ],
      "metadata": {
        "colab": {
          "base_uri": "https://localhost:8080/"
        },
        "id": "P4oQzo035GqE",
        "outputId": "732644eb-fd24-42db-e46c-566d337abe1a"
      },
      "execution_count": null,
      "outputs": [
        {
          "output_type": "stream",
          "name": "stdout",
          "text": [
            "*****\n",
            "*  *\n",
            "* *\n",
            "**\n",
            "*\n",
            "**\n",
            "* *\n",
            "*  *\n",
            "*   *\n",
            "******\n"
          ]
        }
      ]
    },
    {
      "cell_type": "code",
      "source": [
        "n = 5\n",
        "for r in range(1,n+1):\n",
        "    for c in range(1,r+1):\n",
        "        print(chr(65+c-1),end = '')\n",
        "    print()"
      ],
      "metadata": {
        "colab": {
          "base_uri": "https://localhost:8080/"
        },
        "id": "KwLidfnK5I75",
        "outputId": "90511a37-599c-47fd-c5a0-987c11eca6e7"
      },
      "execution_count": null,
      "outputs": [
        {
          "output_type": "stream",
          "name": "stdout",
          "text": [
            "A\n",
            "AB\n",
            "ABC\n",
            "ABCD\n",
            "ABCDE\n"
          ]
        }
      ]
    },
    {
      "cell_type": "code",
      "source": [
        "n = 5\n",
        "for r in range(1,n+1):\n",
        "    for s in range(n-r):\n",
        "        print(' ',end = '')\n",
        "    for c in range(1,r+1):\n",
        "        if(r==5 or c==1 or c==r):\n",
        "            print(c,end = '')\n",
        "        else:\n",
        "            print(\" \",end = '')\n",
        "    print()"
      ],
      "metadata": {
        "colab": {
          "base_uri": "https://localhost:8080/"
        },
        "id": "3jLmi-v95LrV",
        "outputId": "557324a8-9b2f-4f15-b502-3a8f6ee22860"
      },
      "execution_count": null,
      "outputs": [
        {
          "output_type": "stream",
          "name": "stdout",
          "text": [
            "    1\n",
            "   12\n",
            "  1 3\n",
            " 1  4\n",
            "12345\n"
          ]
        }
      ]
    },
    {
      "cell_type": "code",
      "source": [
        "n = 5\n",
        "for r in range(1,2*n):\n",
        "    if(r<=n):\n",
        "        total = r\n",
        "    else:\n",
        "        total = 2*n-r\n",
        "    for c in range(1,total+1):\n",
        "        if(c==1 or c==total):\n",
        "            print(\"* \",end = '')\n",
        "        else:\n",
        "            print(' ',end = '')\n",
        "    print()"
      ],
      "metadata": {
        "colab": {
          "base_uri": "https://localhost:8080/"
        },
        "id": "6EB7zOGm5Mzk",
        "outputId": "91bdb1a1-adb1-4f8a-848e-aafb8b5ce74d"
      },
      "execution_count": null,
      "outputs": [
        {
          "output_type": "stream",
          "name": "stdout",
          "text": [
            "* \n",
            "* * \n",
            "*  * \n",
            "*   * \n",
            "*    * \n",
            "*   * \n",
            "*  * \n",
            "* * \n",
            "* \n"
          ]
        }
      ]
    },
    {
      "cell_type": "code",
      "source": [
        "n = 5\n",
        "st = 68\n",
        "for r in range(1,n+1):\n",
        "    for c in range(1,r+1):\n",
        "        if(r==2):\n",
        "            print(chr(st),end = ' ')\n",
        "        elif(r==3):\n",
        "            print(chr(st),end = '  ')\n",
        "        elif(r==4):\n",
        "            print(chr(st),end = '   ')\n",
        "        elif(r==5):\n",
        "            print(chr(st),end = '    ')\n",
        "        else:\n",
        "            print(chr(st),end = '')\n",
        "        st+=1\n",
        "    print()"
      ],
      "metadata": {
        "colab": {
          "base_uri": "https://localhost:8080/"
        },
        "id": "9BvGKnT35PJD",
        "outputId": "43835b3f-c6eb-49cf-84d2-068bc91e54f5"
      },
      "execution_count": null,
      "outputs": [
        {
          "output_type": "stream",
          "name": "stdout",
          "text": [
            "D\n",
            "E F \n",
            "G  H  I  \n",
            "J   K   L   M   \n",
            "N    O    P    Q    R    \n"
          ]
        }
      ]
    },
    {
      "cell_type": "code",
      "source": [],
      "metadata": {
        "id": "VmdJSnHF5SvS"
      },
      "execution_count": null,
      "outputs": []
    }
  ]
}