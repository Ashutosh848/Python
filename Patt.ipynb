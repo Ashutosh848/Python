{
 "cells": [
  {
   "cell_type": "code",
   "execution_count": 25,
   "id": "d610b219-9308-4b99-ad7a-b0f398d3c0d4",
   "metadata": {},
   "outputs": [
    {
     "name": "stdout",
     "output_type": "stream",
     "text": [
      "54321\n",
      "4321\n",
      "321\n",
      "21\n",
      "1\n"
     ]
    }
   ],
   "source": [
    "n = 5\n",
    "for r in range(1,n+1):\n",
    "    num = 5\n",
    "    for c in range(1,n-r+2):\n",
    "        print(num-r+1,end = '')\n",
    "        num-=1\n",
    "    print()\n",
    "        "
   ]
  },
  {
   "cell_type": "code",
   "execution_count": 54,
   "id": "066869e7-22ce-4a07-b939-621fd4a905f9",
   "metadata": {},
   "outputs": [
    {
     "name": "stdout",
     "output_type": "stream",
     "text": [
      "    1\n",
      "   12\n",
      "  123\n",
      " 1234\n",
      "12345\n"
     ]
    }
   ],
   "source": [
    "n = 5\n",
    "for r in range(1,n+1):\n",
    "    num = 1\n",
    "    for s in range(1,n-r+1):\n",
    "        print(\" \",end = '')\n",
    "    for c in range(1,r+1):\n",
    "        print(num,end = '')\n",
    "        num+=1\n",
    "    print()"
   ]
  },
  {
   "cell_type": "code",
   "execution_count": 53,
   "id": "06cd0209-c337-46e4-8813-e696e5c26073",
   "metadata": {},
   "outputs": [
    {
     "name": "stdout",
     "output_type": "stream",
     "text": [
      "    A \n",
      "   B C \n",
      "  D E F \n",
      " G H I J \n",
      "K L M N O \n"
     ]
    }
   ],
   "source": [
    "n = 5\n",
    "num = 1\n",
    "for r in range(1,n+1):\n",
    "    \n",
    "    for s in range(1,n-r+1):\n",
    "        print(\" \",end ='')\n",
    "    for c in range(1,r+1):\n",
    "        print(chr(65+num-1),\"\",end = '')\n",
    "        num+=1\n",
    "    print()"
   ]
  },
  {
   "cell_type": "code",
   "execution_count": 1,
   "id": "5723d796-b274-4729-bcb3-75b83fecba2e",
   "metadata": {},
   "outputs": [
    {
     "name": "stdout",
     "output_type": "stream",
     "text": [
      "* * * * * * * * * * \n",
      "* * * *     * * * * \n",
      "* * *         * * * \n",
      "* *             * * \n",
      "*                 * \n"
     ]
    }
   ],
   "source": [
    "n = 5\n",
    "for r in range(1,n+1):\n",
    "    for c in range(1,n-r+2):\n",
    "        print(\"* \",end = '')\n",
    "    for s in range(1,r):\n",
    "        print(\"    \",end = '')\n",
    "    for f in range(1,n-r+2):\n",
    "        print(\"*\",end =' ')\n",
    "    print()"
   ]
  },
  {
   "cell_type": "code",
   "execution_count": 74,
   "id": "100db001-1598-45a9-a89e-a0031b41cfe5",
   "metadata": {},
   "outputs": [
    {
     "name": "stdout",
     "output_type": "stream",
     "text": [
      " *****\n",
      "  ****\n",
      "   ***\n",
      "    **\n",
      "     *\n"
     ]
    }
   ],
   "source": [
    "n = 5\n",
    "for r in range(1,n+1):\n",
    "    for s in range(1,r+1):\n",
    "        print(\" \",end = '')\n",
    "    for f in range(1,n-r+2):\n",
    "        print(\"*\",end ='')\n",
    "    print()\n",
    "    "
   ]
  },
  {
   "cell_type": "code",
   "execution_count": 87,
   "id": "3344a627-d7eb-493a-8380-ecc13325bae4",
   "metadata": {},
   "outputs": [
    {
     "name": "stdout",
     "output_type": "stream",
     "text": [
      "1 9 25 49 81 \n",
      "1 9 25 49 \n",
      "1 9 25 \n",
      "1 9 \n",
      "1 \n"
     ]
    }
   ],
   "source": [
    "n = 5\n",
    "\n",
    "for r in range(1,n+1):\n",
    "    num = 1\n",
    "    for c in range(1,n-r+2):\n",
    "        print(num**2,end = ' ')\n",
    "        num+=2\n",
    "    print()"
   ]
  },
  {
   "cell_type": "code",
   "execution_count": 2,
   "id": "1aa2ad8f-4886-472c-9bdf-600f57da1719",
   "metadata": {},
   "outputs": [
    {
     "name": "stdout",
     "output_type": "stream",
     "text": [
      "E\n",
      "DE\n",
      "CDE\n",
      "BCDE\n",
      "ABCDE\n"
     ]
    }
   ],
   "source": [
    "n = 5\n",
    "for r in range(1,n+1):\n",
    "    for c in range(1,r+1):\n",
    "        print(chr(68+c-r+1),end = '')\n",
    "    print()"
   ]
  },
  {
   "cell_type": "code",
   "execution_count": 93,
   "id": "6a251ad5-5c45-4080-92bd-5d59bde1f90d",
   "metadata": {},
   "outputs": [
    {
     "name": "stdout",
     "output_type": "stream",
     "text": [
      "1\n",
      "12\n",
      "321\n",
      "1234\n",
      "54321\n"
     ]
    }
   ],
   "source": [
    "n = 5\n",
    "num = 1\n",
    "for r in range(1,n+1):\n",
    "    for c in range(1,r+1):\n",
    "        if(r%2==0):\n",
    "            print(c,end = '')\n",
    "        else:\n",
    "            print(num +r-c,end = '')\n",
    "    print()"
   ]
  },
  {
   "cell_type": "code",
   "execution_count": 108,
   "id": "984d54b8-03a6-4bc9-8eab-bde5d924946c",
   "metadata": {},
   "outputs": [
    {
     "name": "stdout",
     "output_type": "stream",
     "text": [
      "1 3 5 7 9 \n",
      "1 3 5 7 \n",
      "1 3 5 \n",
      "1 3 \n",
      "1 \n"
     ]
    }
   ],
   "source": [
    "n = 5\n",
    "\n",
    "for r in range(1,n+1):\n",
    "    num = 1\n",
    "    for c in range(1,n-r+2):\n",
    "        print(num+c-1,end = ' ')\n",
    "        num+=1\n",
    "    print()"
   ]
  },
  {
   "cell_type": "code",
   "execution_count": 3,
   "id": "a8f9d9c7-e663-4bb2-88bb-30a7bb225026",
   "metadata": {},
   "outputs": [
    {
     "name": "stdout",
     "output_type": "stream",
     "text": [
      "*                 * \n",
      "* *             * * \n",
      "* * *         * * * \n",
      "* * * *     * * * * \n",
      "* * * * * * * * * * \n"
     ]
    }
   ],
   "source": [
    "n = 5\n",
    "\n",
    "for r in range(1,n+1):\n",
    "    for c in range(1,r+1):\n",
    "        print(\"* \",end = '')\n",
    "    for s in range(1,n-r+1):\n",
    "        print(\"    \",end = '')\n",
    "    for j in range(1,r+1):\n",
    "        print(\"* \",end = '')\n",
    "    print()"
   ]
  },
  {
   "cell_type": "code",
   "execution_count": 115,
   "id": "048ce2f3-df34-4b76-a6f9-7544c9d6465d",
   "metadata": {},
   "outputs": [
    {
     "name": "stdout",
     "output_type": "stream",
     "text": [
      "1 \n",
      "2 7 \n",
      "3 8 13 \n",
      "4 9 14 19 \n",
      "5 10 15 20 25 \n"
     ]
    }
   ],
   "source": [
    "n = 5\n",
    "\n",
    "for r in range(1,n+1):\n",
    "    num = 0\n",
    "    for c in range(1,r+1):\n",
    "        print(num+r,end = ' ')\n",
    "        num+=5\n",
    "    print()"
   ]
  },
  {
   "cell_type": "code",
   "execution_count": 116,
   "id": "cdb46000-9fd0-40d6-b8c7-8f8507439aa3",
   "metadata": {},
   "outputs": [
    {
     "name": "stdout",
     "output_type": "stream",
     "text": [
      "11111\n",
      "2222\n",
      "333\n",
      "44\n",
      "5\n"
     ]
    }
   ],
   "source": [
    "n = 5\n",
    "for r in range(1,n+1):\n",
    "    for c in range(1,n-r+2):\n",
    "        print(r,end = '')\n",
    "    print()"
   ]
  },
  {
   "cell_type": "code",
   "execution_count": 117,
   "id": "5e4d7ac0-8e6c-4ecd-8fe8-601f8b3b64f8",
   "metadata": {},
   "outputs": [
    {
     "name": "stdout",
     "output_type": "stream",
     "text": [
      "01234\n",
      "0123\n",
      "012\n",
      "01\n",
      "0\n"
     ]
    }
   ],
   "source": [
    "n = 5\n",
    "for r in range(1,n+1):\n",
    "    num = 0\n",
    "    for c in range(1,n-r+2):\n",
    "        print(num,end = '')\n",
    "        num+=1\n",
    "    print()"
   ]
  },
  {
   "cell_type": "code",
   "execution_count": 122,
   "id": "d88b7adb-76a9-4a31-a2b0-3e61f752341c",
   "metadata": {},
   "outputs": [
    {
     "name": "stdout",
     "output_type": "stream",
     "text": [
      "1\n",
      "33\n",
      "555\n",
      "7777\n",
      "99999\n"
     ]
    }
   ],
   "source": [
    "n = 5\n",
    "\n",
    "for r in range(1,n+1):\n",
    "    for c in range(1,r+1):\n",
    "        print(r*2-1,end = '')\n",
    "\n",
    "    print()"
   ]
  },
  {
   "cell_type": "code",
   "execution_count": 124,
   "id": "d8032350-0f20-424e-b908-cb339e7a88a9",
   "metadata": {},
   "outputs": [
    {
     "name": "stdout",
     "output_type": "stream",
     "text": [
      "5 5 5 5 5 \n",
      "4 4 4 4 \n",
      "3 3 3 \n",
      "2 2 \n",
      "1 \n"
     ]
    }
   ],
   "source": [
    "n = 5\n",
    "for r in range(1,n+1):\n",
    "    num = 5\n",
    "    for c in range(1,n-r+2):\n",
    "        print(num-r+1,end = ' ')\n",
    "    print()"
   ]
  },
  {
   "cell_type": "code",
   "execution_count": 129,
   "id": "d2250cb4-16b9-4b1c-9579-853918b9cc65",
   "metadata": {},
   "outputs": [
    {
     "name": "stdout",
     "output_type": "stream",
     "text": [
      "1\n",
      "21\n",
      "321\n",
      "4321\n",
      "54321\n"
     ]
    }
   ],
   "source": [
    "n = 5\n",
    "num = 1\n",
    "for r in range(1,n+1):\n",
    "    for c in range(1,r+1):\n",
    "        print(r-c+1,end = '')\n",
    "    print()"
   ]
  },
  {
   "cell_type": "code",
   "execution_count": 131,
   "id": "9cf3f7fd-5222-486c-a402-861acc6aa3e9",
   "metadata": {},
   "outputs": [
    {
     "name": "stdout",
     "output_type": "stream",
     "text": [
      "54321\n",
      "4321\n",
      "321\n",
      "21\n",
      "1\n"
     ]
    }
   ],
   "source": [
    "n = 5\n",
    "for r in range(1,n+1):\n",
    "    num=5\n",
    "    for c in range(1,n-r+2):\n",
    "        print(num-r+1,end = '')\n",
    "        num-=1\n",
    "    print()"
   ]
  },
  {
   "cell_type": "code",
   "execution_count": 139,
   "id": "0695c64b-a514-4aea-aa1d-4031b182b4c0",
   "metadata": {},
   "outputs": [
    {
     "name": "stdout",
     "output_type": "stream",
     "text": [
      "    1\n",
      "   12\n",
      "  123\n",
      " 1234\n",
      "12345\n"
     ]
    }
   ],
   "source": [
    "n = 5\n",
    "for r in range(1,n+1):\n",
    "    for s in range(1,n-r+1):\n",
    "        print(\" \",end ='')\n",
    "    for c in range(1,r+1):\n",
    "        print(c,end = '')\n",
    "    print()"
   ]
  },
  {
   "cell_type": "code",
   "execution_count": 145,
   "id": "85f559a3-7850-42f4-8ecc-6a9acd2e76b6",
   "metadata": {},
   "outputs": [
    {
     "name": "stdout",
     "output_type": "stream",
     "text": [
      "12345\n",
      "22345\n",
      "33345\n",
      "44445\n",
      "55555\n"
     ]
    }
   ],
   "source": [
    "n = 5\n",
    "for r in range(1,n+1):\n",
    "    for c in range(1,n+1):\n",
    "        if(c<=r):\n",
    "            print(r,end ='')\n",
    "        else:\n",
    "            print(c,end = '')\n",
    "    print()"
   ]
  },
  {
   "cell_type": "code",
   "execution_count": 147,
   "id": "2453357f-5ab0-429e-a0c1-0b7083c7e84f",
   "metadata": {},
   "outputs": [
    {
     "name": "stdout",
     "output_type": "stream",
     "text": [
      "1 \n",
      "2 4 \n",
      "3 6 9 \n",
      "4 8 12 16 \n",
      "5 10 15 20 25 \n"
     ]
    }
   ],
   "source": [
    "n = 5\n",
    "for r in range(1,n+1):\n",
    "    for c in range(1,r+1):\n",
    "        print(r*c,end = ' ')\n",
    "    print()"
   ]
  },
  {
   "cell_type": "code",
   "execution_count": 178,
   "id": "10f3295e-46d6-47b1-9e56-3da703af64d1",
   "metadata": {},
   "outputs": [
    {
     "name": "stdout",
     "output_type": "stream",
     "text": [
      "        * \n",
      "      * * * \n",
      "    *   *   * \n",
      "  *     *     * \n",
      "* * * * * * * * * \n"
     ]
    }
   ],
   "source": [
    "n = 5\n",
    "for r in range(1,n+1):\n",
    "    for s in range(1,n-r+1):\n",
    "        print('  ',end = '')\n",
    "    for c in range(1,r*2):\n",
    "        if(c==1 or r==5 or r==2 or r==c or c == r*2-1):\n",
    "            print(\"* \",end ='')\n",
    "        else:\n",
    "            print(\"  \",end = '')\n",
    "    print()"
   ]
  },
  {
   "cell_type": "code",
   "execution_count": 211,
   "id": "7cd27706-415a-41e2-9651-2ed2843f5e74",
   "metadata": {},
   "outputs": [
    {
     "name": "stdout",
     "output_type": "stream",
     "text": [
      "*        *\n",
      "**      **\n",
      "* *    * *\n",
      "*  *  *  *\n",
      "*   **   *\n",
      "*  *  *  *\n",
      "* *    * *\n",
      "**      **\n",
      "*        *\n"
     ]
    }
   ],
   "source": [
    "n = 5\n",
    "for r in range(1,2*n):\n",
    "    if(r<=n):\n",
    "        total = r\n",
    "    else:\n",
    "        total = 2*n-r\n",
    "    nfs = n - total\n",
    "    for c in range(1,total+1):\n",
    "        if(c==1 or c==total):\n",
    "            print(\"*\",end = '')\n",
    "        else:\n",
    "            print(\" \",end = '')\n",
    "    for s in range(nfs):\n",
    "        print(\"  \",end ='')\n",
    "    for j in range(1,total+1):\n",
    "        if(j==1 or j==total):\n",
    "         print(\"*\",end = '')\n",
    "        else:\n",
    "            print(\" \",end = '')\n",
    "    print()"
   ]
  },
  {
   "cell_type": "code",
   "execution_count": 217,
   "id": "a3f112b5-f94f-4bbd-816f-3db27af07200",
   "metadata": {},
   "outputs": [
    {
     "name": "stdout",
     "output_type": "stream",
     "text": [
      "* * * * * * * * * * \n",
      "* * * *     * * * * \n",
      "* * *         * * * \n",
      "* *             * * \n",
      "*                 * \n",
      "* *             * * \n",
      "* * *         * * * \n",
      "* * * *     * * * * \n",
      "* * * * * * * * * * \n"
     ]
    }
   ],
   "source": [
    "n = 5\n",
    "for r in range(1,2*n):\n",
    "    if(r<=n):\n",
    "        total = n-r+1\n",
    "    else:\n",
    "        total = r-n+1\n",
    "    nfs = n - total\n",
    "    for c in range(1,total+1):\n",
    "        print(\"* \",end = '')\n",
    "    for s in range(nfs):\n",
    "        print(\"    \",end = '')\n",
    "    for j in range(1,total+1):\n",
    "        print(\"* \",end ='')\n",
    "    print()"
   ]
  },
  {
   "cell_type": "code",
   "execution_count": 4,
   "id": "a450f36d-2e04-40c1-98be-6342fde978ab",
   "metadata": {},
   "outputs": [
    {
     "name": "stdout",
     "output_type": "stream",
     "text": [
      "56789\n",
      "6789\n",
      "789\n",
      "89\n",
      "9\n"
     ]
    }
   ],
   "source": [
    "n = 5\n",
    "for r in range(1,n+1):\n",
    "    num = 5\n",
    "    for c in range(1,n-r+2):\n",
    "        print(num+r-1,end = '')\n",
    "        num+=1\n",
    "    print()"
   ]
  },
  {
   "cell_type": "code",
   "execution_count": 6,
   "id": "93d13b20-b2fe-480d-9395-edeef61dddbc",
   "metadata": {},
   "outputs": [
    {
     "name": "stdout",
     "output_type": "stream",
     "text": [
      "54321\n",
      "4321\n",
      "321\n",
      "21\n",
      "1\n"
     ]
    }
   ],
   "source": [
    "n = 5\n",
    "for r in range(1,n+1):\n",
    "    num = 5\n",
    "    for c in range(1,n-r+2):\n",
    "        print(num-r+1,end = '')\n",
    "        num-=1\n",
    "    print()"
   ]
  },
  {
   "cell_type": "code",
   "execution_count": 7,
   "id": "3b08aaf7-881b-47cc-885c-0250f9385171",
   "metadata": {},
   "outputs": [
    {
     "name": "stdout",
     "output_type": "stream",
     "text": [
      "12345\n",
      "22345\n",
      "33345\n",
      "44445\n",
      "55555\n"
     ]
    }
   ],
   "source": [
    "n = 5\n",
    "for r in range(1,n+1):\n",
    "    for c in range(1,n+1):\n",
    "        if(c<=r):\n",
    "            print(r,end = '')\n",
    "        else:\n",
    "            print(c,end = '')\n",
    "    print()"
   ]
  },
  {
   "cell_type": "code",
   "execution_count": 10,
   "id": "7c11b1ad-dca2-40d7-b023-9f51739475cc",
   "metadata": {},
   "outputs": [
    {
     "name": "stdout",
     "output_type": "stream",
     "text": [
      "1  9  25  49  81  \n",
      "1  9  25  49  \n",
      "1  9  25  \n",
      "1  9  \n",
      "1  \n"
     ]
    }
   ],
   "source": [
    "n = 5\n",
    "for r in range(1,n+1):\n",
    "    num = 1\n",
    "    for c in range(1,n-r+2):\n",
    "        print(num**2,end = '  ')\n",
    "        num+=2\n",
    "    print()"
   ]
  },
  {
   "cell_type": "code",
   "execution_count": 19,
   "id": "e9c0230c-5448-4e61-89d5-d61dade0a753",
   "metadata": {},
   "outputs": [
    {
     "name": "stdout",
     "output_type": "stream",
     "text": [
      "E\n",
      "DE\n",
      "CDE\n",
      "BCDE\n",
      "ABCDE\n"
     ]
    }
   ],
   "source": [
    "n = 5\n",
    "for r in range(1,n+1):\n",
    "    for c in range(1,r+1):\n",
    "        print(chr(69+c-r),end = '')\n",
    "    print()"
   ]
  },
  {
   "cell_type": "code",
   "execution_count": 25,
   "id": "e6ddeeff-33d9-4c44-bed3-de1aae609d10",
   "metadata": {},
   "outputs": [
    {
     "name": "stdout",
     "output_type": "stream",
     "text": [
      "55555\n",
      "45555\n",
      "34555\n",
      "23455\n",
      "12345\n"
     ]
    }
   ],
   "source": [
    "n = 5\n",
    "for r in range(1,n+1):\n",
    "    num = 5\n",
    "    num1= 5\n",
    "    for c in range(1,n+1):\n",
    "        if(r>c):\n",
    "            print(num-r+1,end = '')\n",
    "            num+=1\n",
    "        else:\n",
    "            print(num1,end = '')\n",
    "            \n",
    "    print()"
   ]
  },
  {
   "cell_type": "code",
   "execution_count": 26,
   "id": "e8548929-64bb-40a0-a14c-204855d690dd",
   "metadata": {},
   "outputs": [
    {
     "name": "stdout",
     "output_type": "stream",
     "text": [
      "1\n",
      "12\n",
      "321\n",
      "1234\n",
      "54321\n"
     ]
    }
   ],
   "source": [
    "n = 5\n",
    "for r in range(1,n+1):\n",
    "    num = 0\n",
    "    for c in range(1,r+1):\n",
    "        if(r%2==0):\n",
    "            print(c,end = '')\n",
    "        else:\n",
    "            print(r-num,end = '')\n",
    "            num+=1\n",
    "    print()"
   ]
  },
  {
   "cell_type": "code",
   "execution_count": 32,
   "id": "ed5ee83a-75b1-4b37-acca-bc11e74421b3",
   "metadata": {},
   "outputs": [
    {
     "name": "stdout",
     "output_type": "stream",
     "text": [
      "[5, 6, 1, 2, 3, 4]\n"
     ]
    }
   ],
   "source": [
    "a = [1,2,3,4,5,6]\n",
    "\n",
    "print(a[-2:] +a[:-2])"
   ]
  },
  {
   "cell_type": "code",
   "execution_count": 43,
   "id": "1fc0a425-6787-4958-939b-1a7f99efd13c",
   "metadata": {},
   "outputs": [
    {
     "name": "stdout",
     "output_type": "stream",
     "text": [
      " again and hello makes perfect practice world\n"
     ]
    }
   ],
   "source": [
    "#hello world and practice makes perfect and hello world again\n",
    "a = 'hello world and practice makes perfect and hello world again'\n",
    "a = list(set(list(a.split())))\n",
    "\n",
    "for i in range(0,len(a)):\n",
    "    for j in range(i+1,len(a)):\n",
    "        if(a[i]>a[j]):\n",
    "            a[i],a[j] = a[j],a[i]\n",
    "st = ''\n",
    "for k in a:\n",
    "    st = st +\" \"+ k\n",
    "print(st)"
   ]
  },
  {
   "cell_type": "code",
   "execution_count": 48,
   "id": "6fe43c6e-91a3-45ab-b739-e7e461953934",
   "metadata": {},
   "outputs": [
    {
     "name": "stdout",
     "output_type": "stream",
     "text": [
      "sha\n"
     ]
    }
   ],
   "source": [
    "a = 'piyush sharma'\n",
    "b = ''\n",
    "c = ''\n",
    "for i in a:\n",
    "    if i not in b:\n",
    "        b=b+i\n",
    "    else:\n",
    "        c = c+i\n",
    "print(c)"
   ]
  },
  {
   "cell_type": "code",
   "execution_count": 52,
   "id": "86017eac-6931-45ca-9af0-ee197e285e84",
   "metadata": {},
   "outputs": [
    {
     "name": "stdout",
     "output_type": "stream",
     "text": [
      "[3, 6, 6]\n"
     ]
    }
   ],
   "source": [
    "a = [1,2,3,3,4,5,6,7,6,6]\n",
    "b = []\n",
    "c = []\n",
    "for i in a:\n",
    "    if i not in b:\n",
    "        b.append(i)\n",
    "    else:\n",
    "        c.append(i)\n",
    "print(c)"
   ]
  },
  {
   "cell_type": "code",
   "execution_count": 62,
   "id": "5ff64166-895b-4edd-9394-fbbe4e1e9fe0",
   "metadata": {},
   "outputs": [
    {
     "name": "stdout",
     "output_type": "stream",
     "text": [
      "{1: 'ashutosh', 2: 'vikram', 3: 'vikki', 4: 'yash'}\n"
     ]
    }
   ],
   "source": [
    "d = {1:'ashutosh',2:'vikram',3:'Deepak',4:'yash'}\n",
    "\n",
    "ls = list(d.keys())[-2]\n",
    "d[ls] = 'vikki'\n",
    "\n",
    "print(d)"
   ]
  },
  {
   "cell_type": "code",
   "execution_count": null,
   "id": "8d09dd76-afcf-4346-aebb-902b122640a4",
   "metadata": {},
   "outputs": [],
   "source": []
  }
 ],
 "metadata": {
  "kernelspec": {
   "display_name": "Python 3 (ipykernel)",
   "language": "python",
   "name": "python3"
  },
  "language_info": {
   "codemirror_mode": {
    "name": "ipython",
    "version": 3
   },
   "file_extension": ".py",
   "mimetype": "text/x-python",
   "name": "python",
   "nbconvert_exporter": "python",
   "pygments_lexer": "ipython3",
   "version": "3.11.7"
  }
 },
 "nbformat": 4,
 "nbformat_minor": 5
}
