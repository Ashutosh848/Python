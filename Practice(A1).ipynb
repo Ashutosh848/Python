{
 "cells": [
  {
   "cell_type": "code",
   "execution_count": 7,
   "id": "1fc3dfe9-84cd-4772-8aa5-9b92ad37768d",
   "metadata": {},
   "outputs": [
    {
     "name": "stdout",
     "output_type": "stream",
     "text": [
      "[1, 2, 5, 4, 3, 2, 1]\n"
     ]
    }
   ],
   "source": [
    "a = [1,2,3,4,5,2,1]\n",
    "rev = []\n",
    "for i in range(len(a)-1,-1,-1):\n",
    "    rev.append(a[i])\n",
    "print(rev)"
   ]
  },
  {
   "cell_type": "code",
   "execution_count": 11,
   "id": "84aa21fa-129e-439a-b798-049ede9b25cc",
   "metadata": {},
   "outputs": [
    {
     "name": "stdout",
     "output_type": "stream",
     "text": [
      "3\n"
     ]
    }
   ],
   "source": [
    "a = ['abc','xyz','aba','1221','shs']\n",
    "count = 0\n",
    "for i in a:\n",
    "    if(len(i)>2 and i[0]==i[-1]):\n",
    "        count+=1\n",
    "print(count)"
   ]
  },
  {
   "cell_type": "code",
   "execution_count": 42,
   "id": "64a1dce4-96af-4fcb-b119-20cf9cef32bb",
   "metadata": {},
   "outputs": [
    {
     "name": "stdout",
     "output_type": "stream",
     "text": [
      "[(2, 1), (1, 2), (2, 3), (4, 4), (2, 5)]\n"
     ]
    }
   ],
   "source": [
    "a = [(2, 5), (1, 2), (4, 4), (2, 3), (2, 1)]\n",
    "for i in range(0,len(a)):\n",
    "    for j in range(i+1,len(a)):\n",
    "        if(a[i][-1]>a[j][-1]):\n",
    "            a[i],a[j] = a[j],a[i]\n",
    "print(a)"
   ]
  },
  {
   "cell_type": "code",
   "execution_count": 81,
   "id": "9fcd6f65-023b-4d5e-8b00-6659839e85ac",
   "metadata": {},
   "outputs": [
    {
     "name": "stdout",
     "output_type": "stream",
     "text": [
      "[10, 20]\n"
     ]
    }
   ],
   "source": [
    "a = [10,20,10,10,20,40,50]\n",
    "#Output = [10,20]\n",
    "dup = []\n",
    "for i in range(0,len(a)):\n",
    "    for j in range(i+1,len(a)):\n",
    "        if(a[i] == a[j]):\n",
    "            if(a[i] not in dup):\n",
    "                dup.append(a[i])\n",
    "print(dup)"
   ]
  },
  {
   "cell_type": "code",
   "execution_count": 102,
   "id": "7355a54f-7b35-4dc9-9d75-28429063172e",
   "metadata": {},
   "outputs": [
    {
     "name": "stdout",
     "output_type": "stream",
     "text": [
      "[10, 20, 30, 50, 60, 40, 80]\n"
     ]
    }
   ],
   "source": [
    "a = [10, 20, 30, 20, 10, 50, 60, 40, 80, 50,20,40, 40]\n",
    "\n",
    "uni = []\n",
    "for i in range(0,len(a)):\n",
    "    for j in range(i+1,len(a)):\n",
    "            if(a[i] not in uni):\n",
    "                uni.append(a[i])   \n",
    "print(uni)"
   ]
  },
  {
   "cell_type": "code",
   "execution_count": 121,
   "id": "806f49b3-16a4-4d56-a71e-488c3f7319f5",
   "metadata": {},
   "outputs": [
    {
     "name": "stdout",
     "output_type": "stream",
     "text": [
      "['quick', 'brown', 'jumps', 'over', 'lazy']\n"
     ]
    }
   ],
   "source": [
    "a = \"The quick brown fox jumps over the lazy dog\".split()\n",
    "n = 3\n",
    "nes = []\n",
    "\n",
    "for i in a:\n",
    "    count = 0\n",
    "    for j in i:\n",
    "        count+=1\n",
    "        if(count>n):\n",
    "            if(i not in nes):\n",
    "                nes.append(i)\n",
    "print(nes)\n"
   ]
  },
  {
   "cell_type": "code",
   "execution_count": 128,
   "id": "dd3378ef-3efa-45c5-ac01-b414bc2ae5f3",
   "metadata": {},
   "outputs": [
    {
     "name": "stdout",
     "output_type": "stream",
     "text": [
      "{10: 4, 20: 4, 40: 2, 50: 2, 30: 1}\n"
     ]
    }
   ],
   "source": [
    "mydict = {}\n",
    "lis =  [10, 10, 10, 10, 20, 20, 20, 20, 40, 40, 50, 50, 30]\n",
    "\n",
    "for i in lis:\n",
    "    count = 0\n",
    "    if i not in mydict:\n",
    "        mydict[i] = 1\n",
    "    else:\n",
    "        mydict[i]+=1\n",
    "print(mydict)"
   ]
  },
  {
   "cell_type": "code",
   "execution_count": 134,
   "id": "1b1a060a-2852-48be-833f-2aab7c0d867a",
   "metadata": {},
   "outputs": [
    {
     "name": "stdout",
     "output_type": "stream",
     "text": [
      "{'Ten': 10, 'Twenty': 20, 'Thirty': 30}\n"
     ]
    }
   ],
   "source": [
    "keys = ['Ten', 'Twenty', 'Thirty']\n",
    "values = [10, 20, 30]\n",
    "mydict = {}\n",
    "for i,j in zip(keys,values):\n",
    "    mydict[i] = j\n",
    "print(mydict)"
   ]
  },
  {
   "cell_type": "code",
   "execution_count": 153,
   "id": "3582f484-4020-4045-ad61-d96c83787ae2",
   "metadata": {},
   "outputs": [
    {
     "name": "stdout",
     "output_type": "stream",
     "text": [
      "\n",
      "\n",
      "\n",
      "\n"
     ]
    }
   ],
   "source": [
    "strs = [\"dog\",\"racecar\",\"car\"]\n",
    "rev = ''\n",
    "for i in range(0,len(strs)):\n",
    "    for j in range(i+1,len(strs)):\n",
    "        if(strs[i][0:2]!=strs[j][0:2]):\n",
    "            print(rev)\n",
    "        else:\n",
    "            if(strs[i][0:2] not in rev):\n",
    "                rev = rev+strs[i][0:2]\n",
    "print(rev)"
   ]
  },
  {
   "cell_type": "code",
   "execution_count": null,
   "id": "52f86b4d-8a4f-490b-9f56-8316b7ccce56",
   "metadata": {},
   "outputs": [],
   "source": []
  }
 ],
 "metadata": {
  "kernelspec": {
   "display_name": "Python 3 (ipykernel)",
   "language": "python",
   "name": "python3"
  },
  "language_info": {
   "codemirror_mode": {
    "name": "ipython",
    "version": 3
   },
   "file_extension": ".py",
   "mimetype": "text/x-python",
   "name": "python",
   "nbconvert_exporter": "python",
   "pygments_lexer": "ipython3",
   "version": "3.11.7"
  }
 },
 "nbformat": 4,
 "nbformat_minor": 5
}
