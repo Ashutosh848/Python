{
 "cells": [
  {
   "cell_type": "code",
   "execution_count": 12,
   "id": "cb02dd63-3cf2-4e6f-a902-60b176e0ad1c",
   "metadata": {},
   "outputs": [
    {
     "name": "stdout",
     "output_type": "stream",
     "text": [
      "5\n"
     ]
    }
   ],
   "source": [
    "mylist = [1,2,2,5,8,4,4,8]\n",
    "my = []\n",
    "count = 0\n",
    "for i in range(0,len(mylist)):\n",
    "    if(mylist[i] not in my):\n",
    "        my.append(mylist[i])\n",
    "        count+=1\n",
    "    else:\n",
    "        pass\n",
    "    \n",
    "print(count)"
   ]
  },
  {
   "cell_type": "code",
   "execution_count": 20,
   "id": "a89a878e-6eca-4e17-9cd7-e7524afca5d4",
   "metadata": {},
   "outputs": [
    {
     "name": "stdout",
     "output_type": "stream",
     "text": [
      "milindmali108@gmail.com\n"
     ]
    }
   ],
   "source": [
    "str = \"Hi my name is Govind Das and my mail id is milindmali108@gmail.com and my org\".split()\n",
    "for i in str:\n",
    "    if(i.endswith('.com')):\n",
    "        print(i)"
   ]
  },
  {
   "cell_type": "code",
   "execution_count": null,
   "id": "37bba78b-dcb0-4418-89f8-d8954c768ff7",
   "metadata": {},
   "outputs": [],
   "source": []
  }
 ],
 "metadata": {
  "kernelspec": {
   "display_name": "Python 3 (ipykernel)",
   "language": "python",
   "name": "python3"
  },
  "language_info": {
   "codemirror_mode": {
    "name": "ipython",
    "version": 3
   },
   "file_extension": ".py",
   "mimetype": "text/x-python",
   "name": "python",
   "nbconvert_exporter": "python",
   "pygments_lexer": "ipython3",
   "version": "3.11.7"
  }
 },
 "nbformat": 4,
 "nbformat_minor": 5
}
