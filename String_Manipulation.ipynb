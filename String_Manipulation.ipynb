{
 "cells": [
  {
   "cell_type": "code",
   "execution_count": 2,
   "id": "91601500-f063-4436-97ee-23cc99ad421d",
   "metadata": {},
   "outputs": [
    {
     "name": "stdout",
     "output_type": "stream",
     "text": [
      "hsotuhsA\n"
     ]
    }
   ],
   "source": [
    "a = \"Ashutosh\"\n",
    "rev = ''\n",
    "for i in a:\n",
    "    rev = i + rev\n",
    "print(rev)"
   ]
  },
  {
   "cell_type": "code",
   "execution_count": 5,
   "id": "04ccc9d1-feb4-4829-abd5-4d82f29d2f5c",
   "metadata": {},
   "outputs": [
    {
     "name": "stdout",
     "output_type": "stream",
     "text": [
      "Palindrome\n"
     ]
    }
   ],
   "source": [
    "a = \"racecar\"\n",
    "temp = a\n",
    "rev = ''\n",
    "for i in a:\n",
    "    rev = i + rev\n",
    "if(rev==temp):\n",
    "    print(\"Palindrome\")\n",
    "else:\n",
    "    print(\"Not\")"
   ]
  },
  {
   "cell_type": "code",
   "execution_count": 11,
   "id": "1d6c6bdd-5f69-452f-ba12-9e336a200d80",
   "metadata": {},
   "outputs": [
    {
     "data": {
      "text/plain": [
       "'hu'"
      ]
     },
     "execution_count": 11,
     "metadata": {},
     "output_type": "execute_result"
    }
   ],
   "source": [
    "def sub(a,s,e):\n",
    "    return a[s:e]\n",
    "sub('ashutosh',2,4)"
   ]
  },
  {
   "cell_type": "code",
   "execution_count": 24,
   "id": "d7b3809b-6ec0-4409-8dc9-09a2bd182e41",
   "metadata": {},
   "outputs": [
    {
     "name": "stdout",
     "output_type": "stream",
     "text": [
      "ashu\n",
      "1\n"
     ]
    }
   ],
   "source": [
    "def st(a,s,e):\n",
    "    b = a[0:4]\n",
    "    print(b)\n",
    "    print(b.index('s'))\n",
    "st('ashutosh',0,4)"
   ]
  },
  {
   "cell_type": "code",
   "execution_count": 29,
   "id": "b292b3a2-6204-40f9-a4cc-00de45d9b22c",
   "metadata": {},
   "outputs": [
    {
     "name": "stdout",
     "output_type": "stream",
     "text": [
      "{'t', 'h', 's', 'u', 'o', 'A'}\n"
     ]
    }
   ],
   "source": [
    "a = \"Ashutoshhh\"\n",
    "b = set(a)\n",
    "print(b)"
   ]
  },
  {
   "cell_type": "code",
   "execution_count": 31,
   "id": "3fd75d6f-c637-4cbd-bcbf-3694fd87d8d9",
   "metadata": {},
   "outputs": [
    {
     "name": "stdout",
     "output_type": "stream",
     "text": [
      "3\n"
     ]
    }
   ],
   "source": [
    "a = 'asshuttoshh'\n",
    "c = 's'\n",
    "count = 0\n",
    "for i in a:\n",
    "    if(i==c):\n",
    "        count+=1\n",
    "print(count)"
   ]
  },
  {
   "cell_type": "code",
   "execution_count": 34,
   "id": "ed8c75c3-c90d-4605-a984-6351324dbd50",
   "metadata": {},
   "outputs": [
    {
     "data": {
      "text/plain": [
       "'aashuutoshhhh'"
      ]
     },
     "execution_count": 34,
     "metadata": {},
     "output_type": "execute_result"
    }
   ],
   "source": [
    "a = 'aashuutoshhhh     '\n",
    "a.strip()"
   ]
  },
  {
   "cell_type": "code",
   "execution_count": 48,
   "id": "eedde6c1-5a65-436e-8849-dff97ddeb8f1",
   "metadata": {},
   "outputs": [
    {
     "name": "stdout",
     "output_type": "stream",
     "text": [
      "Meenal Yashika Ashutosh \n"
     ]
    }
   ],
   "source": [
    "a = ['Ashutosh','Yashika','Meenal']\n",
    "rev = ''\n",
    "for i in a:\n",
    "    rev = i +\" \" + rev\n",
    "print(rev)"
   ]
  },
  {
   "cell_type": "code",
   "execution_count": 46,
   "id": "6b2ebe3f-3484-4de0-8ab9-e34f26db4654",
   "metadata": {},
   "outputs": [
    {
     "name": "stdout",
     "output_type": "stream",
     "text": [
      "ashutohstiwa\n"
     ]
    }
   ],
   "source": []
  },
  {
   "cell_type": "code",
   "execution_count": 45,
   "id": "4ef38681-a826-404e-aba9-876ab5d3ad56",
   "metadata": {},
   "outputs": [
    {
     "name": "stdout",
     "output_type": "stream",
     "text": [
      "ashutoshisnamemy\n"
     ]
    }
   ],
   "source": []
  },
  {
   "cell_type": "code",
   "execution_count": 57,
   "id": "dab50284-22e2-4927-814f-f767d23ce809",
   "metadata": {},
   "outputs": [
    {
     "name": "stdout",
     "output_type": "stream",
     "text": [
      "0\n",
      "\n",
      "1 1\n",
      "\n",
      "2 3 5\n",
      "\n",
      "8 13 21 34\n",
      "\n",
      "55 89 144 233 377\n",
      "\n"
     ]
    }
   ],
   "source": [
    "def uo(rows):\n",
    "    a,b = 0,1\n",
    "    for i in range(rows):\n",
    "        row_fb = []\n",
    "        for j in range(i+1):\n",
    "            row_fb.append(a)\n",
    "            a,b = b,a+b\n",
    "        print(' '.join(map(str,row_fb)))\n",
    "        print()\n",
    "uo(5)"
   ]
  },
  {
   "cell_type": "code",
   "execution_count": null,
   "id": "d0c43a38-8545-48b1-8396-53c3097afd55",
   "metadata": {},
   "outputs": [],
   "source": []
  }
 ],
 "metadata": {
  "kernelspec": {
   "display_name": "Python 3 (ipykernel)",
   "language": "python",
   "name": "python3"
  },
  "language_info": {
   "codemirror_mode": {
    "name": "ipython",
    "version": 3
   },
   "file_extension": ".py",
   "mimetype": "text/x-python",
   "name": "python",
   "nbconvert_exporter": "python",
   "pygments_lexer": "ipython3",
   "version": "3.11.7"
  }
 },
 "nbformat": 4,
 "nbformat_minor": 5
}
