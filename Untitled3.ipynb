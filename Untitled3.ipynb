{
 "cells": [
  {
   "cell_type": "code",
   "execution_count": 6,
   "id": "b291c7df-4aa2-4374-bb10-fa16ebb4efc3",
   "metadata": {},
   "outputs": [
    {
     "name": "stdout",
     "output_type": "stream",
     "text": [
      "3\n",
      "47\n"
     ]
    }
   ],
   "source": [
    "a = [12,3,4,47,5,6,16]\n",
    "max = 0\n",
    "\n",
    "for i in a:\n",
    "    if(i >max):\n",
    "        max = i\n",
    "print(a.index(max))\n",
    "print(max)"
   ]
  },
  {
   "cell_type": "code",
   "execution_count": 10,
   "id": "2ad96b16-ee7a-415c-ab9a-3069859c65f3",
   "metadata": {},
   "outputs": [
    {
     "name": "stdout",
     "output_type": "stream",
     "text": [
      "120\n"
     ]
    }
   ],
   "source": [
    "n = 5\n",
    "fact = 1\n",
    "\n",
    "for i in range(1,n+1):\n",
    "    fact = fact*i\n",
    "print(fact)"
   ]
  },
  {
   "cell_type": "code",
   "execution_count": 11,
   "id": "8329ab2d-721f-4b88-954a-49a52a41ea62",
   "metadata": {},
   "outputs": [
    {
     "name": "stdin",
     "output_type": "stream",
     "text": [
      " 2\n",
      " 3\n",
      " 4\n",
      " 2\n",
      " 0\n"
     ]
    }
   ],
   "source": [
    "n = int(input())\n",
    "while(n!=0):\n",
    "    n = int(input())"
   ]
  },
  {
   "cell_type": "code",
   "execution_count": 12,
   "id": "89bdc468-732b-4e93-bfca-f02abd8a833b",
   "metadata": {},
   "outputs": [
    {
     "name": "stdout",
     "output_type": "stream",
     "text": [
      "AKDAKD\n",
      "ASDKAL\n",
      "LASDKLAKD\n"
     ]
    }
   ],
   "source": [
    "a = ['akdakd','asdkal','lasdklakd']\n",
    "for i in a:\n",
    "    print(i.upper())"
   ]
  },
  {
   "cell_type": "code",
   "execution_count": 14,
   "id": "ff436cdc-2f57-49a9-a9d6-03f2e84c9c36",
   "metadata": {},
   "outputs": [
    {
     "name": "stdout",
     "output_type": "stream",
     "text": [
      "321\n"
     ]
    }
   ],
   "source": [
    "n = 123\n",
    "rev = 0\n",
    "\n",
    "while(n!=0):\n",
    "    digit = n%10\n",
    "    rev = (rev*10) + digit\n",
    "    n//=10\n",
    "print(rev)"
   ]
  },
  {
   "cell_type": "code",
   "execution_count": 17,
   "id": "0c085461-080e-44f6-8b88-f560177e705e",
   "metadata": {},
   "outputs": [
    {
     "name": "stdout",
     "output_type": "stream",
     "text": [
      "0\n",
      "1\n",
      "1\n",
      "2\n",
      "3\n",
      "5\n",
      "8\n",
      "13\n",
      "21\n",
      "34\n"
     ]
    }
   ],
   "source": [
    "a = 0\n",
    "b = 1\n",
    "n = 1\n",
    "while n <= 10:\n",
    "    print(a)\n",
    "    a, b = b, a + b\n",
    "    n += 1 "
   ]
  },
  {
   "cell_type": "code",
   "execution_count": 22,
   "id": "17d09522-2b8b-42c5-8f7f-2d9fddb2a405",
   "metadata": {},
   "outputs": [
    {
     "name": "stdout",
     "output_type": "stream",
     "text": [
      "as : 1\n",
      "sdja : 12\n",
      "asd : 76\n",
      "uyw : 34\n"
     ]
    }
   ],
   "source": [
    "d = {'as':1,'sdja':12,'asd':76,'uyw':34}\n",
    "for i,j in d.items():\n",
    "    print(i,':',j)\n",
    "    "
   ]
  },
  {
   "cell_type": "code",
   "execution_count": 23,
   "id": "ef4813db-9885-4be1-9724-f798479f9a7f",
   "metadata": {},
   "outputs": [
    {
     "name": "stdout",
     "output_type": "stream",
     "text": [
      "6\n"
     ]
    }
   ],
   "source": [
    "n =123\n",
    "sum =0 \n",
    "while(n!=0):\n",
    "    d = n%10\n",
    "    sum = d+sum\n",
    "    n//=10\n",
    "print(sum)"
   ]
  },
  {
   "cell_type": "code",
   "execution_count": 24,
   "id": "b1618aeb-c84e-4814-be6f-450ab498aa89",
   "metadata": {},
   "outputs": [
    {
     "name": "stdout",
     "output_type": "stream",
     "text": [
      "hsotuhsA\n"
     ]
    }
   ],
   "source": [
    "a = \"Ashutosh\"\n",
    "rev = ''\n",
    "\n",
    "for i in a:\n",
    "    rev = i+rev\n",
    "print(rev)"
   ]
  },
  {
   "cell_type": "code",
   "execution_count": 39,
   "id": "17f6a749-6ee4-46eb-a10c-9b263f34aaf1",
   "metadata": {},
   "outputs": [
    {
     "name": "stdout",
     "output_type": "stream",
     "text": [
      "16\n",
      "aadjadkjsadddddd\n"
     ]
    }
   ],
   "source": [
    "a = ['akdakd','asdkal','lasdklakd','aadjadkjsadddddd']\n",
    "max = 0\n",
    "for i in a:\n",
    "    if(len(i)>max):\n",
    "        max = len(i)\n",
    "print(len(i))\n",
    "print(i)"
   ]
  },
  {
   "cell_type": "code",
   "execution_count": 40,
   "id": "79555204-bd31-4a8a-b84d-b2a088f255be",
   "metadata": {},
   "outputs": [
    {
     "name": "stdout",
     "output_type": "stream",
     "text": [
      "akdakd\n",
      "iqoq\n"
     ]
    }
   ],
   "source": [
    "a = ['akdakd','klk','iqoq','ytoe']\n",
    "for i in a:\n",
    "    if(i[0]=='a' or i[0]=='e' or i[0]=='i' or i[0]=='o' or i[0]=='u'):\n",
    "        print(i)"
   ]
  },
  {
   "cell_type": "code",
   "execution_count": 56,
   "id": "576767d9-8283-47fc-a71c-cfcf43214d16",
   "metadata": {},
   "outputs": [
    {
     "name": "stdout",
     "output_type": "stream",
     "text": [
      "[4, 16, 36, 64, 400]\n"
     ]
    }
   ],
   "source": [
    "a = [1,2,3,4,5,6,7,8,20]\n",
    "l = []\n",
    "for i in a:\n",
    "    if(i%2==0):\n",
    "        l.append(i**2)\n",
    "print(l)"
   ]
  },
  {
   "cell_type": "code",
   "execution_count": 58,
   "id": "855fe0d8-4b24-4de6-8f7f-467f5734bfe5",
   "metadata": {},
   "outputs": [
    {
     "name": "stdout",
     "output_type": "stream",
     "text": [
      "120\n"
     ]
    }
   ],
   "source": [
    "n = 1\n",
    "fact = 1\n",
    "while(n<=5):\n",
    "    fact = fact * n\n",
    "    n+=1\n",
    "print(fact)"
   ]
  },
  {
   "cell_type": "code",
   "execution_count": 67,
   "id": "3cfa6158-becd-4e8e-bb44-6a7bfcc2b6d8",
   "metadata": {},
   "outputs": [
    {
     "name": "stdout",
     "output_type": "stream",
     "text": [
      "24\n",
      "137\n"
     ]
    }
   ],
   "source": [
    "a = [12,3,4,5]\n",
    "b = [32,4,35,66]\n",
    "sum = 0\n",
    "sum2 = 0\n",
    "for i in zip(a,b):\n",
    "    sum = sum + i[0]\n",
    "    sum2 = sum2+i[1]\n",
    "print(sum)\n",
    "print(sum2)"
   ]
  },
  {
   "cell_type": "code",
   "execution_count": 68,
   "id": "8aedde97-206a-4a18-a714-cc2de4a9b8ba",
   "metadata": {},
   "outputs": [
    {
     "name": "stdout",
     "output_type": "stream",
     "text": [
      "akdakd\n",
      "asdkal\n",
      "lasdklakd\n",
      "aadjadkjsadddddd\n"
     ]
    }
   ],
   "source": [
    "a = ['jd','iwis','ia','akdakd','asdkal','jda','adja','lasdklakd','aadjadkjsadddddd']\n",
    "for i in a:\n",
    "    if(len(i)>5):\n",
    "        print(i)"
   ]
  },
  {
   "cell_type": "code",
   "execution_count": 79,
   "id": "d6c0800e-aefa-4f5a-9a97-cad82d47cca4",
   "metadata": {},
   "outputs": [
    {
     "name": "stdout",
     "output_type": "stream",
     "text": [
      "1\n",
      "6\n",
      "9\n",
      "10\n",
      "1\n",
      "5\n",
      "1\n",
      "1\n",
      "8\n",
      "4\n",
      "8\n",
      "9\n",
      "10\n",
      "1\n",
      "9\n",
      "3\n",
      "5\n",
      "3\n",
      "10\n",
      "8\n",
      "7\n"
     ]
    }
   ],
   "source": [
    "import random\n",
    "n = 1\n",
    "while(n!=7):\n",
    "    n = random.randint(1,10)\n",
    "    print(n)"
   ]
  },
  {
   "cell_type": "code",
   "execution_count": 82,
   "id": "af806341-82cd-4c41-b37a-78862904fc08",
   "metadata": {},
   "outputs": [
    {
     "name": "stdout",
     "output_type": "stream",
     "text": [
      "(2, 4)\n",
      "(4, 6)\n"
     ]
    }
   ],
   "source": [
    "a = [(1,2),(2,4),(4,6)]\n",
    "for i in a:\n",
    "    if(i[0]%2==0 and i[1]%2==0):\n",
    "        print(i)"
   ]
  },
  {
   "cell_type": "code",
   "execution_count": 1,
   "id": "8e211908-ce0c-407f-900f-b07dafcce4b7",
   "metadata": {},
   "outputs": [
    {
     "name": "stdout",
     "output_type": "stream",
     "text": [
      "2\n"
     ]
    }
   ],
   "source": [
    "a = [12,34,758,32]\n",
    "max = 0\n",
    "for i in a:\n",
    "    if(i>max):\n",
    "        max = i\n",
    "print(a.index(max))"
   ]
  },
  {
   "cell_type": "code",
   "execution_count": 8,
   "id": "71be1645-a475-42ac-b54d-317c672648d3",
   "metadata": {},
   "outputs": [
    {
     "name": "stdout",
     "output_type": "stream",
     "text": [
      "321\n",
      "Not\n"
     ]
    }
   ],
   "source": [
    "n = 123\n",
    "temp = n\n",
    "rev = ''\n",
    "a = str(n)\n",
    "for i in a:\n",
    "    rev = i + rev\n",
    "print(rev)\n",
    "b = int(rev)\n",
    "if(b == temp):\n",
    "    print(\"Pali\")\n",
    "else:\n",
    "    print(\"Not\")"
   ]
  },
  {
   "cell_type": "code",
   "execution_count": 22,
   "id": "a2d66e0b-dede-48f4-8c63-702a6601009f",
   "metadata": {},
   "outputs": [
    {
     "name": "stdout",
     "output_type": "stream",
     "text": [
      "3\n"
     ]
    }
   ],
   "source": [
    "def count(l,val):\n",
    "    count = 0\n",
    "    for i in a:\n",
    "        if(i==val):\n",
    "            count+=1\n",
    "    print(count)\n",
    "count([])"
   ]
  },
  {
   "cell_type": "code",
   "execution_count": 21,
   "id": "6ad6127a-6e41-4e9f-a294-64c3f1823c1e",
   "metadata": {},
   "outputs": [
    {
     "name": "stdout",
     "output_type": "stream",
     "text": [
      "3\n"
     ]
    }
   ],
   "source": [
    "a = [1,2,2,2]\n",
    "v = 2\n",
    "count = 0\n",
    "\n",
    "for i in a:\n",
    "    if(i==v):\n",
    "        count = count+1\n",
    "print(count)"
   ]
  },
  {
   "cell_type": "code",
   "execution_count": 2,
   "id": "b8160d59-5037-4b61-8c9f-0e224d485e5b",
   "metadata": {},
   "outputs": [
    {
     "name": "stdout",
     "output_type": "stream",
     "text": [
      "The Car model is Tiei\n",
      "The cars model is Verna \n",
      "The car is made in the year 2016 \n"
     ]
    }
   ],
   "source": [
    "class Car:\n",
    "    def __init__(self,make,model,year):\n",
    "        self.make = make\n",
    "        self.model = model\n",
    "        self.year = year\n",
    "    def des(self):\n",
    "        print(f\"The Car model is {self.make}\")\n",
    "        print(f\"The cars model is {self.model} \")\n",
    "        print(f\"The car is made in the year {self.year} \")\n",
    "a = Car(\"Tiei\",\"Verna\",2016)\n",
    "a.des()"
   ]
  },
  {
   "cell_type": "code",
   "execution_count": 4,
   "id": "a4cc0380-fbe7-41a6-8eaa-7ae7922fe310",
   "metadata": {},
   "outputs": [
    {
     "data": {
      "text/plain": [
       "75.36"
      ]
     },
     "execution_count": 4,
     "metadata": {},
     "output_type": "execute_result"
    }
   ],
   "source": [
    "class Rad:\n",
    "    def __init__(self,radius):\n",
    "        self.radius = radius\n",
    "    def circum(self):\n",
    "        return self.radius*3.14*2\n",
    "\n",
    "a = Rad(12)\n",
    "a.circum()"
   ]
  },
  {
   "cell_type": "code",
   "execution_count": 15,
   "id": "eab40494-0199-4a0d-9d8a-1937b9e94323",
   "metadata": {},
   "outputs": [
    {
     "ename": "AttributeError",
     "evalue": "'Dog' object has no attribute 'sound'",
     "output_type": "error",
     "traceback": [
      "\u001b[1;31m---------------------------------------------------------------------------\u001b[0m",
      "\u001b[1;31mAttributeError\u001b[0m                            Traceback (most recent call last)",
      "Cell \u001b[1;32mIn[15], line 14\u001b[0m\n\u001b[0;32m     11\u001b[0m         \u001b[38;5;28mprint\u001b[39m(\u001b[38;5;124mf\u001b[39m\u001b[38;5;124m\"\u001b[39m\u001b[38;5;124mThe cat \u001b[39m\u001b[38;5;132;01m{\u001b[39;00m\u001b[38;5;28mself\u001b[39m\u001b[38;5;241m.\u001b[39msound\u001b[38;5;132;01m}\u001b[39;00m\u001b[38;5;124m \u001b[39m\u001b[38;5;124m\"\u001b[39m)\n\u001b[0;32m     13\u001b[0m a \u001b[38;5;241m=\u001b[39m Dog(\u001b[38;5;124m\"\u001b[39m\u001b[38;5;124mWoof\u001b[39m\u001b[38;5;124m\"\u001b[39m)\n\u001b[1;32m---> 14\u001b[0m a\u001b[38;5;241m.\u001b[39msound\n",
      "\u001b[1;31mAttributeError\u001b[0m: 'Dog' object has no attribute 'sound'"
     ]
    }
   ],
   "source": [
    "class Animal:\n",
    "    def __init__(self,sound):\n",
    "        self.__sound = sound\n",
    "    def make_sound(self):\n",
    "        raise NotImplementedError(\"DJs\")\n",
    "class Dog(Animal):\n",
    "    def make_sound(self):\n",
    "        print(f\"The dog make {self.__sound}\")\n",
    "class Cat(Animal):\n",
    "    def make_sound(self):\n",
    "        print(f\"The cat {self.sound} \")\n",
    "\n",
    "a = Dog(\"Woof\")\n",
    "a.sound\n"
   ]
  },
  {
   "cell_type": "code",
   "execution_count": 17,
   "id": "89ef6d26-ad7c-4693-beba-642d1e73b8c9",
   "metadata": {},
   "outputs": [
    {
     "data": {
      "text/plain": [
       "204.0"
      ]
     },
     "execution_count": 17,
     "metadata": {},
     "output_type": "execute_result"
    }
   ],
   "source": [
    "class Shape:\n",
    "    def area(self):\n",
    "        raise NotImplementedError(\"XYZ\")\n",
    "class Traingle(Shape):\n",
    "    def __init__(self,height,base):\n",
    "        self.height = height\n",
    "        self.base = base\n",
    "    def area(self):\n",
    "        return 1/2*self.base*self.height\n",
    "class Square(Shape):\n",
    "    def __init__(self,side):\n",
    "        self.side = side\n",
    "    def area(self):\n",
    "        return self.side**2\n",
    "\n",
    "a = Traingle(12,34)\n",
    "a.area()"
   ]
  },
  {
   "cell_type": "code",
   "execution_count": 20,
   "id": "37324104-5574-42e0-a359-7573a7ab9868",
   "metadata": {},
   "outputs": [
    {
     "name": "stdin",
     "output_type": "stream",
     "text": [
      " 2\n",
      " Vk\n",
      " ad\n"
     ]
    },
    {
     "name": "stdout",
     "output_type": "stream",
     "text": [
      "['Vk', 'ad']\n",
      "Found\n",
      "Not Founded\n"
     ]
    }
   ],
   "source": [
    "class Lib:\n",
    "    def __init__(self,books,title):\n",
    "        self.books = books\n",
    "        self.title = title\n",
    "    def add(self):\n",
    "        n = int(input())\n",
    "        for i in range(n):\n",
    "            val = input()\n",
    "            self.books.append(val)\n",
    "        print(self.books)\n",
    "        for b in self.books:\n",
    "            if(b=='Vk'):\n",
    "                print(\"Found\")\n",
    "            else:\n",
    "                print(\"Not Founded\")\n",
    "a = Lib([],[])\n",
    "a.add()"
   ]
  },
  {
   "cell_type": "code",
   "execution_count": 29,
   "id": "60d57997-a667-4590-883b-83d6d9af4bf6",
   "metadata": {},
   "outputs": [
    {
     "name": "stdout",
     "output_type": "stream",
     "text": [
      "The actual balance is 500 \n"
     ]
    }
   ],
   "source": [
    "class Account:\n",
    "    def __init__(self,bal,amount):\n",
    "        self.amount = amount\n",
    "        self.__bal = bal\n",
    "    def get_bal(self):\n",
    "        self.__bal = self.amount + self.__bal\n",
    "        print(f\"The actual balance is {self.__bal} \")\n",
    "    def get(self):\n",
    "        return self.__bal\n",
    "a = Account(200,300)\n",
    "a.get_bal()"
   ]
  },
  {
   "cell_type": "code",
   "execution_count": 19,
   "id": "a70c3ab4-3c0a-456b-813e-0865027f3976",
   "metadata": {},
   "outputs": [
    {
     "data": {
      "text/plain": [
       "'New VK'"
      ]
     },
     "execution_count": 19,
     "metadata": {},
     "output_type": "execute_result"
    }
   ],
   "source": [
    "class Book:\n",
    "    def __init__(self,title,author):\n",
    "        self.__title = title\n",
    "        self.__author = author\n",
    "    def get_title(self):\n",
    "        return self.__title\n",
    "    def set_title(self,title):\n",
    "        self.__title = title\n",
    "    def get_author(self):\n",
    "        return self.__author\n",
    "    def set_author(self):\n",
    "        self.__author = author\n",
    "a = Book(\"Virat Kohli\",\"Me\")\n",
    "a.set_title(\"New VK\")\n",
    "a.get_title()\n"
   ]
  },
  {
   "cell_type": "code",
   "execution_count": 35,
   "id": "76abbf5d-a9f5-4dcd-9062-bededfdcab17",
   "metadata": {},
   "outputs": [
    {
     "data": {
      "text/plain": [
       "5805.860000000001"
      ]
     },
     "execution_count": 35,
     "metadata": {},
     "output_type": "execute_result"
    }
   ],
   "source": [
    "class Circle:\n",
    "    def __init__(self,radius):\n",
    "        self.__radius = radius\n",
    "    def set_rad(self,radius):\n",
    "        self.__radius = radius\n",
    "    def get_area(self):\n",
    "        return 3.14*self.__radius**2\n",
    "a = Circle(23)\n",
    "a.set_rad(43)\n",
    "a.get_area()"
   ]
  },
  {
   "cell_type": "code",
   "execution_count": 41,
   "id": "b3d480a6-0cfb-4cfd-994a-a13302d0e474",
   "metadata": {},
   "outputs": [
    {
     "name": "stdin",
     "output_type": "stream",
     "text": [
      " Ravi\n"
     ]
    },
    {
     "data": {
      "text/plain": [
       "['Ashutosh', 'Ravi', 'Meenal', 'Yashika', 'Harsh', 'Ravi']"
      ]
     },
     "execution_count": 41,
     "metadata": {},
     "output_type": "execute_result"
    }
   ],
   "source": [
    "class Lib:\n",
    "    def __init__(self,books):\n",
    "        self.__books = books\n",
    "    def add(self):\n",
    "        val = input()\n",
    "        self.__books.append(val)\n",
    "    def remove(self):\n",
    "        i = input()\n",
    "        self.__books.append(i)\n",
    "    def show(self):\n",
    "        return self.__books\n",
    "\n",
    "a = Lib([\"Ashutosh\",\"Ravi\",\"Meenal\",\"Yashika\",\"Harsh\"])\n",
    "a.remove()\n",
    "a.show()"
   ]
  },
  {
   "cell_type": "code",
   "execution_count": 43,
   "id": "ac1a31e1-1d80-40fc-aeae-68522cc09861",
   "metadata": {},
   "outputs": [
    {
     "data": {
      "text/plain": [
       "18.84"
      ]
     },
     "execution_count": 43,
     "metadata": {},
     "output_type": "execute_result"
    }
   ],
   "source": [
    "class Shape:\n",
    "    def area(self):\n",
    "        raise NotImplementedError(\"XYZ\")\n",
    "\n",
    "class Triangle(Shape):\n",
    "    def __init__(self,he,ba):\n",
    "        self.__he = he\n",
    "        self.__ba = ba\n",
    "    def area(self):\n",
    "        return self.__he*self.__ba*1/2\n",
    "class Ellipse(Shape):\n",
    "    def __init__(self,a,b):\n",
    "        self.__a = a\n",
    "        self.__b = b\n",
    "    def area(self):\n",
    "        return self.__a*self.__b*3.14\n",
    "\n"
   ]
  },
  {
   "cell_type": "code",
   "execution_count": 56,
   "id": "e7d60ec8-2d7c-41cc-8823-436d40883ffe",
   "metadata": {},
   "outputs": [
    {
     "data": {
      "text/plain": [
       "48000"
      ]
     },
     "execution_count": 56,
     "metadata": {},
     "output_type": "execute_result"
    }
   ],
   "source": [
    "class Emp:\n",
    "    def __init__(self,salary):\n",
    "        self.__salary = salary\n",
    "    def cal(self):\n",
    "        raise NotImplementedError(\"XYZ\")\n",
    "\n",
    "class Manager(Emp):\n",
    "    def __init__(self,salary):\n",
    "        self.__salary = salary\n",
    "    def cal(self):\n",
    "        return self.__salary*2\n",
    "\n",
    "class Intern(Emp):\n",
    "    def __init__(self,salary):\n",
    "        self.__salary = salary\n",
    "    def cal(self):\n",
    "        return self.__salary/2\n",
    "\n",
    "\n",
    "a = Manager(24000)\n",
    "a.cal()"
   ]
  },
  {
   "cell_type": "code",
   "execution_count": 58,
   "id": "0881f300-5cdc-4795-a007-7318edffa45d",
   "metadata": {},
   "outputs": [
    {
     "name": "stdout",
     "output_type": "stream",
     "text": [
      "This will Fly \n",
      "This will jd \n"
     ]
    }
   ],
   "source": [
    "class Bird:\n",
    "    def fly(self):\n",
    "        raise NotImplementedError(\"XYZ\")\n",
    "class Sparrow(Bird):\n",
    "    def __init__(self,fl):\n",
    "        self.fl = fl\n",
    "    def fly(self):\n",
    "        print(f\"This will {self.fl} \")\n",
    "class Eagle(Bird):\n",
    "    def __init__(self,l):\n",
    "        self.l = l\n",
    "    def fly(self):\n",
    "        print(f\"This will {self.l} \")\n",
    "a = Sparrow(\"Fly\")\n",
    "a.fly()\n",
    "b = Eagle(\"jd\")\n",
    "b.fly()"
   ]
  },
  {
   "cell_type": "code",
   "execution_count": 67,
   "id": "4d2a678e-b5fe-4fe3-9b3a-4af89cad9c1d",
   "metadata": {},
   "outputs": [
    {
     "data": {
      "text/plain": [
       "48000"
      ]
     },
     "execution_count": 67,
     "metadata": {},
     "output_type": "execute_result"
    }
   ],
   "source": [
    "class Emp:\n",
    "    def __init__(self,salary):\n",
    "        self.__salary = salary\n",
    "    def cal(self):\n",
    "        raise NotImplementedError(\"XYZ\")\n",
    "\n",
    "class Manager(Emp):\n",
    "    def __init__(self,salary):\n",
    "        self.__salary = salary\n",
    "    def cal(self):\n",
    "        return self.__salary*2\n",
    "class Intern(Emp):\n",
    "    def __init__(self,salary):\n",
    "        self.__salary = salary\n",
    "    def cal(self):\n",
    "        return self.__salary/2\n",
    "\n",
    "a = Intern(24000)\n",
    "a.cal()\n",
    "\n",
    "b = Manager(24000)\n",
    "b.cal()"
   ]
  },
  {
   "cell_type": "code",
   "execution_count": 3,
   "id": "315b9b50-a1b1-4651-8fcc-c9aa4a374981",
   "metadata": {},
   "outputs": [
    {
     "data": {
      "text/plain": [
       "2150.0"
      ]
     },
     "execution_count": 3,
     "metadata": {},
     "output_type": "execute_result"
    }
   ],
   "source": [
    "class Emp:\n",
    "    def __init__(self,salary):\n",
    "        self.__salary = salary\n",
    "    def cal(self):\n",
    "        raise NotImplementedError(\"XYZ\")\n",
    "\n",
    "class Manager(Emp):\n",
    "    def __init__(self,salary):\n",
    "        self.__salary = salary\n",
    "    def cal(self):\n",
    "        return self.__salary*2\n",
    "\n",
    "class Intern(Emp):\n",
    "    def __init__(self,salary):\n",
    "        self.__salary = salary\n",
    "    def cal(self):\n",
    "        return self.__salary/2\n",
    "\n",
    "\n",
    "b = Manager(25000)\n",
    "b.cal()\n",
    "\n",
    "a = Intern(4300)\n",
    "a.cal()"
   ]
  },
  {
   "cell_type": "code",
   "execution_count": 4,
   "id": "49745d5c-ab14-4402-97b9-4f9b86d85b1f",
   "metadata": {},
   "outputs": [
    {
     "name": "stdout",
     "output_type": "stream",
     "text": [
      "How are you ashu\n",
      "How is it  Good\n",
      "Bye function ended\n"
     ]
    }
   ],
   "source": [
    "def make(fun):\n",
    "    def first(n):\n",
    "        print(\"How are you\",n)\n",
    "        fun(\"Good\")\n",
    "        print(\"Bye function ended\")\n",
    "    return first\n",
    "\n",
    "@make\n",
    "def new(h):\n",
    "    print(\"How is it \",h)\n",
    "new('ashu')\n"
   ]
  },
  {
   "cell_type": "code",
   "execution_count": 6,
   "id": "00e021b7-2e32-4eae-8ccc-e1396a05a283",
   "metadata": {},
   "outputs": [
    {
     "name": "stdout",
     "output_type": "stream",
     "text": [
      "[24, 6, 8]\n"
     ]
    }
   ],
   "source": [
    "def fun(n):\n",
    "    return n*2\n",
    "\n",
    "a = [12,3,4]\n",
    "res = list(map(fun,a))\n",
    "print(res)\n",
    "    "
   ]
  },
  {
   "cell_type": "code",
   "execution_count": 13,
   "id": "d6cf2bfd-0e25-4381-bf07-e2c378f94340",
   "metadata": {},
   "outputs": [
    {
     "name": "stdout",
     "output_type": "stream",
     "text": [
      "[1, 2, 3, 4]\n"
     ]
    }
   ],
   "source": [
    "a = [1,2,3,4]\n",
    "def an(x):\n",
    "    return x*2\n",
    "\n",
    "ad = list(filter(an,a))\n",
    "print(ad)"
   ]
  },
  {
   "cell_type": "code",
   "execution_count": 21,
   "id": "164a55be-c801-4059-9d75-3d2465181a63",
   "metadata": {},
   "outputs": [
    {
     "data": {
      "text/plain": [
       "'VK'"
      ]
     },
     "execution_count": 21,
     "metadata": {},
     "output_type": "execute_result"
    }
   ],
   "source": [
    "class Book:\n",
    "    def __init__(self,book,author):\n",
    "        self.__book = book\n",
    "        self.__author = author\n",
    "    def get_book(self):\n",
    "        return self.__book\n",
    "    def set_book(self,book):\n",
    "        self.__book = book\n",
    "    def get_author(self):\n",
    "        return self.__author\n",
    "    def set_author(self,author):\n",
    "        self.__author = author\n",
    "\n",
    "a = Book(\"Virat Kohli\",\"XYZ\")\n",
    "a.set_book(\"VK\")\n",
    "a.get_book()"
   ]
  },
  {
   "cell_type": "code",
   "execution_count": null,
   "id": "4af12e89-799e-4274-9057-bd7bd2ccba1f",
   "metadata": {},
   "outputs": [],
   "source": []
  },
  {
   "cell_type": "code",
   "execution_count": 24,
   "id": "4c666df8-adb2-4544-9635-98463dd9e5c5",
   "metadata": {},
   "outputs": [
    {
     "data": {
      "text/plain": [
       "'virat'"
      ]
     },
     "execution_count": 24,
     "metadata": {},
     "output_type": "execute_result"
    }
   ],
   "source": [
    "class Book:\n",
    "    def __init__(self,title,author):\n",
    "        self.__title = title\n",
    "        self.__author = author\n",
    "    def get_title(self):\n",
    "        return self.__title\n",
    "    def set_title(self,title):\n",
    "        self.__title = title\n",
    "    def get_author(self):\n",
    "        return self.__author\n",
    "    def set_author(self,author):\n",
    "        self.__author = author\n",
    "\n",
    "a = Book(\"VK\",\"Me\")\n",
    "a.set_author(\"virat\")\n",
    "a.get_author()"
   ]
  },
  {
   "cell_type": "code",
   "execution_count": 27,
   "id": "ce5f0164-46bd-40cf-9e2e-815c984ac90a",
   "metadata": {},
   "outputs": [
    {
     "data": {
      "text/plain": [
       "12000.0"
      ]
     },
     "execution_count": 27,
     "metadata": {},
     "output_type": "execute_result"
    }
   ],
   "source": [
    "class Emp:\n",
    "    def __init__(self,sal):\n",
    "        self.__sal = sal\n",
    "    def cal(self):\n",
    "        raise NotImplementedError(\"XYZ\")\n",
    "\n",
    "class Man(Emp):\n",
    "    def __init__(self,sal):\n",
    "        self.__sal = sal\n",
    "    def cal(self):\n",
    "        return self.__sal*2\n",
    "\n",
    "class Intern(Emp):\n",
    "    def __init__(self,sal):\n",
    "        self.__sal = sal\n",
    "    def cal(self):\n",
    "        return self.__sal/2\n",
    "\n",
    "a = Intern(24000)\n",
    "a.cal()"
   ]
  },
  {
   "cell_type": "code",
   "execution_count": 29,
   "id": "61e96c64-4651-43b7-85ce-01cd4677b7fa",
   "metadata": {},
   "outputs": [
    {
     "ename": "SyntaxError",
     "evalue": "expected 'else' after 'if' expression (252998395.py, line 3)",
     "output_type": "error",
     "traceback": [
      "\u001b[1;36m  Cell \u001b[1;32mIn[29], line 3\u001b[1;36m\u001b[0m\n\u001b[1;33m    x = lambda y:(i) if i%x==0\u001b[0m\n\u001b[1;37m                  ^\u001b[0m\n\u001b[1;31mSyntaxError\u001b[0m\u001b[1;31m:\u001b[0m expected 'else' after 'if' expression\n"
     ]
    }
   ],
   "source": [
    "def he(a,l):\n",
    "    for i in a:\n",
    "        x = lambda y:(i) if i%x==0\n",
    "        l.append(x(2))\n",
    "    print(l)\n",
    "he([1,2,3,4],[])"
   ]
  },
  {
   "cell_type": "code",
   "execution_count": 1,
   "id": "dfb1d287-9af0-447a-ad62-71bfaab9ef15",
   "metadata": {},
   "outputs": [],
   "source": [
    "import pandas as pd"
   ]
  },
  {
   "cell_type": "code",
   "execution_count": 2,
   "id": "37904c93-8f42-4abf-8803-5f0a5976f2d7",
   "metadata": {},
   "outputs": [],
   "source": [
    "data = pd.read_feather(\"C://Users//delli//Downloads//Sales_data.ftr\")"
   ]
  },
  {
   "cell_type": "code",
   "execution_count": 3,
   "id": "f1ce92c5-c692-454d-b7e8-a4d1fac831c3",
   "metadata": {},
   "outputs": [
    {
     "data": {
      "text/html": [
       "<div>\n",
       "<style scoped>\n",
       "    .dataframe tbody tr th:only-of-type {\n",
       "        vertical-align: middle;\n",
       "    }\n",
       "\n",
       "    .dataframe tbody tr th {\n",
       "        vertical-align: top;\n",
       "    }\n",
       "\n",
       "    .dataframe thead th {\n",
       "        text-align: right;\n",
       "    }\n",
       "</style>\n",
       "<table border=\"1\" class=\"dataframe\">\n",
       "  <thead>\n",
       "    <tr style=\"text-align: right;\">\n",
       "      <th></th>\n",
       "      <th>Order ID</th>\n",
       "      <th>Product</th>\n",
       "      <th>Quantity Ordered</th>\n",
       "      <th>Price Each</th>\n",
       "      <th>Order Date</th>\n",
       "      <th>Purchase Address</th>\n",
       "    </tr>\n",
       "  </thead>\n",
       "  <tbody>\n",
       "    <tr>\n",
       "      <th>0</th>\n",
       "      <td>176558</td>\n",
       "      <td>USB-C Charging Cable</td>\n",
       "      <td>2</td>\n",
       "      <td>11.95</td>\n",
       "      <td>04/19/19 08:46</td>\n",
       "      <td>917 1st St, Dallas, TX 75001</td>\n",
       "    </tr>\n",
       "    <tr>\n",
       "      <th>1</th>\n",
       "      <td>None</td>\n",
       "      <td>None</td>\n",
       "      <td>None</td>\n",
       "      <td>None</td>\n",
       "      <td>None</td>\n",
       "      <td>None</td>\n",
       "    </tr>\n",
       "    <tr>\n",
       "      <th>2</th>\n",
       "      <td>176559</td>\n",
       "      <td>Bose SoundSport Headphones</td>\n",
       "      <td>1</td>\n",
       "      <td>99.99</td>\n",
       "      <td>04/07/19 22:30</td>\n",
       "      <td>682 Chestnut St, Boston, MA 02215</td>\n",
       "    </tr>\n",
       "    <tr>\n",
       "      <th>3</th>\n",
       "      <td>176560</td>\n",
       "      <td>Google Phone</td>\n",
       "      <td>1</td>\n",
       "      <td>600</td>\n",
       "      <td>04/12/19 14:38</td>\n",
       "      <td>669 Spruce St, Los Angeles, CA 90001</td>\n",
       "    </tr>\n",
       "    <tr>\n",
       "      <th>4</th>\n",
       "      <td>176560</td>\n",
       "      <td>Wired Headphones</td>\n",
       "      <td>1</td>\n",
       "      <td>11.99</td>\n",
       "      <td>04/12/19 14:38</td>\n",
       "      <td>669 Spruce St, Los Angeles, CA 90001</td>\n",
       "    </tr>\n",
       "    <tr>\n",
       "      <th>...</th>\n",
       "      <td>...</td>\n",
       "      <td>...</td>\n",
       "      <td>...</td>\n",
       "      <td>...</td>\n",
       "      <td>...</td>\n",
       "      <td>...</td>\n",
       "    </tr>\n",
       "    <tr>\n",
       "      <th>186845</th>\n",
       "      <td>259353</td>\n",
       "      <td>AAA Batteries (4-pack)</td>\n",
       "      <td>3</td>\n",
       "      <td>2.99</td>\n",
       "      <td>09/17/19 20:56</td>\n",
       "      <td>840 Highland St, Los Angeles, CA 90001</td>\n",
       "    </tr>\n",
       "    <tr>\n",
       "      <th>186846</th>\n",
       "      <td>259354</td>\n",
       "      <td>iPhone</td>\n",
       "      <td>1</td>\n",
       "      <td>700</td>\n",
       "      <td>09/01/19 16:00</td>\n",
       "      <td>216 Dogwood St, San Francisco, CA 94016</td>\n",
       "    </tr>\n",
       "    <tr>\n",
       "      <th>186847</th>\n",
       "      <td>259355</td>\n",
       "      <td>iPhone</td>\n",
       "      <td>1</td>\n",
       "      <td>700</td>\n",
       "      <td>09/23/19 07:39</td>\n",
       "      <td>220 12th St, San Francisco, CA 94016</td>\n",
       "    </tr>\n",
       "    <tr>\n",
       "      <th>186848</th>\n",
       "      <td>259356</td>\n",
       "      <td>34in Ultrawide Monitor</td>\n",
       "      <td>1</td>\n",
       "      <td>379.99</td>\n",
       "      <td>09/19/19 17:30</td>\n",
       "      <td>511 Forest St, San Francisco, CA 94016</td>\n",
       "    </tr>\n",
       "    <tr>\n",
       "      <th>186849</th>\n",
       "      <td>259357</td>\n",
       "      <td>USB-C Charging Cable</td>\n",
       "      <td>1</td>\n",
       "      <td>11.95</td>\n",
       "      <td>09/30/19 00:18</td>\n",
       "      <td>250 Meadow St, San Francisco, CA 94016</td>\n",
       "    </tr>\n",
       "  </tbody>\n",
       "</table>\n",
       "<p>186850 rows × 6 columns</p>\n",
       "</div>"
      ],
      "text/plain": [
       "       Order ID                     Product Quantity Ordered Price Each  \\\n",
       "0        176558        USB-C Charging Cable                2      11.95   \n",
       "1          None                        None             None       None   \n",
       "2        176559  Bose SoundSport Headphones                1      99.99   \n",
       "3        176560                Google Phone                1        600   \n",
       "4        176560            Wired Headphones                1      11.99   \n",
       "...         ...                         ...              ...        ...   \n",
       "186845   259353      AAA Batteries (4-pack)                3       2.99   \n",
       "186846   259354                      iPhone                1        700   \n",
       "186847   259355                      iPhone                1        700   \n",
       "186848   259356      34in Ultrawide Monitor                1     379.99   \n",
       "186849   259357        USB-C Charging Cable                1      11.95   \n",
       "\n",
       "            Order Date                         Purchase Address  \n",
       "0       04/19/19 08:46             917 1st St, Dallas, TX 75001  \n",
       "1                 None                                     None  \n",
       "2       04/07/19 22:30        682 Chestnut St, Boston, MA 02215  \n",
       "3       04/12/19 14:38     669 Spruce St, Los Angeles, CA 90001  \n",
       "4       04/12/19 14:38     669 Spruce St, Los Angeles, CA 90001  \n",
       "...                ...                                      ...  \n",
       "186845  09/17/19 20:56   840 Highland St, Los Angeles, CA 90001  \n",
       "186846  09/01/19 16:00  216 Dogwood St, San Francisco, CA 94016  \n",
       "186847  09/23/19 07:39     220 12th St, San Francisco, CA 94016  \n",
       "186848  09/19/19 17:30   511 Forest St, San Francisco, CA 94016  \n",
       "186849  09/30/19 00:18   250 Meadow St, San Francisco, CA 94016  \n",
       "\n",
       "[186850 rows x 6 columns]"
      ]
     },
     "execution_count": 3,
     "metadata": {},
     "output_type": "execute_result"
    }
   ],
   "source": [
    "data"
   ]
  },
  {
   "cell_type": "code",
   "execution_count": 13,
   "id": "360f49d3-45c1-4f70-ba0b-d8d1aac29f88",
   "metadata": {},
   "outputs": [
    {
     "name": "stdout",
     "output_type": "stream",
     "text": [
      "3\n"
     ]
    }
   ],
   "source": [
    "#File handling\n",
    "#read\n",
    "#write\n",
    "#append\n",
    "\n",
    "content = open(\"C://Users//delli//OneDrive//Desktop//C Questions(Patterns)//Hollow Patterns.txt\",'w')\n",
    "print(content.write('abe'))\n",
    "content.close()"
   ]
  },
  {
   "cell_type": "code",
   "execution_count": 22,
   "id": "478b293f-c39c-48fa-8cbe-9fe157a5e05d",
   "metadata": {},
   "outputs": [
    {
     "name": "stdout",
     "output_type": "stream",
     "text": [
      "abcesdadadabcesdadad\n"
     ]
    }
   ],
   "source": [
    "with open(\"C://Users//delli//OneDrive//Desktop//C Questions(Patterns)//Hollow Patterns.txt\",'r') as file:\n",
    "    print(file.read())"
   ]
  },
  {
   "cell_type": "code",
   "execution_count": 20,
   "id": "8877cc60-e53e-4660-b152-822e930fe87c",
   "metadata": {},
   "outputs": [
    {
     "name": "stdout",
     "output_type": "stream",
     "text": [
      "10\n"
     ]
    }
   ],
   "source": [
    "with open(\"C://Users//delli//OneDrive//Desktop//C Questions(Patterns)//Hollow Patterns.txt\",'w') as file:\n",
    "    print(file.write('abcesdadad'))"
   ]
  },
  {
   "cell_type": "code",
   "execution_count": 21,
   "id": "38cc39d9-5bf8-4752-8d9d-681238ef7c51",
   "metadata": {},
   "outputs": [
    {
     "name": "stdout",
     "output_type": "stream",
     "text": [
      "10\n"
     ]
    }
   ],
   "source": [
    "with open(\"C://Users//delli//OneDrive//Desktop//C Questions(Patterns)//Hollow Patterns.txt\",'a') as file:\n",
    "    print(file.write('abcesdadad'))"
   ]
  },
  {
   "cell_type": "code",
   "execution_count": null,
   "id": "78e9663c-f38e-48a4-add8-8a1c243618ef",
   "metadata": {},
   "outputs": [],
   "source": []
  }
 ],
 "metadata": {
  "kernelspec": {
   "display_name": "Python 3 (ipykernel)",
   "language": "python",
   "name": "python3"
  },
  "language_info": {
   "codemirror_mode": {
    "name": "ipython",
    "version": 3
   },
   "file_extension": ".py",
   "mimetype": "text/x-python",
   "name": "python",
   "nbconvert_exporter": "python",
   "pygments_lexer": "ipython3",
   "version": "3.11.7"
  }
 },
 "nbformat": 4,
 "nbformat_minor": 5
}
