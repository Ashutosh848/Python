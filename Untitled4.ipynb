{
 "cells": [
  {
   "cell_type": "code",
   "execution_count": 2,
   "id": "b46ae570-4976-4077-bffe-7a07450e3d01",
   "metadata": {},
   "outputs": [
    {
     "name": "stdout",
     "output_type": "stream",
     "text": [
      "[2]\n"
     ]
    }
   ],
   "source": [
    "a = [1,1]\n",
    "res = []\n",
    "count = 0\n",
    "for i in a:\n",
    "    count+=1\n",
    "    if(count not in a):\n",
    "        res.append(count)\n",
    "print(res)"
   ]
  },
  {
   "cell_type": "code",
   "execution_count": 4,
   "id": "c77e48df-0e51-43c6-8404-b0d822bcd009",
   "metadata": {},
   "outputs": [
    {
     "name": "stdout",
     "output_type": "stream",
     "text": [
      "helllo\n"
     ]
    }
   ],
   "source": [
    "a = 'HellLo'\n",
    "print(a.lower())"
   ]
  },
  {
   "cell_type": "code",
   "execution_count": 17,
   "id": "a85f54c9-86bf-4599-b4ad-260f7ba8fc7b",
   "metadata": {},
   "outputs": [
    {
     "name": "stdout",
     "output_type": "stream",
     "text": [
      "{'B': 2, 'o': 1, 'b': 2, ' ': 12, 'h': 4, 'i': 4, 't': 6, 'a': 5, 'l': 3, ',': 1, 'e': 3, 'A': 1, 'L': 2, 'f': 3, 'w': 2, 'r': 2, 's': 1, '.': 1}\n"
     ]
    }
   ],
   "source": [
    "para = \"Bob hit a ball, the hit BALL flew far after it was hit.\"\n",
    "banned = [\"hit\"]\n",
    "my_dict = {}\n",
    "for i in range(0,len(para)):\n",
    "    if(para[i] not in my_dict):\n",
    "        my_dict[para[i]] = 1\n",
    "    else:\n",
    "        my_dict[para[i]] +=1\n",
    "print(my_dict)"
   ]
  },
  {
   "cell_type": "code",
   "execution_count": 4,
   "id": "8de06a32-140a-4cda-9a66-7d18e2f3e738",
   "metadata": {},
   "outputs": [
    {
     "data": {
      "text/plain": [
       "15"
      ]
     },
     "execution_count": 4,
     "metadata": {},
     "output_type": "execute_result"
    }
   ],
   "source": [
    "b = 10\n",
    "def fun(a):\n",
    "    a = 15\n",
    "    return a\n",
    "fun()"
   ]
  },
  {
   "cell_type": "code",
   "execution_count": 5,
   "id": "7fb9cfbc-93b9-4d62-be33-8e5ba1ea4fb2",
   "metadata": {},
   "outputs": [
    {
     "name": "stdout",
     "output_type": "stream",
     "text": [
      "92 39\n"
     ]
    }
   ],
   "source": [
    "#parameter /formal parameter / Informal parameter\n",
    "def fun(a,b):\n",
    "    print(a,b)\n",
    "fun(92,39)"
   ]
  },
  {
   "cell_type": "code",
   "execution_count": 19,
   "id": "4221a235-106c-47ea-bff6-69166655f549",
   "metadata": {},
   "outputs": [],
   "source": [
    "#Diff between *args and **kwargs"
   ]
  },
  {
   "cell_type": "code",
   "execution_count": 30,
   "id": "48d61aa1-e94c-4033-8131-babc0857febe",
   "metadata": {},
   "outputs": [
    {
     "name": "stdout",
     "output_type": "stream",
     "text": [
      "2 It is not Prime no.\n",
      "3 It is a prime no\n",
      "4 It is a prime no\n",
      "5 It is not Prime no.\n"
     ]
    }
   ],
   "source": [
    "def fun(x):\n",
    "    for i in range(2,(x//2)+1):\n",
    "        if(x%i==0):\n",
    "            print(i,'It is not Prime no.')\n",
    "        else:\n",
    "            print(i,'It is a prime no')\n",
    "fun(10)"
   ]
  },
  {
   "cell_type": "code",
   "execution_count": 31,
   "id": "3198d112-4adb-46ab-92b1-6c37b0d48aa0",
   "metadata": {},
   "outputs": [
    {
     "data": {
      "text/plain": [
       "10"
      ]
     },
     "execution_count": 31,
     "metadata": {},
     "output_type": "execute_result"
    }
   ],
   "source": [
    "def fun(x,y):\n",
    "    if(x>y):\n",
    "        small = y\n",
    "    else:\n",
    "        small = x\n",
    "    for i in range(1,small+1):\n",
    "        if((x%i==0) and (y%i==0)):\n",
    "            hcf = i\n",
    "    return hcf\n",
    "fun(10,20)"
   ]
  },
  {
   "cell_type": "code",
   "execution_count": 38,
   "id": "15324c44-ba7d-4378-bdc3-d522118656d5",
   "metadata": {},
   "outputs": [
    {
     "name": "stdout",
     "output_type": "stream",
     "text": [
      "10\n"
     ]
    }
   ],
   "source": [
    "def fun(a,b):\n",
    "    x = a\n",
    "    y = b\n",
    "    while(y>0):\n",
    "        x,y = y,x%y\n",
    "        hcf = x\n",
    "    print(hcf)\n",
    "fun(10,20)"
   ]
  },
  {
   "cell_type": "code",
   "execution_count": 1,
   "id": "608986a7-8aad-4419-a4c6-2fb6b2384033",
   "metadata": {},
   "outputs": [],
   "source": [
    "#if we are passing imutatable datatype then there will be not changes in the \n",
    "\n",
    "\n",
    "#The first class function is a function that is an instance of the object type\n",
    "#You can store the function in a variable \n",
    "#You can pass the function AS a parameter to another function\n",
    "#You can return the function from a function\n",
    "#You can store them in data structure such as hash tables,lists.\n",
    "\n"
   ]
  },
  {
   "cell_type": "code",
   "execution_count": 12,
   "id": "ded66465-a23f-4bf5-afc1-fd48ebe94b62",
   "metadata": {},
   "outputs": [
    {
     "ename": "TypeError",
     "evalue": "'int' object is not iterable",
     "output_type": "error",
     "traceback": [
      "\u001b[1;31m---------------------------------------------------------------------------\u001b[0m",
      "\u001b[1;31mTypeError\u001b[0m                                 Traceback (most recent call last)",
      "Cell \u001b[1;32mIn[12], line 3\u001b[0m\n\u001b[0;32m      1\u001b[0m \u001b[38;5;28;01mdef\u001b[39;00m \u001b[38;5;21mfun\u001b[39m(n):\n\u001b[0;32m      2\u001b[0m     \u001b[38;5;28;01mreturn\u001b[39;00m(n\u001b[38;5;241m+\u001b[39mn)\n\u001b[1;32m----> 3\u001b[0m out \u001b[38;5;241m=\u001b[39m \u001b[38;5;28mlist\u001b[39m(fun(\u001b[38;5;241m20\u001b[39m))\n\u001b[0;32m      4\u001b[0m out\n",
      "\u001b[1;31mTypeError\u001b[0m: 'int' object is not iterable"
     ]
    }
   ],
   "source": [
    "def fun(n):\n",
    "    return(n+n)\n",
    "out = fun(20)\n",
    "out"
   ]
  },
  {
   "cell_type": "code",
   "execution_count": 28,
   "id": "3f37b7c0-9253-4b4e-b4a5-9b33a9c8d524",
   "metadata": {},
   "outputs": [
    {
     "name": "stdout",
     "output_type": "stream",
     "text": [
      "True\n"
     ]
    }
   ],
   "source": [
    "s=list('anagram')\n",
    "t = list('nagaram')\n",
    "\n",
    "for i in range(0,len(s)):\n",
    "    for j in range(i+1,len(s)):\n",
    "        if(s[i]>s[j]):\n",
    "            s[i],s[j] = s[j],s[i]\n",
    "\n",
    "for k in range(0,len(t)):\n",
    "    for f in range(k+1,len(t)):\n",
    "        if(t[k]>t[f]):\n",
    "            t[k],t[f] = t[f],t[k]\n",
    "\n",
    "print(s==t)"
   ]
  },
  {
   "cell_type": "code",
   "execution_count": 29,
   "id": "316be769-7774-4af4-b8c2-f0bcd78df42a",
   "metadata": {},
   "outputs": [],
   "source": [
    "class Solution:\n",
    "    def isAnagram(self, s: str, t: str) -> bool:\n",
    "        if(len(s)!=(len(t))):\n",
    "            return False\n",
    "        else:\n",
    "            my_dict = {}\n",
    "            for i in s:\n",
    "                if(i not in my_dict):\n",
    "                    my_dict[i] = 1\n",
    "                else:\n",
    "                    my_dict[i]+=1\n",
    "            my_dict2 = {}\n",
    "\n",
    "            for j in t:\n",
    "                if(j not in my_dict2):\n",
    "                    my_dict2[j] = 1\n",
    "                else:\n",
    "                    my_dict2[j]+=1\n",
    "            return my_dict == my_dict2"
   ]
  },
  {
   "cell_type": "code",
   "execution_count": 36,
   "id": "da927815-d660-49bf-80c0-0040e2800bcd",
   "metadata": {},
   "outputs": [
    {
     "name": "stdout",
     "output_type": "stream",
     "text": [
      "['h', 'e', 'l', 'l', 'o']\n"
     ]
    }
   ],
   "source": [
    "a = [\"h\",\"e\",\"l\",\"l\",\"o\"]\n",
    "for i in range(0,len(a)):\n",
    "    rev = len(a)-i-1\n",
    "    a[i],a[rev] = a[rev],a[i]\n",
    "print(a)\n",
    "    "
   ]
  },
  {
   "cell_type": "code",
   "execution_count": 39,
   "id": "feba2b6f-b54c-441e-bb62-54e3bab1f933",
   "metadata": {},
   "outputs": [
    {
     "name": "stdout",
     "output_type": "stream",
     "text": [
      "0\n",
      "1\n"
     ]
    }
   ],
   "source": [
    "a = [\"h\",\"e\",\"l\",\"l\",\"o\"]\n",
    "mid = len(a)//2\n",
    "for i in range(0,mid):\n",
    "    "
   ]
  },
  {
   "cell_type": "code",
   "execution_count": null,
   "id": "b8cc39e0-f639-4f89-92cc-d032f38218ba",
   "metadata": {},
   "outputs": [],
   "source": []
  }
 ],
 "metadata": {
  "kernelspec": {
   "display_name": "Python 3 (ipykernel)",
   "language": "python",
   "name": "python3"
  },
  "language_info": {
   "codemirror_mode": {
    "name": "ipython",
    "version": 3
   },
   "file_extension": ".py",
   "mimetype": "text/x-python",
   "name": "python",
   "nbconvert_exporter": "python",
   "pygments_lexer": "ipython3",
   "version": "3.11.7"
  }
 },
 "nbformat": 4,
 "nbformat_minor": 5
}
