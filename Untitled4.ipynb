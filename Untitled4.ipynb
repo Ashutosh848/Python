{
 "cells": [
  {
   "cell_type": "code",
   "execution_count": 2,
   "id": "b46ae570-4976-4077-bffe-7a07450e3d01",
   "metadata": {},
   "outputs": [
    {
     "name": "stdout",
     "output_type": "stream",
     "text": [
      "[2]\n"
     ]
    }
   ],
   "source": [
    "a = [1,1]\n",
    "res = []\n",
    "count = 0\n",
    "for i in a:\n",
    "    count+=1\n",
    "    if(count not in a):\n",
    "        res.append(count)\n",
    "print(res)"
   ]
  },
  {
   "cell_type": "code",
   "execution_count": 4,
   "id": "c77e48df-0e51-43c6-8404-b0d822bcd009",
   "metadata": {},
   "outputs": [
    {
     "name": "stdout",
     "output_type": "stream",
     "text": [
      "helllo\n"
     ]
    }
   ],
   "source": [
    "a = 'HellLo'\n",
    "print(a.lower())"
   ]
  },
  {
   "cell_type": "code",
   "execution_count": 17,
   "id": "a85f54c9-86bf-4599-b4ad-260f7ba8fc7b",
   "metadata": {},
   "outputs": [
    {
     "name": "stdout",
     "output_type": "stream",
     "text": [
      "{'B': 2, 'o': 1, 'b': 2, ' ': 12, 'h': 4, 'i': 4, 't': 6, 'a': 5, 'l': 3, ',': 1, 'e': 3, 'A': 1, 'L': 2, 'f': 3, 'w': 2, 'r': 2, 's': 1, '.': 1}\n"
     ]
    }
   ],
   "source": [
    "para = \"Bob hit a ball, the hit BALL flew far after it was hit.\"\n",
    "banned = [\"hit\"]\n",
    "my_dict = {}\n",
    "for i in range(0,len(para)):\n",
    "    if(para[i] not in my_dict):\n",
    "        my_dict[para[i]] = 1\n",
    "    else:\n",
    "        my_dict[para[i]] +=1\n",
    "print(my_dict)"
   ]
  },
  {
   "cell_type": "code",
   "execution_count": 4,
   "id": "8de06a32-140a-4cda-9a66-7d18e2f3e738",
   "metadata": {},
   "outputs": [
    {
     "data": {
      "text/plain": [
       "15"
      ]
     },
     "execution_count": 4,
     "metadata": {},
     "output_type": "execute_result"
    }
   ],
   "source": [
    "b = 10\n",
    "def fun(a):\n",
    "    a = 15\n",
    "    return a\n",
    "fun()"
   ]
  },
  {
   "cell_type": "code",
   "execution_count": 5,
   "id": "7fb9cfbc-93b9-4d62-be33-8e5ba1ea4fb2",
   "metadata": {},
   "outputs": [
    {
     "name": "stdout",
     "output_type": "stream",
     "text": [
      "92 39\n"
     ]
    }
   ],
   "source": [
    "#parameter /formal parameter / Informal parameter\n",
    "def fun(a,b):\n",
    "    print(a,b)\n",
    "fun(92,39)"
   ]
  },
  {
   "cell_type": "code",
   "execution_count": 19,
   "id": "4221a235-106c-47ea-bff6-69166655f549",
   "metadata": {},
   "outputs": [],
   "source": [
    "#Diff between *args and **kwargs"
   ]
  },
  {
   "cell_type": "code",
   "execution_count": 30,
   "id": "48d61aa1-e94c-4033-8131-babc0857febe",
   "metadata": {},
   "outputs": [
    {
     "name": "stdout",
     "output_type": "stream",
     "text": [
      "2 It is not Prime no.\n",
      "3 It is a prime no\n",
      "4 It is a prime no\n",
      "5 It is not Prime no.\n"
     ]
    }
   ],
   "source": [
    "def fun(x):\n",
    "    for i in range(2,(x//2)+1):\n",
    "        if(x%i==0):\n",
    "            print(i,'It is not Prime no.')\n",
    "        else:\n",
    "            print(i,'It is a prime no')\n",
    "fun(10)"
   ]
  },
  {
   "cell_type": "code",
   "execution_count": 31,
   "id": "3198d112-4adb-46ab-92b1-6c37b0d48aa0",
   "metadata": {},
   "outputs": [
    {
     "data": {
      "text/plain": [
       "10"
      ]
     },
     "execution_count": 31,
     "metadata": {},
     "output_type": "execute_result"
    }
   ],
   "source": [
    "def fun(x,y):\n",
    "    if(x>y):\n",
    "        small = y\n",
    "    else:\n",
    "        small = x\n",
    "    for i in range(1,small+1):\n",
    "        if((x%i==0) and (y%i==0)):\n",
    "            hcf = i\n",
    "    return hcf\n",
    "fun(10,20)"
   ]
  },
  {
   "cell_type": "code",
   "execution_count": 38,
   "id": "15324c44-ba7d-4378-bdc3-d522118656d5",
   "metadata": {},
   "outputs": [
    {
     "name": "stdout",
     "output_type": "stream",
     "text": [
      "10\n"
     ]
    }
   ],
   "source": [
    "def fun(a,b):\n",
    "    x = a\n",
    "    y = b\n",
    "    while(y>0):\n",
    "        x,y = y,x%y\n",
    "        hcf = x\n",
    "    print(hcf)\n",
    "fun(10,20)"
   ]
  },
  {
   "cell_type": "code",
   "execution_count": 1,
   "id": "608986a7-8aad-4419-a4c6-2fb6b2384033",
   "metadata": {},
   "outputs": [],
   "source": [
    "#if we are passing imutatable datatype then there will be not changes in the \n",
    "\n",
    "\n",
    "#The first class function is a function that is an instance of the object type\n",
    "#You can store the function in a variable \n",
    "#You can pass the function AS a parameter to another function\n",
    "#You can return the function from a function\n",
    "#You can store them in data structure such as hash tables,lists.\n",
    "\n"
   ]
  },
  {
   "cell_type": "code",
   "execution_count": 12,
   "id": "ded66465-a23f-4bf5-afc1-fd48ebe94b62",
   "metadata": {},
   "outputs": [
    {
     "ename": "TypeError",
     "evalue": "'int' object is not iterable",
     "output_type": "error",
     "traceback": [
      "\u001b[1;31m---------------------------------------------------------------------------\u001b[0m",
      "\u001b[1;31mTypeError\u001b[0m                                 Traceback (most recent call last)",
      "Cell \u001b[1;32mIn[12], line 3\u001b[0m\n\u001b[0;32m      1\u001b[0m \u001b[38;5;28;01mdef\u001b[39;00m \u001b[38;5;21mfun\u001b[39m(n):\n\u001b[0;32m      2\u001b[0m     \u001b[38;5;28;01mreturn\u001b[39;00m(n\u001b[38;5;241m+\u001b[39mn)\n\u001b[1;32m----> 3\u001b[0m out \u001b[38;5;241m=\u001b[39m \u001b[38;5;28mlist\u001b[39m(fun(\u001b[38;5;241m20\u001b[39m))\n\u001b[0;32m      4\u001b[0m out\n",
      "\u001b[1;31mTypeError\u001b[0m: 'int' object is not iterable"
     ]
    }
   ],
   "source": [
    "def fun(n):\n",
    "    return(n+n)\n",
    "out = fun(20)\n",
    "out"
   ]
  },
  {
   "cell_type": "code",
   "execution_count": 28,
   "id": "3f37b7c0-9253-4b4e-b4a5-9b33a9c8d524",
   "metadata": {},
   "outputs": [
    {
     "name": "stdout",
     "output_type": "stream",
     "text": [
      "True\n"
     ]
    }
   ],
   "source": [
    "s=list('anagram')\n",
    "t = list('nagaram')\n",
    "\n",
    "for i in range(0,len(s)):\n",
    "    for j in range(i+1,len(s)):\n",
    "        if(s[i]>s[j]):\n",
    "            s[i],s[j] = s[j],s[i]\n",
    "\n",
    "for k in range(0,len(t)):\n",
    "    for f in range(k+1,len(t)):\n",
    "        if(t[k]>t[f]):\n",
    "            t[k],t[f] = t[f],t[k]\n",
    "\n",
    "print(s==t)"
   ]
  },
  {
   "cell_type": "code",
   "execution_count": 29,
   "id": "316be769-7774-4af4-b8c2-f0bcd78df42a",
   "metadata": {},
   "outputs": [],
   "source": [
    "class Solution:\n",
    "    def isAnagram(self, s: str, t: str) -> bool:\n",
    "        if(len(s)!=(len(t))):\n",
    "            return False\n",
    "        else:\n",
    "            my_dict = {}\n",
    "            for i in s:\n",
    "                if(i not in my_dict):\n",
    "                    my_dict[i] = 1\n",
    "                else:\n",
    "                    my_dict[i]+=1\n",
    "            my_dict2 = {}\n",
    "\n",
    "            for j in t:\n",
    "                if(j not in my_dict2):\n",
    "                    my_dict2[j] = 1\n",
    "                else:\n",
    "                    my_dict2[j]+=1\n",
    "            return my_dict == my_dict2"
   ]
  },
  {
   "cell_type": "code",
   "execution_count": 36,
   "id": "da927815-d660-49bf-80c0-0040e2800bcd",
   "metadata": {},
   "outputs": [
    {
     "name": "stdout",
     "output_type": "stream",
     "text": [
      "['h', 'e', 'l', 'l', 'o']\n"
     ]
    }
   ],
   "source": [
    "a = [\"h\",\"e\",\"l\",\"l\",\"o\"]\n",
    "for i in range(0,len(a)):\n",
    "    rev = len(a)-i-1\n",
    "    a[i],a[rev] = a[rev],a[i]\n",
    "print(a)\n",
    "    "
   ]
  },
  {
   "cell_type": "code",
   "execution_count": 39,
   "id": "feba2b6f-b54c-441e-bb62-54e3bab1f933",
   "metadata": {},
   "outputs": [
    {
     "name": "stdout",
     "output_type": "stream",
     "text": [
      "0\n",
      "1\n"
     ]
    }
   ],
   "source": [
    "a = [\"h\",\"e\",\"l\",\"l\",\"o\"]\n",
    "mid = len(a)//2\n",
    "for i in range(0,mid):\n",
    "    "
   ]
  },
  {
   "cell_type": "code",
   "execution_count": 6,
   "id": "b8cc39e0-f639-4f89-92cc-d032f38218ba",
   "metadata": {},
   "outputs": [
    {
     "name": "stdout",
     "output_type": "stream",
     "text": [
      "1\n",
      "2\n"
     ]
    }
   ],
   "source": [
    "n = [-2,0,1,3]\n",
    "target = 2\n",
    "count = 0\n",
    "i = 0\n",
    "k = len(n)-1\n",
    "j = i+1\n",
    "while(j<k):\n",
    "    if(n[i] + n[j] + n[k]<target):\n",
    "        count+=1\n",
    "        k-=1\n",
    "        print(count)"
   ]
  },
  {
   "cell_type": "code",
   "execution_count": 1,
   "id": "1591f322-e488-4ce5-8be4-9626d0e09acb",
   "metadata": {},
   "outputs": [
    {
     "name": "stdout",
     "output_type": "stream",
     "text": [
      "5\n"
     ]
    }
   ],
   "source": [
    "buy = 0\n",
    "sell = 1\n",
    "maxi = 0\n",
    "mylist = [7, 1, 5, 3, 6, 4]\n",
    "no_days = len(mylist)\n",
    "\n",
    "while sell < no_days:\n",
    "    if mylist[sell] > mylist[buy]:\n",
    "        profit_margin = mylist[sell] - mylist[buy]\n",
    "        maxi = max(maxi, profit_margin)\n",
    "    else:\n",
    "        buy = sell\n",
    "    sell+=1\n",
    "\n",
    "print(maxi)"
   ]
  },
  {
   "cell_type": "code",
   "execution_count": 13,
   "id": "e32adb29-fc40-4086-9db3-3a1787149a6f",
   "metadata": {},
   "outputs": [
    {
     "name": "stdout",
     "output_type": "stream",
     "text": [
      "False\n"
     ]
    }
   ],
   "source": [
    "s = 'foo'\n",
    "a = 'bar'\n",
    "count = 0\n",
    "for i,j in zip(s,a):\n",
    "    if(s.index(i) == a.index(j)):\n",
    "        count+=1\n",
    "\n",
    "if(count == len(s)):\n",
    "    print(\"True\")\n",
    "else:\n",
    "    print(\"False\")"
   ]
  },
  {
   "cell_type": "code",
   "execution_count": 17,
   "id": "eb82eaa0-c673-4285-a239-2850b1abf395",
   "metadata": {},
   "outputs": [
    {
     "name": "stdout",
     "output_type": "stream",
     "text": [
      "[1, 2, 2]\n"
     ]
    }
   ],
   "source": [
    "a = [1,1,2]\n",
    "j = 1\n",
    "for  i in range(1,len(a)):\n",
    "    if(a[i]!=a[i-1]):\n",
    "        a[j] = a[i]\n",
    "        j+=1\n",
    "print(a)       "
   ]
  },
  {
   "cell_type": "code",
   "execution_count": 26,
   "id": "77b1089e-ebae-4b55-9c82-df008a2774cc",
   "metadata": {},
   "outputs": [
    {
     "name": "stdout",
     "output_type": "stream",
     "text": [
      "2\n",
      "[2, 2, 2, 3]\n"
     ]
    }
   ],
   "source": [
    "a = [3,2,2,3]\n",
    "val = 3\n",
    "j = 0\n",
    "for i in range(len(a)):\n",
    "    if(a[i]==val):\n",
    "        pass\n",
    "    else:\n",
    "        a[j] = a[i]\n",
    "        j+=1\n",
    "print(j)\n",
    "print(a)"
   ]
  },
  {
   "cell_type": "code",
   "execution_count": 29,
   "id": "724d602e-a3d6-47c4-9ec8-c1aedb3982a0",
   "metadata": {},
   "outputs": [
    {
     "name": "stdout",
     "output_type": "stream",
     "text": [
      "[1, 3, 5, 11, 24, 1, 4, 1]\n"
     ]
    }
   ],
   "source": [
    "a = [3,1,4,1,5,11,24,1]\n",
    "j = 1\n",
    "\n",
    "for i in range(len(a)):\n",
    "    if(a[j]<a[i]):\n",
    "        a[i],a[j] = a[j],a[i]\n",
    "        j+=1\n",
    "    \n",
    "print(a)"
   ]
  },
  {
   "cell_type": "code",
   "execution_count": 16,
   "id": "fb544478-e4cf-4ffc-b106-65b56d667a03",
   "metadata": {},
   "outputs": [
    {
     "name": "stdout",
     "output_type": "stream",
     "text": [
      "True\n"
     ]
    }
   ],
   "source": [
    "a = 'abba'\n",
    "s = 'dog cat cat dog'.split()\n",
    "count = 0\n",
    "for i,j in zip(a,s):\n",
    "    if(a.index(i) == s.index(j)):\n",
    "        count+=1\n",
    "print(count == len(a))"
   ]
  },
  {
   "cell_type": "code",
   "execution_count": 22,
   "id": "89500e1d-237e-4c9b-a1a5-8bd1c52a2a59",
   "metadata": {},
   "outputs": [
    {
     "name": "stdout",
     "output_type": "stream",
     "text": [
      "True\n"
     ]
    }
   ],
   "source": [
    "a = 'a'\n",
    "m = 'm'\n",
    "\n",
    "if(len(a)<2 and len(m)<2):\n",
    "    print(a == m)\n",
    "else:\n",
    "    "
   ]
  },
  {
   "cell_type": "code",
   "execution_count": 24,
   "id": "ae5e1412-bcb7-497e-9e9b-96d273b1bcaa",
   "metadata": {},
   "outputs": [
    {
     "name": "stdout",
     "output_type": "stream",
     "text": [
      "[2]\n"
     ]
    }
   ],
   "source": [
    "a = [1,1]\n",
    "count = 0\n",
    "res = []\n",
    "for i in range(1,len(a)+1):\n",
    "    count+=1\n",
    "    if(count not in a):\n",
    "        res.append(count)\n",
    "print(res)"
   ]
  },
  {
   "cell_type": "code",
   "execution_count": 33,
   "id": "24f12eea-334a-4159-a013-71d5fe4b0d81",
   "metadata": {},
   "outputs": [
    {
     "name": "stdout",
     "output_type": "stream",
     "text": [
      "{'a': 1, 'b': 1, 'c': 4, 'd': 2}\n"
     ]
    }
   ],
   "source": [
    "a = \"abccccdd\"\n",
    "my = {}\n",
    "for i in range(len(a)):\n",
    "    if a[i] not in my:\n",
    "        my[a[i]] = 1\n",
    "    else:\n",
    "        my[a[i]]+=1\n",
    "print(my)\n"
   ]
  },
  {
   "cell_type": "code",
   "execution_count": 37,
   "id": "96fe154f-2b27-4293-a462-bb414b2f1b7d",
   "metadata": {},
   "outputs": [
    {
     "ename": "SyntaxError",
     "evalue": "expected ':' (2842277237.py, line 7)",
     "output_type": "error",
     "traceback": [
      "\u001b[1;36m  Cell \u001b[1;32mIn[37], line 7\u001b[1;36m\u001b[0m\n\u001b[1;33m    for j in s\u001b[0m\n\u001b[1;37m              ^\u001b[0m\n\u001b[1;31mSyntaxError\u001b[0m\u001b[1;31m:\u001b[0m expected ':'\n"
     ]
    }
   ],
   "source": [
    "s = [\"Hello\",\"Alaska\",\"Dad\",\"Peace\"]\n",
    "r1 = 'qwertyuiop'\n",
    "r2 = 'asdfghjkl'\n",
    "r3 = 'zxcvbnm'\n",
    "res = []\n",
    "for i in s:\n",
    "    for j in s\n",
    "    if(i in r2):\n",
    "        i = i.lower()\n",
    "        res.append(i)\n",
    "print(res)"
   ]
  },
  {
   "cell_type": "code",
   "execution_count": 40,
   "id": "1f00520d-5199-4ee7-b5ef-afa8f3527b7c",
   "metadata": {},
   "outputs": [
    {
     "name": "stdout",
     "output_type": "stream",
     "text": [
      "2\n"
     ]
    }
   ],
   "source": [
    "a = [1,2,6]\n",
    "b = [2,4,5]\n",
    "res = []\n",
    "for i in a:\n",
    "    if(i in b):\n",
    "        res.append(i)\n",
    "print(min(res))"
   ]
  },
  {
   "cell_type": "code",
   "execution_count": 49,
   "id": "a0df83c4-2cdc-410f-b293-72413b9beb9d",
   "metadata": {},
   "outputs": [
    {
     "name": "stdout",
     "output_type": "stream",
     "text": [
      "['EPCFFt', 'RPJOFYZUBFSIYp', 'VOYGWWNCf', 'Vk', 'Sgizfdfrims', 'IEO', 'QTASHKQ', 'WSpmqvb']\n"
     ]
    }
   ],
   "source": [
    "a = [\"IEO\",\"Sgizfdfrims\",\"QTASHKQ\",\"Vk\",\"RPJOFYZUBFSIYp\",\"EPCFFt\",\"VOYGWWNCf\",\"WSpmqvb\"]\n",
    "h = [17233,32521,14087,42738,46669,65662,43204,8224]\n",
    "\n",
    "for i in range(len(h)):\n",
    "    for j in range(i+1,len(h)):\n",
    "        if(h[i]<h[j]):\n",
    "            h[i],h[j] = h[j],h[i]\n",
    "            a[i],a[j] = a[j],a[i]\n",
    "print(a)"
   ]
  },
  {
   "cell_type": "code",
   "execution_count": 52,
   "id": "96806a2f-2813-459d-9416-ccd89542ce92",
   "metadata": {},
   "outputs": [
    {
     "name": "stdout",
     "output_type": "stream",
     "text": [
      "{2: 0, 1: 1, 4: 2, 3: 3, 9: 4, 6: 5}\n"
     ]
    }
   ],
   "source": [
    "arr1 = [2,3,1,3,2,4,6,7,9,2,19]\n",
    "arr2 = [2,1,4,3,9,6]\n",
    "my = {}\n",
    "for i in range(len(arr2)):\n",
    "    if(arr2[i] not in my):\n",
    "        my[arr2[i]] = i\n",
    "print(my)\n"
   ]
  },
  {
   "cell_type": "code",
   "execution_count": 57,
   "id": "c47e9cef-03bb-47d8-aac5-cf6f6b753b6c",
   "metadata": {},
   "outputs": [
    {
     "name": "stdout",
     "output_type": "stream",
     "text": [
      "[2, 1, 0, 3]\n"
     ]
    }
   ],
   "source": [
    "a = [6,5,4,8]\n",
    "res = []\n",
    "for i in range(len(a)):\n",
    "    count = 0\n",
    "    for j in range(len(a)):\n",
    "        if(a[i]>a[j]):\n",
    "            count+=1\n",
    "    res.append(count)\n",
    "print(res)"
   ]
  },
  {
   "cell_type": "code",
   "execution_count": 60,
   "id": "06fe9772-3ee9-4e5a-ac13-f49cbf3f700a",
   "metadata": {},
   "outputs": [
    {
     "name": "stdout",
     "output_type": "stream",
     "text": [
      "{'a': 4, 'b': 4, 'c': 4}\n"
     ]
    }
   ],
   "source": [
    "s = \"aaaabbbbcccc\"\n",
    "my = {}\n",
    "for i in s:\n",
    "    if(i not in my):\n",
    "        my[i] = 1\n",
    "    else:\n",
    "        my[i]+=1\n",
    "print(my)"
   ]
  },
  {
   "cell_type": "code",
   "execution_count": 61,
   "id": "808b64f0-a3c2-4877-b500-483645d69010",
   "metadata": {},
   "outputs": [
    {
     "name": "stdout",
     "output_type": "stream",
     "text": [
      "44\n"
     ]
    }
   ],
   "source": [
    "a = [1,8,6,2,5,4,8,3,7]\n",
    "sum = 0\n",
    "for i in a:\n",
    "    sum = i + sum\n",
    "print(sum)"
   ]
  },
  {
   "cell_type": "code",
   "execution_count": 64,
   "id": "3d43da8a-ae9b-4444-9990-ccefe0f813b0",
   "metadata": {},
   "outputs": [
    {
     "name": "stdout",
     "output_type": "stream",
     "text": [
      "-1\n",
      "-1\n",
      "-1\n",
      "-1\n",
      "-1\n",
      "-1\n"
     ]
    }
   ],
   "source": [
    "a = [5,7,7,8,8,10]\n",
    "res = []\n",
    "t = 6\n",
    "for i in range(len(a)):\n",
    "    if(a[i] == t):\n",
    "        res.append(i)\n",
    "    else:\n"
   ]
  },
  {
   "cell_type": "code",
   "execution_count": 73,
   "id": "abaede58-372d-45b7-9c36-a7c4292147e2",
   "metadata": {},
   "outputs": [
    {
     "name": "stdout",
     "output_type": "stream",
     "text": [
      "5\n"
     ]
    }
   ],
   "source": [
    "n = [0,0,1,1,1,2,2,3,3,4]\n",
    "j = 1\n",
    "for i in range(1,len(n)):\n",
    "    if(n[i]!=n[i-1]):\n",
    "        n[j] = n[i]\n",
    "        j+=1\n",
    "    else:\n",
    "        pass\n",
    "print(j)\n",
    "        "
   ]
  },
  {
   "cell_type": "code",
   "execution_count": null,
   "id": "f2686271-5af2-48cc-8626-1749d67273a8",
   "metadata": {},
   "outputs": [],
   "source": []
  },
  {
   "cell_type": "code",
   "execution_count": 27,
   "id": "066a7d5f-7758-4aca-949c-d13f5029c453",
   "metadata": {},
   "outputs": [
    {
     "name": "stdout",
     "output_type": "stream",
     "text": [
      "defaultdict(<class 'list'>, {10: 'abc', 20: 'aman', 40: []})\n"
     ]
    }
   ],
   "source": [
    "l = [(10,'tushar'),(20,'aman'),(10,'abc')]\n",
    "s = defaultdict(list)\n",
    "for i,j in l:\n",
    "    s[i] = j\n",
    "s[40]\n",
    "print(s)\n",
    "    "
   ]
  },
  {
   "cell_type": "code",
   "execution_count": 28,
   "id": "fa955fa4-36bb-49db-8255-5f44fe8cb159",
   "metadata": {},
   "outputs": [
    {
     "ename": "TypeError",
     "evalue": "'collections.defaultdict' object is not callable",
     "output_type": "error",
     "traceback": [
      "\u001b[1;31m---------------------------------------------------------------------------\u001b[0m",
      "\u001b[1;31mTypeError\u001b[0m                                 Traceback (most recent call last)",
      "Cell \u001b[1;32mIn[28], line 8\u001b[0m\n\u001b[0;32m      6\u001b[0m         sm \u001b[38;5;241m=\u001b[39m \u001b[38;5;28mmax\u001b[39m\n\u001b[0;32m      7\u001b[0m         \u001b[38;5;28mmax\u001b[39m \u001b[38;5;241m=\u001b[39m n[i]\n\u001b[1;32m----> 8\u001b[0m     \u001b[38;5;28;01melif\u001b[39;00m(sm \u001b[38;5;129;01mis\u001b[39;00m \u001b[38;5;28;01mNone\u001b[39;00m \u001b[38;5;129;01mor\u001b[39;00m s(m\u001b[38;5;241m>\u001b[39mn[i] \u001b[38;5;129;01mand\u001b[39;00m n[i]\u001b[38;5;241m!=\u001b[39m\u001b[38;5;28mmax\u001b[39m)):\n\u001b[0;32m      9\u001b[0m         sm \u001b[38;5;241m=\u001b[39m n[i]\n\u001b[0;32m     10\u001b[0m \u001b[38;5;28mprint\u001b[39m(sm)\n",
      "\u001b[1;31mTypeError\u001b[0m: 'collections.defaultdict' object is not callable"
     ]
    }
   ],
   "source": [
    "n = [1,2,3,314,13,41,5]\n",
    "max = n[0]\n",
    "sm = None\n",
    "for i in range(len(n)):\n",
    "    if(n[i]>max):\n",
    "        sm = max\n",
    "        max = n[i]\n",
    "    elif(sm is None or s(m>n[i] and n[i]!=max)):\n",
    "        sm = n[i]\n",
    "print(sm)\n",
    "    "
   ]
  },
  {
   "cell_type": "code",
   "execution_count": 2,
   "id": "a69a7978-9be0-4198-8c42-92f511ff5197",
   "metadata": {},
   "outputs": [
    {
     "name": "stdout",
     "output_type": "stream",
     "text": [
      "1\n",
      "12\n",
      "123\n",
      "1234\n",
      "12345\n"
     ]
    }
   ],
   "source": [
    "n = 5\n",
    "for r in range(1,n+1):\n",
    "    for c in range(1,r+1):\n",
    "        print(c,end = '')\n",
    "    print()"
   ]
  },
  {
   "cell_type": "code",
   "execution_count": 3,
   "id": "06194cb6-3e4f-4a7e-8686-042f20382cf1",
   "metadata": {},
   "outputs": [
    {
     "name": "stdout",
     "output_type": "stream",
     "text": [
      "11111\n",
      "2222\n",
      "333\n",
      "44\n",
      "5\n"
     ]
    }
   ],
   "source": [
    "n = 5\n",
    "for r in range(1,n+1):\n",
    "    for c in range(1,n-r+2):\n",
    "        print(r,end = '')\n",
    "    print()"
   ]
  },
  {
   "cell_type": "code",
   "execution_count": 4,
   "id": "71a0232e-f414-43fb-9d2d-1f75ae4cd348",
   "metadata": {},
   "outputs": [
    {
     "name": "stdout",
     "output_type": "stream",
     "text": [
      "1\n",
      "33\n",
      "555\n",
      "7777\n",
      "99999\n"
     ]
    }
   ],
   "source": [
    "n = 5\n",
    "for r in range(1,n+1):\n",
    "    for c in range(1,r+1):\n",
    "        print(r*2-1,end = '')\n",
    "    print()"
   ]
  },
  {
   "cell_type": "code",
   "execution_count": 12,
   "id": "47d43e0c-779d-4fb6-bd79-d5d589f70af2",
   "metadata": {},
   "outputs": [
    {
     "name": "stdout",
     "output_type": "stream",
     "text": [
      "1\n",
      "21\n",
      "321\n",
      "4321\n",
      "54321\n"
     ]
    }
   ],
   "source": [
    "n = 5\n",
    "for r in range(1,n+1):\n",
    "    for c in range(1,r+1):\n",
    "        print(r-c+1,end ='')\n",
    "    print()"
   ]
  },
  {
   "cell_type": "code",
   "execution_count": 21,
   "id": "c4932761-9e6a-407e-b785-c4a5069ee208",
   "metadata": {},
   "outputs": [
    {
     "name": "stdout",
     "output_type": "stream",
     "text": [
      "54321\n",
      "4321\n",
      "321\n",
      "21\n",
      "1\n"
     ]
    }
   ],
   "source": [
    "n = 5 \n",
    "for r in range(1,n+1):\n",
    "    num = 5\n",
    "    for c in range(1,n-r+2):\n",
    "        print(num-r+1,end = '')\n",
    "        num-=1\n",
    "    print()\n",
    "    "
   ]
  },
  {
   "cell_type": "code",
   "execution_count": 25,
   "id": "68bc4c24-8888-4e01-affd-988ed5e5609b",
   "metadata": {},
   "outputs": [
    {
     "name": "stdout",
     "output_type": "stream",
     "text": [
      "     *\n",
      "    ***\n",
      "   *****\n",
      "  *******\n",
      " *********\n"
     ]
    }
   ],
   "source": [
    "n = 5\n",
    "for r in range(1,n+1):\n",
    "    for s in range(1,n-r+2):\n",
    "        print(\" \",end = '')\n",
    "    for c in range(1,r*2):\n",
    "        print(\"*\",end ='')\n",
    "    print()"
   ]
  },
  {
   "cell_type": "code",
   "execution_count": 26,
   "id": "bd7cc9a8-0f83-47ec-b5c1-7725248f5a7e",
   "metadata": {},
   "outputs": [
    {
     "name": "stdout",
     "output_type": "stream",
     "text": [
      "    1\n",
      "   12\n",
      "  123\n",
      " 1234\n",
      "12345\n"
     ]
    }
   ],
   "source": [
    "n = 5\n",
    "for r in range(1,n+1):\n",
    "    for s in range(1,n-r+1):\n",
    "        print(\" \",end = '')\n",
    "    for c in range(1,r+1):\n",
    "        print(c,end ='')\n",
    "    print()"
   ]
  },
  {
   "cell_type": "code",
   "execution_count": 29,
   "id": "bbaf2b90-a376-4716-ae4f-abb943c69438",
   "metadata": {},
   "outputs": [
    {
     "name": "stdout",
     "output_type": "stream",
     "text": [
      "12345\n",
      "22345\n",
      "33345\n",
      "44445\n",
      "55555\n"
     ]
    }
   ],
   "source": [
    "n = 5\n",
    "for r in range(1,n+1):\n",
    "    for c in range(1,n+1):\n",
    "        if(r<=c):\n",
    "            print(c,end = '')\n",
    "        else:\n",
    "            print(r,end = '')\n",
    "    print()"
   ]
  },
  {
   "cell_type": "code",
   "execution_count": 33,
   "id": "0a0dc2b2-d713-435f-9f7c-a19bb973abcd",
   "metadata": {},
   "outputs": [
    {
     "name": "stdout",
     "output_type": "stream",
     "text": [
      "     *\n",
      "    **\n",
      "   ***\n",
      "  ****\n",
      " *****\n",
      "  ****\n",
      "   ***\n",
      "    **\n",
      "     *\n"
     ]
    }
   ],
   "source": [
    "n = 5\n",
    "for r in range(1,2*n):\n",
    "    if(r<=n):\n",
    "        total = r\n",
    "    else:\n",
    "        total = 2*n-r\n",
    "    nfs = n - total\n",
    "    for s in range(nfs+1):\n",
    "        print(\" \",end = '')\n",
    "    for c in range(1,total+1):\n",
    "        print(\"*\",end = '')\n",
    "    print()"
   ]
  },
  {
   "cell_type": "code",
   "execution_count": 34,
   "id": "9cb7a7e9-ffd2-4b1e-aec8-7da32e557593",
   "metadata": {},
   "outputs": [
    {
     "name": "stdout",
     "output_type": "stream",
     "text": [
      " * * * * * \n",
      "  * * * * \n",
      "   * * * \n",
      "    * * \n",
      "     * \n",
      "     * \n",
      "    * * \n",
      "   * * * \n",
      "  * * * * \n",
      " * * * * * \n"
     ]
    }
   ],
   "source": [
    "n = 5\n",
    "for r in range(1,2*n+1):\n",
    "    if(r<=n):\n",
    "        total = n-r+1\n",
    "    else:\n",
    "        total = r-n\n",
    "    nfs = n - total\n",
    "    for s in range(nfs+1):\n",
    "        print(\" \",end = '')\n",
    "    for c in range(1,total+1):\n",
    "        print(\"* \",end ='')\n",
    "    print()"
   ]
  },
  {
   "cell_type": "code",
   "execution_count": 48,
   "id": "d1e7254e-f121-42d0-ab7b-4eeec4024322",
   "metadata": {},
   "outputs": [
    {
     "name": "stdout",
     "output_type": "stream",
     "text": [
      "* * * * * \n",
      "* * * * \n",
      "* * * \n",
      "* * \n",
      "* \n",
      " * \n",
      " * \n",
      " * \n",
      " * \n"
     ]
    }
   ],
   "source": [
    "n = 5\n",
    "for r in range(1,n+1):\n",
    "    for c in range(1,n-r+2):\n",
    "        print('* ',end = '')\n",
    "    print()\n",
    "\n"
   ]
  },
  {
   "cell_type": "code",
   "execution_count": 67,
   "id": "8d113bc2-078e-4aa8-8af1-8ccd89d507c5",
   "metadata": {},
   "outputs": [
    {
     "name": "stdout",
     "output_type": "stream",
     "text": [
      "* * * * * * * * * * \n",
      "* * * *     * * * * \n",
      "* * *         * * * \n",
      "* *             * * \n",
      "*                 * \n"
     ]
    }
   ],
   "source": [
    "n = 5\n",
    "# Print both patterns side by side\n",
    "for r in range(1, n+1):\n",
    "    # First pattern: decreasing stars\n",
    "    for c in range(1, n-r+2):\n",
    "        print('* ', end='')\n",
    "    \n",
    "    # Add some space between the patterns\n",
    "    print('', end='')\n",
    "    \n",
    "    # Second pattern: increasing spaces and decreasing stars\n",
    "    for s in range(1,r):\n",
    "        print(\"    \", end='')\n",
    "    for k in range(1, n-r+2):\n",
    "        print(\"*\", end=' ')\n",
    "    \n",
    "    # Move to the next line after both patterns are printed\n",
    "    print()\n"
   ]
  },
  {
   "cell_type": "code",
   "execution_count": 4,
   "id": "703efea1-abb7-4faf-9c62-32111198d54a",
   "metadata": {},
   "outputs": [
    {
     "name": "stdout",
     "output_type": "stream",
     "text": [
      "{'b': 2, 'e': 3, 'l': 6, 'a': 2, 'r': 2, 'o': 1}\n"
     ]
    }
   ],
   "source": [
    "a = [\"bella\",\"label\",\"roller\"]\n",
    "my = {}\n",
    "for i in a:\n",
    "    for j in i:\n",
    "        if(j not in my):\n",
    "            my[j] = 1\n",
    "        else:\n",
    "            my[j]+=1\n",
    "print(my)"
   ]
  },
  {
   "cell_type": "code",
   "execution_count": 7,
   "id": "f434a04c-6353-49e6-9854-1240c0942672",
   "metadata": {},
   "outputs": [
    {
     "name": "stdout",
     "output_type": "stream",
     "text": [
      "[4, 0, 1, 1, 3]\n"
     ]
    }
   ],
   "source": [
    "nums = [8,1,2,2,3]\n",
    "res = []\n",
    "for i in range(len(n)):\n",
    "    count = 0\n",
    "    for j in range(len(n)):\n",
    "        if(nums[j]!=nums[i] and nums[j]<nums[i]):\n",
    "            count+=1\n",
    "    res.append(count)\n",
    "print(res)"
   ]
  },
  {
   "cell_type": "code",
   "execution_count": 14,
   "id": "517eba6e-308c-400b-8a82-7aaf705f7519",
   "metadata": {},
   "outputs": [
    {
     "name": "stdout",
     "output_type": "stream",
     "text": [
      "True\n"
     ]
    }
   ],
   "source": [
    "a = 'aabbbb'\n",
    "b = 'aaaabb'\n",
    "my = {}\n",
    "my_dict = {}\n",
    "for i,j in zip(a,b):\n",
    "    if(i not in my or j not in my_dict):\n",
    "        my[i] = 1\n",
    "        my_dict[j] = 1\n",
    "    else:\n",
    "        my[i]+=1\n",
    "        my_dict[j]+=1\n",
    "print(my==my_dict)"
   ]
  },
  {
   "cell_type": "code",
   "execution_count": 18,
   "id": "511f1385-4e05-43f2-b806-fb1acaad9749",
   "metadata": {},
   "outputs": [
    {
     "name": "stdout",
     "output_type": "stream",
     "text": [
      "['o', 'l', 'l', 'e', 'h']\n"
     ]
    }
   ],
   "source": [
    "a = [\"h\",\"e\",\"l\",\"l\",\"o\"]\n",
    "\n",
    "for i in range(0,len(a)//2):\n",
    "    rev = len(a)-i-1\n",
    "    a[i],a[rev] = a[rev],a[i]\n",
    "print(a)"
   ]
  },
  {
   "cell_type": "code",
   "execution_count": 28,
   "id": "a8e8a44e-790c-4fce-a917-c0717276a0ce",
   "metadata": {},
   "outputs": [
    {
     "name": "stdout",
     "output_type": "stream",
     "text": [
      " s'teL ekat edoCteeL tsetnoc\n"
     ]
    }
   ],
   "source": [
    "s =  \"Let's take LeetCode contest\"\n",
    "rev = ''\n",
    "\n",
    "for i in s.split():\n",
    "    wr = ''\n",
    "    for j in i:\n",
    "        wr = j + wr\n",
    "    rev = rev+ \" \" + wr.lstrip()\n",
    "print(rev)"
   ]
  },
  {
   "cell_type": "code",
   "execution_count": 7,
   "id": "f2021350-f7dc-4581-81ff-3851e9989ba7",
   "metadata": {},
   "outputs": [
    {
     "data": {
      "text/plain": [
       "472"
      ]
     },
     "execution_count": 7,
     "metadata": {},
     "output_type": "execute_result"
    }
   ],
   "source": [
    "def sum(func,l):\n",
    "    res = 0\n",
    "    for i in l:\n",
    "        if(func(i)):\n",
    "            res = res + i\n",
    "    return res\n",
    "x = lambda x:x%2==0\n",
    "y = lambda x:x%2!=0\n",
    "z = lambda x:x%3==0\n",
    "\n",
    "sum(y,[11,23,11342,435,3])"
   ]
  },
  {
   "cell_type": "code",
   "execution_count": 24,
   "id": "5672faf7-ff0e-4f39-abc3-1d8da92d5fe1",
   "metadata": {},
   "outputs": [
    {
     "name": "stdout",
     "output_type": "stream",
     "text": [
      "[False, False, True]\n"
     ]
    }
   ],
   "source": [
    "def sum(l):\n",
    "    return l\n",
    "a = sum\n",
    "a([128,42,13])\n",
    "\n",
    "x = list(map(lambda x:x%2==0,a([13,13,142])))\n",
    "print(x)"
   ]
  },
  {
   "cell_type": "code",
   "execution_count": 36,
   "id": "3dc3e67e-3096-45a6-9d6d-1f636c7bc965",
   "metadata": {},
   "outputs": [
    {
     "name": "stdout",
     "output_type": "stream",
     "text": [
      "[13, 6]\n"
     ]
    }
   ],
   "source": [
    "def a(l):\n",
    "    return l\n",
    "b = a\n",
    "b([12,5])\n",
    "\n",
    "s = list(map(lambda x:x+1,b([12,5])))\n",
    "print(s)"
   ]
  },
  {
   "cell_type": "code",
   "execution_count": 37,
   "id": "2ffe4575-d203-4515-b6e9-80353715cf72",
   "metadata": {},
   "outputs": [
    {
     "name": "stdout",
     "output_type": "stream",
     "text": [
      "[12, 35]\n",
      "after change in list [10, 35]\n",
      "after change [10, 35]\n"
     ]
    }
   ],
   "source": [
    "my = [12,35]\n",
    "def a(f):\n",
    "    print(f)\n",
    "    f[0] = 10\n",
    "    print('after change in list',f)\n",
    "a(my)\n",
    "print('after change',my)"
   ]
  },
  {
   "cell_type": "code",
   "execution_count": 44,
   "id": "9bb4c36d-70cb-4fd3-ba88-418b219200d1",
   "metadata": {},
   "outputs": [
    {
     "name": "stdout",
     "output_type": "stream",
     "text": [
      "Hello\n",
      "None\n"
     ]
    }
   ],
   "source": [
    "def fun():\n",
    "    print(\"Hello\")\n",
    "out = fun()\n",
    "print(out)\n"
   ]
  },
  {
   "cell_type": "code",
   "execution_count": 12,
   "id": "a5a080b9-ce1c-4d05-9f8f-2f3f0bac2b7f",
   "metadata": {},
   "outputs": [
    {
     "name": "stdout",
     "output_type": "stream",
     "text": [
      "False\n"
     ]
    }
   ],
   "source": [
    "a = 's'\n",
    "my = []\n",
    "my_dict = []\n",
    "for i in a:\n",
    "    if(ord(i)>97 and ord(i)<122):\n",
    "       my.append(i)\n",
    "    else:\n",
    "        my_dict.append(i)\n",
    "if(len(my)>=1 and len(my_dict)>=1):\n",
    "    print(\"True\")\n",
    "else:\n",
    "    print(\"False\")"
   ]
  },
  {
   "cell_type": "code",
   "execution_count": 22,
   "id": "d66f4bf9-81a6-415d-b637-cdeb51b6ebfc",
   "metadata": {},
   "outputs": [
    {
     "name": "stdout",
     "output_type": "stream",
     "text": [
      "regx andm\n"
     ]
    }
   ],
   "source": [
    "s = 'Regex and ram'\n",
    "rev = ''\n",
    "for i in s:\n",
    "    if(i.lower() not in rev):\n",
    "        rev = rev + i.lower()\n",
    "print(rev)"
   ]
  },
  {
   "cell_type": "code",
   "execution_count": null,
   "id": "f449bc3d-d3e9-4b05-b406-5df34429f082",
   "metadata": {},
   "outputs": [],
   "source": []
  },
  {
   "cell_type": "code",
   "execution_count": 34,
   "id": "b18ce057-6665-4ce1-8354-35cbdf4caf2a",
   "metadata": {},
   "outputs": [],
   "source": [
    "a = [1,2,4,1,42,2]\n"
   ]
  },
  {
   "cell_type": "code",
   "execution_count": 35,
   "id": "ca35f8b6-6f22-4872-9f44-23ba1f5acf31",
   "metadata": {},
   "outputs": [
    {
     "ename": "TypeError",
     "evalue": "'int' object is not callable",
     "output_type": "error",
     "traceback": [
      "\u001b[1;31m---------------------------------------------------------------------------\u001b[0m",
      "\u001b[1;31mTypeError\u001b[0m                                 Traceback (most recent call last)",
      "Cell \u001b[1;32mIn[35], line 8\u001b[0m\n\u001b[0;32m      6\u001b[0m     \u001b[38;5;28;01melse\u001b[39;00m:\n\u001b[0;32m      7\u001b[0m         l\u001b[38;5;241m.\u001b[39mappend(\u001b[38;5;28mlen\u001b[39m(i))\n\u001b[1;32m----> 8\u001b[0m \u001b[38;5;28mprint\u001b[39m(\u001b[38;5;28mmax\u001b[39m(l))\n",
      "\u001b[1;31mTypeError\u001b[0m: 'int' object is not callable"
     ]
    }
   ],
   "source": [
    "a = [\"alic3\",\"bob\",\"3\",\"4\",\"00000\"]\n",
    "l = []\n",
    "for i in a:\n",
    "    if(i.isdigit()):\n",
    "        l.append(int(i))\n",
    "    else:\n",
    "        l.append(len(i))\n",
    "print(max(l))"
   ]
  },
  {
   "cell_type": "code",
   "execution_count": 44,
   "id": "3236beac-7513-490e-89ad-2640cf72ae39",
   "metadata": {},
   "outputs": [
    {
     "name": "stdout",
     "output_type": "stream",
     "text": [
      "['5', '1', '2', '3', '0', '1']\n"
     ]
    },
    {
     "data": {
      "text/plain": [
       "'512301'"
      ]
     },
     "execution_count": 44,
     "metadata": {},
     "output_type": "execute_result"
    }
   ],
   "source": [
    "n = \"51230100\"\n",
    "a = list(n)\n",
    "while(a[-1] == '0'):\n",
    "    a.pop()\n",
    "print(a)\n",
    "''.join(a)"
   ]
  },
  {
   "cell_type": "code",
   "execution_count": null,
   "id": "53b40ac1-6954-4066-8ef4-716a391e672f",
   "metadata": {},
   "outputs": [],
   "source": []
  }
 ],
 "metadata": {
  "kernelspec": {
   "display_name": "Python 3 (ipykernel)",
   "language": "python",
   "name": "python3"
  },
  "language_info": {
   "codemirror_mode": {
    "name": "ipython",
    "version": 3
   },
   "file_extension": ".py",
   "mimetype": "text/x-python",
   "name": "python",
   "nbconvert_exporter": "python",
   "pygments_lexer": "ipython3",
   "version": "3.11.7"
  }
 },
 "nbformat": 4,
 "nbformat_minor": 5
}
