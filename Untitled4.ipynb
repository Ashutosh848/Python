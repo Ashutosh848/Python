{
 "cells": [
  {
   "cell_type": "code",
   "execution_count": 2,
   "id": "b46ae570-4976-4077-bffe-7a07450e3d01",
   "metadata": {},
   "outputs": [
    {
     "name": "stdout",
     "output_type": "stream",
     "text": [
      "[2]\n"
     ]
    }
   ],
   "source": [
    "a = [1,1]\n",
    "res = []\n",
    "count = 0\n",
    "for i in a:\n",
    "    count+=1\n",
    "    if(count not in a):\n",
    "        res.append(count)\n",
    "print(res)"
   ]
  },
  {
   "cell_type": "code",
   "execution_count": 4,
   "id": "c77e48df-0e51-43c6-8404-b0d822bcd009",
   "metadata": {},
   "outputs": [
    {
     "name": "stdout",
     "output_type": "stream",
     "text": [
      "helllo\n"
     ]
    }
   ],
   "source": [
    "a = 'HellLo'\n",
    "print(a.lower())"
   ]
  },
  {
   "cell_type": "code",
   "execution_count": 17,
   "id": "a85f54c9-86bf-4599-b4ad-260f7ba8fc7b",
   "metadata": {},
   "outputs": [
    {
     "name": "stdout",
     "output_type": "stream",
     "text": [
      "{'B': 2, 'o': 1, 'b': 2, ' ': 12, 'h': 4, 'i': 4, 't': 6, 'a': 5, 'l': 3, ',': 1, 'e': 3, 'A': 1, 'L': 2, 'f': 3, 'w': 2, 'r': 2, 's': 1, '.': 1}\n"
     ]
    }
   ],
   "source": [
    "para = \"Bob hit a ball, the hit BALL flew far after it was hit.\"\n",
    "banned = [\"hit\"]\n",
    "my_dict = {}\n",
    "for i in range(0,len(para)):\n",
    "    if(para[i] not in my_dict):\n",
    "        my_dict[para[i]] = 1\n",
    "    else:\n",
    "        my_dict[para[i]] +=1\n",
    "print(my_dict)"
   ]
  },
  {
   "cell_type": "code",
   "execution_count": 4,
   "id": "8de06a32-140a-4cda-9a66-7d18e2f3e738",
   "metadata": {},
   "outputs": [
    {
     "data": {
      "text/plain": [
       "15"
      ]
     },
     "execution_count": 4,
     "metadata": {},
     "output_type": "execute_result"
    }
   ],
   "source": [
    "b = 10\n",
    "def fun(a):\n",
    "    a = 15\n",
    "    return a\n",
    "fun()"
   ]
  },
  {
   "cell_type": "code",
   "execution_count": 5,
   "id": "7fb9cfbc-93b9-4d62-be33-8e5ba1ea4fb2",
   "metadata": {},
   "outputs": [
    {
     "name": "stdout",
     "output_type": "stream",
     "text": [
      "92 39\n"
     ]
    }
   ],
   "source": [
    "#parameter /formal parameter / Informal parameter\n",
    "def fun(a,b):\n",
    "    print(a,b)\n",
    "fun(92,39)"
   ]
  },
  {
   "cell_type": "code",
   "execution_count": 19,
   "id": "4221a235-106c-47ea-bff6-69166655f549",
   "metadata": {},
   "outputs": [],
   "source": [
    "#Diff between *args and **kwargs"
   ]
  },
  {
   "cell_type": "code",
   "execution_count": 30,
   "id": "48d61aa1-e94c-4033-8131-babc0857febe",
   "metadata": {},
   "outputs": [
    {
     "name": "stdout",
     "output_type": "stream",
     "text": [
      "2 It is not Prime no.\n",
      "3 It is a prime no\n",
      "4 It is a prime no\n",
      "5 It is not Prime no.\n"
     ]
    }
   ],
   "source": [
    "def fun(x):\n",
    "    for i in range(2,(x//2)+1):\n",
    "        if(x%i==0):\n",
    "            print(i,'It is not Prime no.')\n",
    "        else:\n",
    "            print(i,'It is a prime no')\n",
    "fun(10)"
   ]
  },
  {
   "cell_type": "code",
   "execution_count": 31,
   "id": "3198d112-4adb-46ab-92b1-6c37b0d48aa0",
   "metadata": {},
   "outputs": [
    {
     "data": {
      "text/plain": [
       "10"
      ]
     },
     "execution_count": 31,
     "metadata": {},
     "output_type": "execute_result"
    }
   ],
   "source": [
    "def fun(x,y):\n",
    "    if(x>y):\n",
    "        small = y\n",
    "    else:\n",
    "        small = x\n",
    "    for i in range(1,small+1):\n",
    "        if((x%i==0) and (y%i==0)):\n",
    "            hcf = i\n",
    "    return hcf\n",
    "fun(10,20)"
   ]
  },
  {
   "cell_type": "code",
   "execution_count": 38,
   "id": "15324c44-ba7d-4378-bdc3-d522118656d5",
   "metadata": {},
   "outputs": [
    {
     "name": "stdout",
     "output_type": "stream",
     "text": [
      "10\n"
     ]
    }
   ],
   "source": [
    "def fun(a,b):\n",
    "    x = a\n",
    "    y = b\n",
    "    while(y>0):\n",
    "        x,y = y,x%y\n",
    "        hcf = x\n",
    "    print(hcf)\n",
    "fun(10,20)"
   ]
  },
  {
   "cell_type": "code",
   "execution_count": 1,
   "id": "608986a7-8aad-4419-a4c6-2fb6b2384033",
   "metadata": {},
   "outputs": [],
   "source": [
    "#if we are passing imutatable datatype then there will be not changes in the \n",
    "\n",
    "\n",
    "#The first class function is a function that is an instance of the object type\n",
    "#You can store the function in a variable \n",
    "#You can pass the function AS a parameter to another function\n",
    "#You can return the function from a function\n",
    "#You can store them in data structure such as hash tables,lists.\n",
    "\n"
   ]
  },
  {
   "cell_type": "code",
   "execution_count": 12,
   "id": "ded66465-a23f-4bf5-afc1-fd48ebe94b62",
   "metadata": {},
   "outputs": [
    {
     "ename": "TypeError",
     "evalue": "'int' object is not iterable",
     "output_type": "error",
     "traceback": [
      "\u001b[1;31m---------------------------------------------------------------------------\u001b[0m",
      "\u001b[1;31mTypeError\u001b[0m                                 Traceback (most recent call last)",
      "Cell \u001b[1;32mIn[12], line 3\u001b[0m\n\u001b[0;32m      1\u001b[0m \u001b[38;5;28;01mdef\u001b[39;00m \u001b[38;5;21mfun\u001b[39m(n):\n\u001b[0;32m      2\u001b[0m     \u001b[38;5;28;01mreturn\u001b[39;00m(n\u001b[38;5;241m+\u001b[39mn)\n\u001b[1;32m----> 3\u001b[0m out \u001b[38;5;241m=\u001b[39m \u001b[38;5;28mlist\u001b[39m(fun(\u001b[38;5;241m20\u001b[39m))\n\u001b[0;32m      4\u001b[0m out\n",
      "\u001b[1;31mTypeError\u001b[0m: 'int' object is not iterable"
     ]
    }
   ],
   "source": [
    "def fun(n):\n",
    "    return(n+n)\n",
    "out = fun(20)\n",
    "out"
   ]
  },
  {
   "cell_type": "code",
   "execution_count": 28,
   "id": "3f37b7c0-9253-4b4e-b4a5-9b33a9c8d524",
   "metadata": {},
   "outputs": [
    {
     "name": "stdout",
     "output_type": "stream",
     "text": [
      "True\n"
     ]
    }
   ],
   "source": [
    "s=list('anagram')\n",
    "t = list('nagaram')\n",
    "\n",
    "for i in range(0,len(s)):\n",
    "    for j in range(i+1,len(s)):\n",
    "        if(s[i]>s[j]):\n",
    "            s[i],s[j] = s[j],s[i]\n",
    "\n",
    "for k in range(0,len(t)):\n",
    "    for f in range(k+1,len(t)):\n",
    "        if(t[k]>t[f]):\n",
    "            t[k],t[f] = t[f],t[k]\n",
    "\n",
    "print(s==t)"
   ]
  },
  {
   "cell_type": "code",
   "execution_count": 29,
   "id": "316be769-7774-4af4-b8c2-f0bcd78df42a",
   "metadata": {},
   "outputs": [],
   "source": [
    "class Solution:\n",
    "    def isAnagram(self, s: str, t: str) -> bool:\n",
    "        if(len(s)!=(len(t))):\n",
    "            return False\n",
    "        else:\n",
    "            my_dict = {}\n",
    "            for i in s:\n",
    "                if(i not in my_dict):\n",
    "                    my_dict[i] = 1\n",
    "                else:\n",
    "                    my_dict[i]+=1\n",
    "            my_dict2 = {}\n",
    "\n",
    "            for j in t:\n",
    "                if(j not in my_dict2):\n",
    "                    my_dict2[j] = 1\n",
    "                else:\n",
    "                    my_dict2[j]+=1\n",
    "            return my_dict == my_dict2"
   ]
  },
  {
   "cell_type": "code",
   "execution_count": 36,
   "id": "da927815-d660-49bf-80c0-0040e2800bcd",
   "metadata": {},
   "outputs": [
    {
     "name": "stdout",
     "output_type": "stream",
     "text": [
      "['h', 'e', 'l', 'l', 'o']\n"
     ]
    }
   ],
   "source": [
    "a = [\"h\",\"e\",\"l\",\"l\",\"o\"]\n",
    "for i in range(0,len(a)):\n",
    "    rev = len(a)-i-1\n",
    "    a[i],a[rev] = a[rev],a[i]\n",
    "print(a)\n",
    "    "
   ]
  },
  {
   "cell_type": "code",
   "execution_count": 39,
   "id": "feba2b6f-b54c-441e-bb62-54e3bab1f933",
   "metadata": {},
   "outputs": [
    {
     "name": "stdout",
     "output_type": "stream",
     "text": [
      "0\n",
      "1\n"
     ]
    }
   ],
   "source": [
    "a = [\"h\",\"e\",\"l\",\"l\",\"o\"]\n",
    "mid = len(a)//2\n",
    "for i in range(0,mid):\n",
    "    "
   ]
  },
  {
   "cell_type": "code",
   "execution_count": 6,
   "id": "b8cc39e0-f639-4f89-92cc-d032f38218ba",
   "metadata": {},
   "outputs": [
    {
     "name": "stdout",
     "output_type": "stream",
     "text": [
      "1\n",
      "2\n"
     ]
    }
   ],
   "source": [
    "n = [-2,0,1,3]\n",
    "target = 2\n",
    "count = 0\n",
    "i = 0\n",
    "k = len(n)-1\n",
    "j = i+1\n",
    "while(j<k):\n",
    "    if(n[i] + n[j] + n[k]<target):\n",
    "        count+=1\n",
    "        k-=1\n",
    "        print(count)"
   ]
  },
  {
   "cell_type": "code",
   "execution_count": 1,
   "id": "1591f322-e488-4ce5-8be4-9626d0e09acb",
   "metadata": {},
   "outputs": [
    {
     "name": "stdout",
     "output_type": "stream",
     "text": [
      "5\n"
     ]
    }
   ],
   "source": [
    "buy = 0\n",
    "sell = 1\n",
    "maxi = 0\n",
    "mylist = [7, 1, 5, 3, 6, 4]\n",
    "no_days = len(mylist)\n",
    "\n",
    "while sell < no_days:\n",
    "    if mylist[sell] > mylist[buy]:\n",
    "        profit_margin = mylist[sell] - mylist[buy]\n",
    "        maxi = max(maxi, profit_margin)\n",
    "    else:\n",
    "        buy = sell\n",
    "    sell+=1\n",
    "\n",
    "print(maxi)"
   ]
  },
  {
   "cell_type": "code",
   "execution_count": 13,
   "id": "e32adb29-fc40-4086-9db3-3a1787149a6f",
   "metadata": {},
   "outputs": [
    {
     "name": "stdout",
     "output_type": "stream",
     "text": [
      "False\n"
     ]
    }
   ],
   "source": [
    "s = 'foo'\n",
    "a = 'bar'\n",
    "count = 0\n",
    "for i,j in zip(s,a):\n",
    "    if(s.index(i) == a.index(j)):\n",
    "        count+=1\n",
    "\n",
    "if(count == len(s)):\n",
    "    print(\"True\")\n",
    "else:\n",
    "    print(\"False\")"
   ]
  },
  {
   "cell_type": "code",
   "execution_count": 17,
   "id": "eb82eaa0-c673-4285-a239-2850b1abf395",
   "metadata": {},
   "outputs": [
    {
     "name": "stdout",
     "output_type": "stream",
     "text": [
      "[1, 2, 2]\n"
     ]
    }
   ],
   "source": [
    "a = [1,1,2]\n",
    "j = 1\n",
    "for  i in range(1,len(a)):\n",
    "    if(a[i]!=a[i-1]):\n",
    "        a[j] = a[i]\n",
    "        j+=1\n",
    "print(a)       "
   ]
  },
  {
   "cell_type": "code",
   "execution_count": 26,
   "id": "77b1089e-ebae-4b55-9c82-df008a2774cc",
   "metadata": {},
   "outputs": [
    {
     "name": "stdout",
     "output_type": "stream",
     "text": [
      "2\n",
      "[2, 2, 2, 3]\n"
     ]
    }
   ],
   "source": [
    "a = [3,2,2,3]\n",
    "val = 3\n",
    "j = 0\n",
    "for i in range(len(a)):\n",
    "    if(a[i]==val):\n",
    "        pass\n",
    "    else:\n",
    "        a[j] = a[i]\n",
    "        j+=1\n",
    "print(j)\n",
    "print(a)"
   ]
  },
  {
   "cell_type": "code",
   "execution_count": 29,
   "id": "724d602e-a3d6-47c4-9ec8-c1aedb3982a0",
   "metadata": {},
   "outputs": [
    {
     "name": "stdout",
     "output_type": "stream",
     "text": [
      "[1, 3, 5, 11, 24, 1, 4, 1]\n"
     ]
    }
   ],
   "source": [
    "a = [3,1,4,1,5,11,24,1]\n",
    "j = 1\n",
    "\n",
    "for i in range(len(a)):\n",
    "    if(a[j]<a[i]):\n",
    "        a[i],a[j] = a[j],a[i]\n",
    "        j+=1\n",
    "    \n",
    "print(a)"
   ]
  },
  {
   "cell_type": "code",
   "execution_count": 16,
   "id": "fb544478-e4cf-4ffc-b106-65b56d667a03",
   "metadata": {},
   "outputs": [
    {
     "name": "stdout",
     "output_type": "stream",
     "text": [
      "True\n"
     ]
    }
   ],
   "source": [
    "a = 'abba'\n",
    "s = 'dog cat cat dog'.split()\n",
    "count = 0\n",
    "for i,j in zip(a,s):\n",
    "    if(a.index(i) == s.index(j)):\n",
    "        count+=1\n",
    "print(count == len(a))"
   ]
  },
  {
   "cell_type": "code",
   "execution_count": 22,
   "id": "89500e1d-237e-4c9b-a1a5-8bd1c52a2a59",
   "metadata": {},
   "outputs": [
    {
     "name": "stdout",
     "output_type": "stream",
     "text": [
      "True\n"
     ]
    }
   ],
   "source": [
    "a = 'a'\n",
    "m = 'm'\n",
    "\n",
    "if(len(a)<2 and len(m)<2):\n",
    "    print(a == m)\n",
    "else:\n",
    "    "
   ]
  },
  {
   "cell_type": "code",
   "execution_count": 24,
   "id": "ae5e1412-bcb7-497e-9e9b-96d273b1bcaa",
   "metadata": {},
   "outputs": [
    {
     "name": "stdout",
     "output_type": "stream",
     "text": [
      "[2]\n"
     ]
    }
   ],
   "source": [
    "a = [1,1]\n",
    "count = 0\n",
    "res = []\n",
    "for i in range(1,len(a)+1):\n",
    "    count+=1\n",
    "    if(count not in a):\n",
    "        res.append(count)\n",
    "print(res)"
   ]
  },
  {
   "cell_type": "code",
   "execution_count": 33,
   "id": "24f12eea-334a-4159-a013-71d5fe4b0d81",
   "metadata": {},
   "outputs": [
    {
     "name": "stdout",
     "output_type": "stream",
     "text": [
      "{'a': 1, 'b': 1, 'c': 4, 'd': 2}\n"
     ]
    }
   ],
   "source": [
    "a = \"abccccdd\"\n",
    "my = {}\n",
    "for i in range(len(a)):\n",
    "    if a[i] not in my:\n",
    "        my[a[i]] = 1\n",
    "    else:\n",
    "        my[a[i]]+=1\n",
    "print(my)\n"
   ]
  },
  {
   "cell_type": "code",
   "execution_count": 37,
   "id": "96fe154f-2b27-4293-a462-bb414b2f1b7d",
   "metadata": {},
   "outputs": [
    {
     "ename": "SyntaxError",
     "evalue": "expected ':' (2842277237.py, line 7)",
     "output_type": "error",
     "traceback": [
      "\u001b[1;36m  Cell \u001b[1;32mIn[37], line 7\u001b[1;36m\u001b[0m\n\u001b[1;33m    for j in s\u001b[0m\n\u001b[1;37m              ^\u001b[0m\n\u001b[1;31mSyntaxError\u001b[0m\u001b[1;31m:\u001b[0m expected ':'\n"
     ]
    }
   ],
   "source": [
    "s = [\"Hello\",\"Alaska\",\"Dad\",\"Peace\"]\n",
    "r1 = 'qwertyuiop'\n",
    "r2 = 'asdfghjkl'\n",
    "r3 = 'zxcvbnm'\n",
    "res = []\n",
    "for i in s:\n",
    "    for j in s\n",
    "    if(i in r2):\n",
    "        i = i.lower()\n",
    "        res.append(i)\n",
    "print(res)"
   ]
  },
  {
   "cell_type": "code",
   "execution_count": 40,
   "id": "1f00520d-5199-4ee7-b5ef-afa8f3527b7c",
   "metadata": {},
   "outputs": [
    {
     "name": "stdout",
     "output_type": "stream",
     "text": [
      "2\n"
     ]
    }
   ],
   "source": [
    "a = [1,2,6]\n",
    "b = [2,4,5]\n",
    "res = []\n",
    "for i in a:\n",
    "    if(i in b):\n",
    "        res.append(i)\n",
    "print(min(res))"
   ]
  },
  {
   "cell_type": "code",
   "execution_count": 49,
   "id": "a0df83c4-2cdc-410f-b293-72413b9beb9d",
   "metadata": {},
   "outputs": [
    {
     "name": "stdout",
     "output_type": "stream",
     "text": [
      "['EPCFFt', 'RPJOFYZUBFSIYp', 'VOYGWWNCf', 'Vk', 'Sgizfdfrims', 'IEO', 'QTASHKQ', 'WSpmqvb']\n"
     ]
    }
   ],
   "source": [
    "a = [\"IEO\",\"Sgizfdfrims\",\"QTASHKQ\",\"Vk\",\"RPJOFYZUBFSIYp\",\"EPCFFt\",\"VOYGWWNCf\",\"WSpmqvb\"]\n",
    "h = [17233,32521,14087,42738,46669,65662,43204,8224]\n",
    "\n",
    "for i in range(len(h)):\n",
    "    for j in range(i+1,len(h)):\n",
    "        if(h[i]<h[j]):\n",
    "            h[i],h[j] = h[j],h[i]\n",
    "            a[i],a[j] = a[j],a[i]\n",
    "print(a)"
   ]
  },
  {
   "cell_type": "code",
   "execution_count": 52,
   "id": "96806a2f-2813-459d-9416-ccd89542ce92",
   "metadata": {},
   "outputs": [
    {
     "name": "stdout",
     "output_type": "stream",
     "text": [
      "{2: 0, 1: 1, 4: 2, 3: 3, 9: 4, 6: 5}\n"
     ]
    }
   ],
   "source": [
    "arr1 = [2,3,1,3,2,4,6,7,9,2,19]\n",
    "arr2 = [2,1,4,3,9,6]\n",
    "my = {}\n",
    "for i in range(len(arr2)):\n",
    "    if(arr2[i] not in my):\n",
    "        my[arr2[i]] = i\n",
    "print(my)\n"
   ]
  },
  {
   "cell_type": "code",
   "execution_count": 57,
   "id": "c47e9cef-03bb-47d8-aac5-cf6f6b753b6c",
   "metadata": {},
   "outputs": [
    {
     "name": "stdout",
     "output_type": "stream",
     "text": [
      "[2, 1, 0, 3]\n"
     ]
    }
   ],
   "source": [
    "a = [6,5,4,8]\n",
    "res = []\n",
    "for i in range(len(a)):\n",
    "    count = 0\n",
    "    for j in range(len(a)):\n",
    "        if(a[i]>a[j]):\n",
    "            count+=1\n",
    "    res.append(count)\n",
    "print(res)"
   ]
  },
  {
   "cell_type": "code",
   "execution_count": 60,
   "id": "06fe9772-3ee9-4e5a-ac13-f49cbf3f700a",
   "metadata": {},
   "outputs": [
    {
     "name": "stdout",
     "output_type": "stream",
     "text": [
      "{'a': 4, 'b': 4, 'c': 4}\n"
     ]
    }
   ],
   "source": [
    "s = \"aaaabbbbcccc\"\n",
    "my = {}\n",
    "for i in s:\n",
    "    if(i not in my):\n",
    "        my[i] = 1\n",
    "    else:\n",
    "        my[i]+=1\n",
    "print(my)"
   ]
  },
  {
   "cell_type": "code",
   "execution_count": 61,
   "id": "808b64f0-a3c2-4877-b500-483645d69010",
   "metadata": {},
   "outputs": [
    {
     "name": "stdout",
     "output_type": "stream",
     "text": [
      "44\n"
     ]
    }
   ],
   "source": [
    "a = [1,8,6,2,5,4,8,3,7]\n",
    "sum = 0\n",
    "for i in a:\n",
    "    sum = i + sum\n",
    "print(sum)"
   ]
  },
  {
   "cell_type": "code",
   "execution_count": 64,
   "id": "3d43da8a-ae9b-4444-9990-ccefe0f813b0",
   "metadata": {},
   "outputs": [
    {
     "name": "stdout",
     "output_type": "stream",
     "text": [
      "-1\n",
      "-1\n",
      "-1\n",
      "-1\n",
      "-1\n",
      "-1\n"
     ]
    }
   ],
   "source": [
    "a = [5,7,7,8,8,10]\n",
    "res = []\n",
    "t = 6\n",
    "for i in range(len(a)):\n",
    "    if(a[i] == t):\n",
    "        res.append(i)\n",
    "    else:\n"
   ]
  },
  {
   "cell_type": "code",
   "execution_count": 73,
   "id": "abaede58-372d-45b7-9c36-a7c4292147e2",
   "metadata": {},
   "outputs": [
    {
     "name": "stdout",
     "output_type": "stream",
     "text": [
      "5\n"
     ]
    }
   ],
   "source": [
    "n = [0,0,1,1,1,2,2,3,3,4]\n",
    "j = 1\n",
    "for i in range(1,len(n)):\n",
    "    if(n[i]!=n[i-1]):\n",
    "        n[j] = n[i]\n",
    "        j+=1\n",
    "    else:\n",
    "        pass\n",
    "print(j)\n",
    "        "
   ]
  },
  {
   "cell_type": "code",
   "execution_count": null,
   "id": "f2686271-5af2-48cc-8626-1749d67273a8",
   "metadata": {},
   "outputs": [],
   "source": [
    "n = [1,3,5,6]\n",
    "t = 5\n",
    "i = 0\n",
    "j = len(n)-1\n",
    "while(i<=j):\n",
    "    "
   ]
  }
 ],
 "metadata": {
  "kernelspec": {
   "display_name": "Python 3 (ipykernel)",
   "language": "python",
   "name": "python3"
  },
  "language_info": {
   "codemirror_mode": {
    "name": "ipython",
    "version": 3
   },
   "file_extension": ".py",
   "mimetype": "text/x-python",
   "name": "python",
   "nbconvert_exporter": "python",
   "pygments_lexer": "ipython3",
   "version": "3.11.7"
  }
 },
 "nbformat": 4,
 "nbformat_minor": 5
}
