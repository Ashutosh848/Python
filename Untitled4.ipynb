{
 "cells": [
  {
   "cell_type": "code",
   "execution_count": 2,
   "id": "b46ae570-4976-4077-bffe-7a07450e3d01",
   "metadata": {},
   "outputs": [
    {
     "name": "stdout",
     "output_type": "stream",
     "text": [
      "[2]\n"
     ]
    }
   ],
   "source": [
    "a = [1,1]\n",
    "res = []\n",
    "count = 0\n",
    "for i in a:\n",
    "    count+=1\n",
    "    if(count not in a):\n",
    "        res.append(count)\n",
    "print(res)"
   ]
  },
  {
   "cell_type": "code",
   "execution_count": 4,
   "id": "c77e48df-0e51-43c6-8404-b0d822bcd009",
   "metadata": {},
   "outputs": [
    {
     "name": "stdout",
     "output_type": "stream",
     "text": [
      "helllo\n"
     ]
    }
   ],
   "source": [
    "a = 'HellLo'\n",
    "print(a.lower())"
   ]
  },
  {
   "cell_type": "code",
   "execution_count": 17,
   "id": "a85f54c9-86bf-4599-b4ad-260f7ba8fc7b",
   "metadata": {},
   "outputs": [
    {
     "name": "stdout",
     "output_type": "stream",
     "text": [
      "{'B': 2, 'o': 1, 'b': 2, ' ': 12, 'h': 4, 'i': 4, 't': 6, 'a': 5, 'l': 3, ',': 1, 'e': 3, 'A': 1, 'L': 2, 'f': 3, 'w': 2, 'r': 2, 's': 1, '.': 1}\n"
     ]
    }
   ],
   "source": [
    "para = \"Bob hit a ball, the hit BALL flew far after it was hit.\"\n",
    "banned = [\"hit\"]\n",
    "my_dict = {}\n",
    "for i in range(0,len(para)):\n",
    "    if(para[i] not in my_dict):\n",
    "        my_dict[para[i]] = 1\n",
    "    else:\n",
    "        my_dict[para[i]] +=1\n",
    "print(my_dict)"
   ]
  },
  {
   "cell_type": "code",
   "execution_count": 4,
   "id": "8de06a32-140a-4cda-9a66-7d18e2f3e738",
   "metadata": {},
   "outputs": [
    {
     "data": {
      "text/plain": [
       "15"
      ]
     },
     "execution_count": 4,
     "metadata": {},
     "output_type": "execute_result"
    }
   ],
   "source": [
    "b = 10\n",
    "def fun(a):\n",
    "    a = 15\n",
    "    return a\n",
    "fun()"
   ]
  },
  {
   "cell_type": "code",
   "execution_count": 5,
   "id": "7fb9cfbc-93b9-4d62-be33-8e5ba1ea4fb2",
   "metadata": {},
   "outputs": [
    {
     "name": "stdout",
     "output_type": "stream",
     "text": [
      "92 39\n"
     ]
    }
   ],
   "source": [
    "#parameter /formal parameter / Informal parameter\n",
    "def fun(a,b):\n",
    "    print(a,b)\n",
    "fun(92,39)"
   ]
  },
  {
   "cell_type": "code",
   "execution_count": 19,
   "id": "4221a235-106c-47ea-bff6-69166655f549",
   "metadata": {},
   "outputs": [],
   "source": [
    "#Diff between *args and **kwargs"
   ]
  },
  {
   "cell_type": "code",
   "execution_count": 30,
   "id": "48d61aa1-e94c-4033-8131-babc0857febe",
   "metadata": {},
   "outputs": [
    {
     "name": "stdout",
     "output_type": "stream",
     "text": [
      "2 It is not Prime no.\n",
      "3 It is a prime no\n",
      "4 It is a prime no\n",
      "5 It is not Prime no.\n"
     ]
    }
   ],
   "source": [
    "def fun(x):\n",
    "    for i in range(2,(x//2)+1):\n",
    "        if(x%i==0):\n",
    "            print(i,'It is not Prime no.')\n",
    "        else:\n",
    "            print(i,'It is a prime no')\n",
    "fun(10)"
   ]
  },
  {
   "cell_type": "code",
   "execution_count": 31,
   "id": "3198d112-4adb-46ab-92b1-6c37b0d48aa0",
   "metadata": {},
   "outputs": [
    {
     "data": {
      "text/plain": [
       "10"
      ]
     },
     "execution_count": 31,
     "metadata": {},
     "output_type": "execute_result"
    }
   ],
   "source": [
    "def fun(x,y):\n",
    "    if(x>y):\n",
    "        small = y\n",
    "    else:\n",
    "        small = x\n",
    "    for i in range(1,small+1):\n",
    "        if((x%i==0) and (y%i==0)):\n",
    "            hcf = i\n",
    "    return hcf\n",
    "fun(10,20)"
   ]
  },
  {
   "cell_type": "code",
   "execution_count": 38,
   "id": "15324c44-ba7d-4378-bdc3-d522118656d5",
   "metadata": {},
   "outputs": [
    {
     "name": "stdout",
     "output_type": "stream",
     "text": [
      "10\n"
     ]
    }
   ],
   "source": [
    "def fun(a,b):\n",
    "    x = a\n",
    "    y = b\n",
    "    while(y>0):\n",
    "        x,y = y,x%y\n",
    "        hcf = x\n",
    "    print(hcf)\n",
    "fun(10,20)"
   ]
  },
  {
   "cell_type": "code",
   "execution_count": 1,
   "id": "608986a7-8aad-4419-a4c6-2fb6b2384033",
   "metadata": {},
   "outputs": [],
   "source": [
    "#if we are passing imutatable datatype then there will be not changes in the \n",
    "\n",
    "\n",
    "#The first class function is a function that is an instance of the object type\n",
    "#You can store the function in a variable \n",
    "#You can pass the function AS a parameter to another function\n",
    "#You can return the function from a function\n",
    "#You can store them in data structure such as hash tables,lists.\n",
    "\n"
   ]
  },
  {
   "cell_type": "code",
   "execution_count": 12,
   "id": "ded66465-a23f-4bf5-afc1-fd48ebe94b62",
   "metadata": {},
   "outputs": [
    {
     "ename": "TypeError",
     "evalue": "'int' object is not iterable",
     "output_type": "error",
     "traceback": [
      "\u001b[1;31m---------------------------------------------------------------------------\u001b[0m",
      "\u001b[1;31mTypeError\u001b[0m                                 Traceback (most recent call last)",
      "Cell \u001b[1;32mIn[12], line 3\u001b[0m\n\u001b[0;32m      1\u001b[0m \u001b[38;5;28;01mdef\u001b[39;00m \u001b[38;5;21mfun\u001b[39m(n):\n\u001b[0;32m      2\u001b[0m     \u001b[38;5;28;01mreturn\u001b[39;00m(n\u001b[38;5;241m+\u001b[39mn)\n\u001b[1;32m----> 3\u001b[0m out \u001b[38;5;241m=\u001b[39m \u001b[38;5;28mlist\u001b[39m(fun(\u001b[38;5;241m20\u001b[39m))\n\u001b[0;32m      4\u001b[0m out\n",
      "\u001b[1;31mTypeError\u001b[0m: 'int' object is not iterable"
     ]
    }
   ],
   "source": [
    "def fun(n):\n",
    "    return(n+n)\n",
    "out = fun(20)\n",
    "out"
   ]
  },
  {
   "cell_type": "code",
   "execution_count": 28,
   "id": "3f37b7c0-9253-4b4e-b4a5-9b33a9c8d524",
   "metadata": {},
   "outputs": [
    {
     "name": "stdout",
     "output_type": "stream",
     "text": [
      "True\n"
     ]
    }
   ],
   "source": [
    "s=list('anagram')\n",
    "t = list('nagaram')\n",
    "\n",
    "for i in range(0,len(s)):\n",
    "    for j in range(i+1,len(s)):\n",
    "        if(s[i]>s[j]):\n",
    "            s[i],s[j] = s[j],s[i]\n",
    "\n",
    "for k in range(0,len(t)):\n",
    "    for f in range(k+1,len(t)):\n",
    "        if(t[k]>t[f]):\n",
    "            t[k],t[f] = t[f],t[k]\n",
    "\n",
    "print(s==t)"
   ]
  },
  {
   "cell_type": "code",
   "execution_count": 29,
   "id": "316be769-7774-4af4-b8c2-f0bcd78df42a",
   "metadata": {},
   "outputs": [],
   "source": [
    "class Solution:\n",
    "    def isAnagram(self, s: str, t: str) -> bool:\n",
    "        if(len(s)!=(len(t))):\n",
    "            return False\n",
    "        else:\n",
    "            my_dict = {}\n",
    "            for i in s:\n",
    "                if(i not in my_dict):\n",
    "                    my_dict[i] = 1\n",
    "                else:\n",
    "                    my_dict[i]+=1\n",
    "            my_dict2 = {}\n",
    "\n",
    "            for j in t:\n",
    "                if(j not in my_dict2):\n",
    "                    my_dict2[j] = 1\n",
    "                else:\n",
    "                    my_dict2[j]+=1\n",
    "            return my_dict == my_dict2"
   ]
  },
  {
   "cell_type": "code",
   "execution_count": 36,
   "id": "da927815-d660-49bf-80c0-0040e2800bcd",
   "metadata": {},
   "outputs": [
    {
     "name": "stdout",
     "output_type": "stream",
     "text": [
      "['h', 'e', 'l', 'l', 'o']\n"
     ]
    }
   ],
   "source": [
    "a = [\"h\",\"e\",\"l\",\"l\",\"o\"]\n",
    "for i in range(0,len(a)):\n",
    "    rev = len(a)-i-1\n",
    "    a[i],a[rev] = a[rev],a[i]\n",
    "print(a)\n",
    "    "
   ]
  },
  {
   "cell_type": "code",
   "execution_count": 39,
   "id": "feba2b6f-b54c-441e-bb62-54e3bab1f933",
   "metadata": {},
   "outputs": [
    {
     "name": "stdout",
     "output_type": "stream",
     "text": [
      "0\n",
      "1\n"
     ]
    }
   ],
   "source": [
    "a = [\"h\",\"e\",\"l\",\"l\",\"o\"]\n",
    "mid = len(a)//2\n",
    "for i in range(0,mid):\n",
    "    "
   ]
  },
  {
   "cell_type": "code",
   "execution_count": 6,
   "id": "b8cc39e0-f639-4f89-92cc-d032f38218ba",
   "metadata": {},
   "outputs": [
    {
     "name": "stdout",
     "output_type": "stream",
     "text": [
      "1\n",
      "2\n"
     ]
    }
   ],
   "source": [
    "n = [-2,0,1,3]\n",
    "target = 2\n",
    "count = 0\n",
    "i = 0\n",
    "k = len(n)-1\n",
    "j = i+1\n",
    "while(j<k):\n",
    "    if(n[i] + n[j] + n[k]<target):\n",
    "        count+=1\n",
    "        k-=1\n",
    "        print(count)"
   ]
  },
  {
   "cell_type": "code",
   "execution_count": 1,
   "id": "1591f322-e488-4ce5-8be4-9626d0e09acb",
   "metadata": {},
   "outputs": [
    {
     "ename": "SyntaxError",
     "evalue": "invalid non-printable character U+00A0 (3382271627.py, line 13)",
     "output_type": "error",
     "traceback": [
      "\u001b[1;36m  Cell \u001b[1;32mIn[1], line 13\u001b[1;36m\u001b[0m\n\u001b[1;33m    sell += 1\u001b[0m\n\u001b[1;37m           ^\u001b[0m\n\u001b[1;31mSyntaxError\u001b[0m\u001b[1;31m:\u001b[0m invalid non-printable character U+00A0\n"
     ]
    }
   ],
   "source": [
    "buy = 0\n",
    "sell = 1\n",
    "maxi = 0\n",
    "mylist = [7, 1, 5, 3, 6, 4]\n",
    "no_days = len(mylist)\n",
    "\n",
    "while sell < no_days:\n",
    "    if mylist[sell] > mylist[buy]:\n",
    "        profit_margin = mylist[sell] - mylist[buy]\n",
    "        maxi = max(maxi, profit_margin)\n",
    "    else:\n",
    "        buy = sell\n",
    "    sell += 1\n",
    "\n",
    "print(maxi)"
   ]
  },
  {
   "cell_type": "code",
   "execution_count": 13,
   "id": "e32adb29-fc40-4086-9db3-3a1787149a6f",
   "metadata": {},
   "outputs": [
    {
     "name": "stdout",
     "output_type": "stream",
     "text": [
      "False\n"
     ]
    }
   ],
   "source": [
    "s = 'foo'\n",
    "a = 'bar'\n",
    "count = 0\n",
    "for i,j in zip(s,a):\n",
    "    if(s.index(i) == a.index(j)):\n",
    "        count+=1\n",
    "\n",
    "if(count == len(s)):\n",
    "    print(\"True\")\n",
    "else:\n",
    "    print(\"False\")"
   ]
  },
  {
   "cell_type": "code",
   "execution_count": 17,
   "id": "eb82eaa0-c673-4285-a239-2850b1abf395",
   "metadata": {},
   "outputs": [
    {
     "name": "stdout",
     "output_type": "stream",
     "text": [
      "[1, 2, 2]\n"
     ]
    }
   ],
   "source": [
    "a = [1,1,2]\n",
    "j = 1\n",
    "for  i in range(1,len(a)):\n",
    "    if(a[i]!=a[i-1]):\n",
    "        a[j] = a[i]\n",
    "        j+=1\n",
    "print(a)       "
   ]
  },
  {
   "cell_type": "code",
   "execution_count": 26,
   "id": "77b1089e-ebae-4b55-9c82-df008a2774cc",
   "metadata": {},
   "outputs": [
    {
     "name": "stdout",
     "output_type": "stream",
     "text": [
      "2\n",
      "[2, 2, 2, 3]\n"
     ]
    }
   ],
   "source": [
    "a = [3,2,2,3]\n",
    "val = 3\n",
    "j = 0\n",
    "for i in range(len(a)):\n",
    "    if(a[i]==val):\n",
    "        pass\n",
    "    else:\n",
    "        a[j] = a[i]\n",
    "        j+=1\n",
    "print(j)\n",
    "print(a)"
   ]
  },
  {
   "cell_type": "code",
   "execution_count": 29,
   "id": "724d602e-a3d6-47c4-9ec8-c1aedb3982a0",
   "metadata": {},
   "outputs": [
    {
     "name": "stdout",
     "output_type": "stream",
     "text": [
      "[1, 3, 5, 11, 24, 1, 4, 1]\n"
     ]
    }
   ],
   "source": [
    "a = [3,1,4,1,5,11,24,1]\n",
    "j = 1\n",
    "\n",
    "for i in range(len(a)):\n",
    "    if(a[j]<a[i]):\n",
    "        a[i],a[j] = a[j],a[i]\n",
    "        j+=1\n",
    "    \n",
    "print(a)"
   ]
  },
  {
   "cell_type": "code",
   "execution_count": null,
   "id": "fb544478-e4cf-4ffc-b106-65b56d667a03",
   "metadata": {},
   "outputs": [],
   "source": []
  }
 ],
 "metadata": {
  "kernelspec": {
   "display_name": "Python 3 (ipykernel)",
   "language": "python",
   "name": "python3"
  },
  "language_info": {
   "codemirror_mode": {
    "name": "ipython",
    "version": 3
   },
   "file_extension": ".py",
   "mimetype": "text/x-python",
   "name": "python",
   "nbconvert_exporter": "python",
   "pygments_lexer": "ipython3",
   "version": "3.11.7"
  }
 },
 "nbformat": 4,
 "nbformat_minor": 5
}
