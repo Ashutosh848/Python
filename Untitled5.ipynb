{
 "cells": [
  {
   "cell_type": "code",
   "execution_count": 1,
   "id": "2f75c543-92a1-4b97-b5f2-d9bba948fcb1",
   "metadata": {},
   "outputs": [
    {
     "name": "stdout",
     "output_type": "stream",
     "text": [
      "ashu\n"
     ]
    }
   ],
   "source": [
    "a = \"ashutosh tiwari\"\n",
    "print(a[0:4])"
   ]
  },
  {
   "cell_type": "code",
   "execution_count": 2,
   "id": "5b8083f1-03ad-4436-8e3b-5a5a95130a8a",
   "metadata": {},
   "outputs": [
    {
     "name": "stdout",
     "output_type": "stream",
     "text": [
      "ho\n"
     ]
    }
   ],
   "source": [
    "print(a[2:8:3])"
   ]
  },
  {
   "cell_type": "code",
   "execution_count": 10,
   "id": "5ac5ad07-e9be-48a7-a506-88bec23d4081",
   "metadata": {},
   "outputs": [
    {
     "name": "stdout",
     "output_type": "stream",
     "text": [
      "\n"
     ]
    }
   ],
   "source": [
    "print(a[-8:-4:-2])"
   ]
  },
  {
   "cell_type": "code",
   "execution_count": 13,
   "id": "f03bc68b-8e24-4e47-8dea-5116cc8f352f",
   "metadata": {},
   "outputs": [
    {
     "name": "stdout",
     "output_type": "stream",
     "text": [
      "t hsotu\n"
     ]
    }
   ],
   "source": [
    "print(a[9:2:-1])"
   ]
  },
  {
   "cell_type": "code",
   "execution_count": 18,
   "id": "f0d0494c-8950-41f8-bd7f-0c10224d5ce6",
   "metadata": {},
   "outputs": [
    {
     "name": "stdout",
     "output_type": "stream",
     "text": [
      "question\n"
     ]
    }
   ],
   "source": [
    "b = 'question'\n",
    "print(b[:])"
   ]
  },
  {
   "cell_type": "code",
   "execution_count": 2,
   "id": "3e087f53-f8f4-4d6f-b815-4254e91a977b",
   "metadata": {},
   "outputs": [
    {
     "name": "stdin",
     "output_type": "stream",
     "text": [
      " 6\n"
     ]
    },
    {
     "name": "stdout",
     "output_type": "stream",
     "text": [
      "720\n"
     ]
    }
   ],
   "source": [
    "n = int(input())\n",
    "fact = 1\n",
    "for i in range(1,n+1):\n",
    "    fact = fact * i\n",
    "print(fact)"
   ]
  },
  {
   "cell_type": "code",
   "execution_count": 3,
   "id": "480f5d67-f691-451f-953f-23919ca4b867",
   "metadata": {},
   "outputs": [
    {
     "name": "stdout",
     "output_type": "stream",
     "text": [
      "IADJIAD\n",
      "SADKADJ\n"
     ]
    }
   ],
   "source": [
    "a = ['iadjiad','sadkadj']\n",
    "for i in a:\n",
    "    print(i.upper())"
   ]
  },
  {
   "cell_type": "code",
   "execution_count": 4,
   "id": "b1a00808-82d5-4003-955a-a700ce5e4694",
   "metadata": {},
   "outputs": [
    {
     "name": "stdout",
     "output_type": "stream",
     "text": [
      "321\n"
     ]
    }
   ],
   "source": [
    "n = 123\n",
    "rev = 0\n",
    "while(n!=0):\n",
    "    digit = n%10\n",
    "    rev = rev*10 + digit\n",
    "    n=n//10\n",
    "print(rev)"
   ]
  },
  {
   "cell_type": "code",
   "execution_count": 6,
   "id": "5790263c-2fd4-437b-95aa-d67497179fa9",
   "metadata": {},
   "outputs": [
    {
     "name": "stdout",
     "output_type": "stream",
     "text": [
      "7\n"
     ]
    }
   ],
   "source": [
    "n = 1231298\n",
    "count = 0\n",
    "while(n!=0):\n",
    "    digit = n%10\n",
    "    count+=1\n",
    "    n//=10\n",
    "print(count)"
   ]
  },
  {
   "cell_type": "code",
   "execution_count": 10,
   "id": "99bdfe6b-0f8d-48d3-808d-544063bae769",
   "metadata": {},
   "outputs": [
    {
     "name": "stdin",
     "output_type": "stream",
     "text": [
      " 1\n"
     ]
    },
    {
     "name": "stdout",
     "output_type": "stream",
     "text": [
      "0\n",
      "1\n",
      "1\n",
      "2\n",
      "3\n",
      "5\n",
      "8\n",
      "13\n",
      "21\n",
      "34\n"
     ]
    }
   ],
   "source": [
    "a = 0\n",
    "b = 1\n",
    "n=int(input())\n",
    "while(n<=10):\n",
    "    print(a)\n",
    "    a,b = b,a+b\n",
    "    n+=1\n"
   ]
  },
  {
   "cell_type": "code",
   "execution_count": 11,
   "id": "ab6484ee-8927-4f8d-8a3b-46c0c18d6399",
   "metadata": {},
   "outputs": [
    {
     "name": "stdout",
     "output_type": "stream",
     "text": [
      "1 : 2\n",
      "2 : 4\n"
     ]
    }
   ],
   "source": [
    "d = {1:2,2:4}\n",
    "for i,j in d.items():\n",
    "    print(i,\":\",j)"
   ]
  },
  {
   "cell_type": "code",
   "execution_count": 12,
   "id": "3dbbc35d-bc49-472d-a776-9df347a598e4",
   "metadata": {},
   "outputs": [
    {
     "name": "stdout",
     "output_type": "stream",
     "text": [
      "6\n"
     ]
    }
   ],
   "source": [
    "n = 123\n",
    "sum = 0\n",
    "while(n!=0):\n",
    "    digit = n%10\n",
    "    sum = sum + digit\n",
    "    n//=10\n",
    "print(sum)"
   ]
  },
  {
   "cell_type": "code",
   "execution_count": 15,
   "id": "4a7c7992-eacc-4308-87d1-6f1067f0a83f",
   "metadata": {},
   "outputs": [
    {
     "name": "stdout",
     "output_type": "stream",
     "text": [
      "2\n",
      "3\n",
      "5\n",
      "7\n",
      "11\n",
      "13\n",
      "17\n",
      "19\n",
      "23\n",
      "29\n",
      "31\n",
      "37\n",
      "41\n",
      "43\n",
      "47\n"
     ]
    }
   ],
   "source": [
    "for i in range(2,51):\n",
    "    is_prime = True\n",
    "    for div in range(2,int(i**0.5)+1):\n",
    "        if(i%div==0):\n",
    "            is_prime = False\n",
    "            break\n",
    "    if is_prime:\n",
    "        print(i)"
   ]
  },
  {
   "cell_type": "code",
   "execution_count": 16,
   "id": "ab127bbd-97bc-41ea-bd34-7ed1ff7ca22c",
   "metadata": {},
   "outputs": [
    {
     "name": "stdout",
     "output_type": "stream",
     "text": [
      "hsotuhsa\n"
     ]
    }
   ],
   "source": [
    "a = \"ashutosh\"\n",
    "rev = ''\n",
    "for i in a:\n",
    "    rev = i + rev\n",
    "print(rev)"
   ]
  },
  {
   "cell_type": "code",
   "execution_count": 32,
   "id": "d705b2cd-83f6-4b49-83c1-08c9bfe7dca5",
   "metadata": {},
   "outputs": [
    {
     "name": "stdout",
     "output_type": "stream",
     "text": [
      "adkadjakdadhajsd\n"
     ]
    }
   ],
   "source": [
    "a = ['sajhdjahda','adkadjakdadhajsd','sdjahdja','sadj']\n",
    "max = 0\n",
    "for i in a:\n",
    "    if(len(i)<max):\n",
    "        max = len(i)\n",
    "        max_word = i\n",
    "print(max_word)"
   ]
  },
  {
   "cell_type": "code",
   "execution_count": 33,
   "id": "e6d5c6e9-4f64-4ffb-8314-f204d559307c",
   "metadata": {},
   "outputs": [
    {
     "name": "stdout",
     "output_type": "stream",
     "text": [
      "adkadjakdadhajsd\n"
     ]
    }
   ],
   "source": [
    "a = ['sajhdjahda','adkadjakdadhajsd','sdjahdja','sadj']\n",
    "\n",
    "for i in a:\n",
    "    if(i[0]=='a' or i[0]=='e'):\n",
    "        print(i)"
   ]
  },
  {
   "cell_type": "code",
   "execution_count": 34,
   "id": "2021e9a5-62f0-419d-82cf-c19f64b634e8",
   "metadata": {},
   "outputs": [
    {
     "name": "stdin",
     "output_type": "stream",
     "text": [
      " 8\n"
     ]
    },
    {
     "name": "stdout",
     "output_type": "stream",
     "text": [
      " 1X8 = 8 \n",
      " 2X8 = 16 \n",
      " 3X8 = 24 \n",
      " 4X8 = 32 \n",
      " 5X8 = 40 \n",
      " 6X8 = 48 \n",
      " 7X8 = 56 \n",
      " 8X8 = 64 \n",
      " 9X8 = 72 \n",
      " 10X8 = 80 \n"
     ]
    }
   ],
   "source": [
    "i = int(input())\n",
    "for n in range(1,11):\n",
    "    print(f\" {n}X{i} = {n*i} \")"
   ]
  },
  {
   "cell_type": "code",
   "execution_count": 36,
   "id": "97e3295c-77d5-433c-96f8-4e42ea3b0f90",
   "metadata": {},
   "outputs": [
    {
     "name": "stdin",
     "output_type": "stream",
     "text": [
      " jkakd\n",
      " akjdak\n",
      " asdjkad\n",
      " jfkajkd\n",
      " stop\n"
     ]
    },
    {
     "name": "stdout",
     "output_type": "stream",
     "text": [
      "['akjdak', 'asdjkad', 'jfkajkd', 'stop']\n"
     ]
    }
   ],
   "source": [
    "n = input()\n",
    "a = []\n",
    "\n",
    "while(n!=\"stop\"):\n",
    "    n = input()\n",
    "    a.append(n)\n",
    "print(a)"
   ]
  },
  {
   "cell_type": "code",
   "execution_count": 37,
   "id": "02331ceb-d3a5-47ea-84ee-c4d52410ce99",
   "metadata": {},
   "outputs": [
    {
     "name": "stdout",
     "output_type": "stream",
     "text": [
      "184\n"
     ]
    }
   ],
   "source": [
    "a = [1,2,3,4,5,6,7,8,8,9]\n",
    "sum = 0\n",
    "for i in a:\n",
    "    if(i%2==0):\n",
    "        i = i**2\n",
    "        sum = i+sum\n",
    "print(sum)"
   ]
  },
  {
   "cell_type": "code",
   "execution_count": 39,
   "id": "b640b5e7-ad38-47f1-89cb-b55719640a65",
   "metadata": {},
   "outputs": [
    {
     "name": "stdin",
     "output_type": "stream",
     "text": [
      " 6\n"
     ]
    },
    {
     "name": "stdout",
     "output_type": "stream",
     "text": [
      "720\n"
     ]
    }
   ],
   "source": [
    "n = int(input())\n",
    "p = 1\n",
    "fact = 1\n",
    "while(p<=n):\n",
    "    fact = fact *p\n",
    "    p+=1\n",
    "print(fact)"
   ]
  },
  {
   "cell_type": "code",
   "execution_count": 40,
   "id": "672cbc40-3f23-4ee5-a60c-289e6bc2c601",
   "metadata": {},
   "outputs": [
    {
     "name": "stdout",
     "output_type": "stream",
     "text": [
      "[1, 9, 25, 49, 81]\n"
     ]
    }
   ],
   "source": [
    "a = [1,2,3,4,5,6,7,8,9]\n",
    "b = []\n",
    "\n",
    "for i in a:\n",
    "    if(i%2!=0):\n",
    "        i = i**2\n",
    "        b.append(i)\n",
    "print(b)"
   ]
  },
  {
   "cell_type": "code",
   "execution_count": 41,
   "id": "d7762424-608f-4833-9d58-352248b7ba39",
   "metadata": {},
   "outputs": [
    {
     "name": "stdout",
     "output_type": "stream",
     "text": [
      "3\n"
     ]
    }
   ],
   "source": [
    "a = ['adjkada','sja','adkjakda','akjdakdad','asj']\n",
    "count = 0\n",
    "for i in a:\n",
    "    if(len(i)>=5):\n",
    "        count+=1\n",
    "print(count)"
   ]
  },
  {
   "cell_type": "code",
   "execution_count": 44,
   "id": "f245445c-f80f-4554-9059-0674075be1b6",
   "metadata": {},
   "outputs": [
    {
     "name": "stdout",
     "output_type": "stream",
     "text": [
      "(2, 2)\n",
      "(4, 4)\n",
      "(6, 6)\n"
     ]
    }
   ],
   "source": [
    "a = [(2,2),(3,4),(4,4),(6,6)]\n",
    "for i in a:\n",
    "    if(i[0]%2==0 and i[1]%2==0):\n",
    "        print(i)"
   ]
  },
  {
   "cell_type": "code",
   "execution_count": 48,
   "id": "879d0cdc-b6e5-40e4-b4d9-d50342a36b43",
   "metadata": {},
   "outputs": [
    {
     "name": "stdout",
     "output_type": "stream",
     "text": [
      "3\n"
     ]
    }
   ],
   "source": [
    "a = [1,2,2,34,6,2]\n",
    "max = a[0]\n",
    "for i in a:\n",
    "    if(i>max):\n",
    "        max = i\n",
    "        ind = a.index(i)\n",
    "print(ind)"
   ]
  },
  {
   "cell_type": "code",
   "execution_count": 61,
   "id": "18530085-ecfc-4a54-b2bd-a16ea68f27c7",
   "metadata": {},
   "outputs": [
    {
     "name": "stdout",
     "output_type": "stream",
     "text": [
      "Arm 153\n",
      "Arm 370\n",
      "Arm 371\n",
      "Arm 407\n",
      "Arm 1634\n",
      "Arm 8208\n",
      "Arm 9474\n",
      "Arm 54748\n",
      "Arm 92727\n",
      "Arm 93084\n"
     ]
    }
   ],
   "source": [
    "for i in range(100,100000):\n",
    "    temp = i\n",
    "    sum = 0\n",
    "    temp1 = str(temp)\n",
    "    while(i!=0):\n",
    "        digit = i%10\n",
    "        sum = sum + digit **len(temp1)\n",
    "        i//=10\n",
    "    if(sum==temp):\n",
    "        print(\"Arm\",sum)\n",
    "        "
   ]
  },
  {
   "cell_type": "code",
   "execution_count": 64,
   "id": "212d4874-3bfb-4d1e-a7b8-b9bf39df9608",
   "metadata": {},
   "outputs": [
    {
     "name": "stdout",
     "output_type": "stream",
     "text": [
      "not\n"
     ]
    }
   ],
   "source": [
    "n = 1332\n",
    "temp = n\n",
    "rev = 0\n",
    "\n",
    "while(n!=0):\n",
    "    digit = n%10\n",
    "    rev = rev*10 + digit\n",
    "    n//=10\n",
    "if(rev==temp):\n",
    "    print(\"pali\")\n",
    "else:\n",
    "    print(\"not\")"
   ]
  },
  {
   "cell_type": "code",
   "execution_count": 86,
   "id": "273e4fc6-39ea-4603-8e2f-c09aa28c7c5d",
   "metadata": {},
   "outputs": [
    {
     "data": {
      "text/plain": [
       "False"
      ]
     },
     "execution_count": 86,
     "metadata": {},
     "output_type": "execute_result"
    }
   ],
   "source": [
    "s = {1,2,3,4,5}\n",
    "a = {7,8,5,2,4,2,1}\n",
    "c = a.issubset(s)\n",
    "c"
   ]
  },
  {
   "cell_type": "code",
   "execution_count": 1,
   "id": "57046ba1-3bb6-4430-b7dc-e05dd6f618be",
   "metadata": {},
   "outputs": [
    {
     "name": "stdout",
     "output_type": "stream",
     "text": [
      "Loss\n"
     ]
    }
   ],
   "source": [
    "sp = 120\n",
    "cp = 140\n",
    "\n",
    "if(sp>cp):\n",
    "    print(\"profit\")\n",
    "else:\n",
    "    print(\"Loss\")"
   ]
  },
  {
   "cell_type": "code",
   "execution_count": 4,
   "id": "005c98ee-aae2-46ce-8e1b-a7eae7cd2bc9",
   "metadata": {},
   "outputs": [
    {
     "name": "stdout",
     "output_type": "stream",
     "text": [
      "Perfect\n"
     ]
    }
   ],
   "source": [
    "a = 60\n",
    "b = 60\n",
    "c = 60\n",
    "if(a+b+c==180):\n",
    "    print(\"Perfect\")\n",
    "else:\n",
    "    print(\"Not\")"
   ]
  },
  {
   "cell_type": "code",
   "execution_count": 6,
   "id": "c144b4b5-4964-4ec4-a422-ec475a78b585",
   "metadata": {},
   "outputs": [
    {
     "name": "stdout",
     "output_type": "stream",
     "text": [
      "True\n"
     ]
    }
   ],
   "source": [
    "a = 60\n",
    "b = 50\n",
    "c = 50\n",
    "\n",
    "if(a==b or a==c or b==a or b==c or c==a or c==b):\n",
    "    print(\"True\")\n",
    "else:\n",
    "    print(\"Not\")"
   ]
  },
  {
   "cell_type": "code",
   "execution_count": 12,
   "id": "11ea7d9b-36b8-4754-947d-4e51a76c1a1f",
   "metadata": {},
   "outputs": [
    {
     "name": "stdout",
     "output_type": "stream",
     "text": [
      "7200.0\n"
     ]
    }
   ],
   "source": [
    "bs = 9000\n",
    "\n",
    "if(bs<=10000):\n",
    "    hr = bs - bs*20/100\n",
    "    print(hr)\n"
   ]
  },
  {
   "cell_type": "code",
   "execution_count": 14,
   "id": "ea4fa900-d76b-4e8d-9dd9-31aaa50ea662",
   "metadata": {},
   "outputs": [
    {
     "name": "stdout",
     "output_type": "stream",
     "text": [
      "360\n"
     ]
    }
   ],
   "source": [
    "te = 120\n",
    "\n",
    "if(te<=50):\n",
    "    te = te*2\n",
    "    print(te)\n",
    "elif(te>50 and te<=150):\n",
    "    te = te*3\n",
    "    print(te)"
   ]
  },
  {
   "cell_type": "code",
   "execution_count": 20,
   "id": "e299fa7f-a3c8-4b7e-ba81-98e325625043",
   "metadata": {},
   "outputs": [
    {
     "name": "stdout",
     "output_type": "stream",
     "text": [
      "leap\n"
     ]
    }
   ],
   "source": [
    "ye = 2020\n",
    "\n",
    "if (ye % 400 == 0):\n",
    "    print(\"leap\")\n",
    "elif (ye % 100 == 0):\n",
    "    print(\"normal\")\n",
    "elif (ye % 4 == 0):\n",
    "    print(\"leap\")\n",
    "else:\n",
    "    print(\"normal\")\n"
   ]
  },
  {
   "cell_type": "code",
   "execution_count": 22,
   "id": "828b84f5-88e6-4b50-ab4b-2496035ff370",
   "metadata": {},
   "outputs": [
    {
     "name": "stdout",
     "output_type": "stream",
     "text": [
      "9000.0\n",
      "8100.0\n",
      "7290.0\n",
      "6561.0\n",
      "5904.9\n",
      "5314.41\n",
      "4782.969\n",
      "4304.6721\n",
      "3874.20489\n",
      "3486.784401\n"
     ]
    }
   ],
   "source": [
    "n = 10\n",
    "pop = 10000\n",
    "while(n>=1):\n",
    "    pop = pop-pop*10/100\n",
    "    n-=1\n",
    "    print(pop)"
   ]
  },
  {
   "cell_type": "code",
   "execution_count": 23,
   "id": "99007f50-55d0-40ca-86f6-c0a73ea86139",
   "metadata": {},
   "outputs": [
    {
     "name": "stdout",
     "output_type": "stream",
     "text": [
      "55\n"
     ]
    }
   ],
   "source": [
    "n = 1\n",
    "sum = 0\n",
    "while(n<=10):\n",
    "    sum = sum + n\n",
    "    n+=1\n",
    "print(sum)"
   ]
  },
  {
   "cell_type": "code",
   "execution_count": 28,
   "id": "f8ac00cc-e3c0-409e-9cba-52c8dbfe9b5b",
   "metadata": {},
   "outputs": [
    {
     "name": "stdin",
     "output_type": "stream",
     "text": [
      " 2\n",
      " 34\n",
      " 1\n",
      " 3\n",
      " 4\n",
      " 5\n",
      " 25\n",
      " 2\n",
      " 4\n",
      " 0\n"
     ]
    },
    {
     "name": "stdout",
     "output_type": "stream",
     "text": [
      "78\n",
      "8.666666666666666\n"
     ]
    }
   ],
   "source": [
    "a = int(input())\n",
    "sum = 0\n",
    "count = 0\n",
    "avg = 0\n",
    "while(a!=0):\n",
    "    a = int(input())\n",
    "    count+=1\n",
    "    sum = a + sum\n",
    "    avg = sum/count\n",
    "print(sum)\n",
    "print(avg)"
   ]
  },
  {
   "cell_type": "code",
   "execution_count": 29,
   "id": "d1b729cd-03f4-4a32-8e79-835986a1207c",
   "metadata": {},
   "outputs": [
    {
     "name": "stdout",
     "output_type": "stream",
     "text": [
      "(1, 2)\n",
      "(2, 4)\n"
     ]
    }
   ],
   "source": [
    "a = [(1,2),(2,2),(2,4)]\n",
    "for i in a:\n",
    "    if(i[0]!=i[1]):\n",
    "        print(i)"
   ]
  },
  {
   "cell_type": "code",
   "execution_count": 33,
   "id": "e932f5eb-ce5a-4ae6-8837-3ead224b1262",
   "metadata": {},
   "outputs": [
    {
     "name": "stdout",
     "output_type": "stream",
     "text": [
      "*\n",
      "**\n",
      "***\n",
      "****\n",
      "*****\n"
     ]
    }
   ],
   "source": [
    "n = 5\n",
    "for r in range(1,n+1):\n",
    "    for c in range(r):\n",
    "        print(\"*\",end= '')\n",
    "    print()"
   ]
  },
  {
   "cell_type": "code",
   "execution_count": 55,
   "id": "2dd7c5b3-82e7-4200-a4ef-b9ce4ef870aa",
   "metadata": {},
   "outputs": [
    {
     "name": "stdout",
     "output_type": "stream",
     "text": [
      "     1\n",
      "    1 2\n",
      "   1 2 3\n",
      "  1 2 3 4\n",
      " 1 2 3 4 5\n"
     ]
    }
   ],
   "source": [
    "n = 5\n",
    "for r in range(1,n+1):\n",
    "    for s in range(n-r):\n",
    "        print(\" \",end = '')\n",
    "    for c in range(1,r+1):\n",
    "        print(\"\",c,end = '')\n",
    "    print()\n",
    "        "
   ]
  },
  {
   "cell_type": "code",
   "execution_count": 43,
   "id": "f53eccb1-d1cb-4b1e-b8d1-ca87c50b0637",
   "metadata": {},
   "outputs": [
    {
     "name": "stdout",
     "output_type": "stream",
     "text": [
      "* * * * * \n",
      "* * * * \n",
      "* * * \n",
      "* * \n",
      "* \n"
     ]
    }
   ],
   "source": [
    "n = 5\n",
    "for r in range(1,n+1):\n",
    "    \n",
    "    for c in range(n-r+1):\n",
    "        print(\"* \",end = '')\n",
    "    print()"
   ]
  },
  {
   "cell_type": "code",
   "execution_count": 52,
   "id": "7013cff1-c120-424c-a5ad-d8020c4a45ce",
   "metadata": {},
   "outputs": [
    {
     "name": "stdout",
     "output_type": "stream",
     "text": [
      "* * * * * \n",
      " * * * * \n",
      "  * * * \n",
      "   * * \n",
      "    * \n"
     ]
    }
   ],
   "source": [
    "n = 5\n",
    "for r in range(1,n+1):\n",
    "    for s in range(r-1):\n",
    "        print(\" \",end = '')\n",
    "    for c in range(n-r+1):\n",
    "        print(\"* \",end = '')\n",
    "    print()"
   ]
  },
  {
   "cell_type": "code",
   "execution_count": 56,
   "id": "b6c9f6b2-eae6-4c76-b100-2cbe006333a6",
   "metadata": {},
   "outputs": [
    {
     "name": "stdout",
     "output_type": "stream",
     "text": [
      "      1\n",
      "     1 2\n",
      "    1 2 3\n",
      "   1 2 3 4\n",
      "  1 2 3 4 5\n",
      "   1 2 3 4\n",
      "    1 2 3\n",
      "     1 2\n",
      "      1\n",
      "      \n"
     ]
    }
   ],
   "source": [
    "n = 5\n",
    "\n",
    "for r in range(1,2*n+1):\n",
    "    if(r<=n):\n",
    "        total = r\n",
    "    else:\n",
    "        total = 2*n-r\n",
    "    nfs = n-total\n",
    "    for s in range(nfs+1):\n",
    "        print(' ',end = '')\n",
    "    for c in range(1,total+1):\n",
    "        print(\"\",c,end = '')\n",
    "    print()"
   ]
  },
  {
   "cell_type": "code",
   "execution_count": 72,
   "id": "a6ce977f-ff97-4916-84a7-77db9469944a",
   "metadata": {},
   "outputs": [
    {
     "name": "stdout",
     "output_type": "stream",
     "text": [
      "B\n",
      "BC\n",
      "BCD\n",
      "BCDE\n",
      "BCDEF\n",
      "BCDE\n",
      "BCD\n",
      "BC\n",
      "B\n"
     ]
    }
   ],
   "source": [
    "n = 5\n",
    "for r in range(1,2*n):\n",
    "    if(r<=n):\n",
    "        total = r\n",
    "    else:\n",
    "        total = 2*n-r\n",
    "    for c in range(1,total+1):\n",
    "        print(chr(65+c),end = '')\n",
    "    print()"
   ]
  },
  {
   "cell_type": "code",
   "execution_count": 144,
   "id": "1c2fd910-cd3b-4924-a2b2-978a14673f99",
   "metadata": {},
   "outputs": [
    {
     "name": "stdout",
     "output_type": "stream",
     "text": [
      " ABCDE\n",
      "  ABCD\n",
      "   ABC\n",
      "    AB\n",
      "     A\n",
      "     A\n",
      "    AB\n",
      "   ABC\n",
      "  ABCD\n",
      " ABCDE\n"
     ]
    }
   ],
   "source": [
    "n = 5\n",
    "\n",
    "for r in range(1,2*n+1):\n",
    "    if(r<=n):\n",
    "        total = n-r+1\n",
    "    else:\n",
    "        total = r-n\n",
    "    nfs = n - total\n",
    "    for s in range(nfs+1):\n",
    "        print(' ',end ='')\n",
    "    for c in range(1,total+1):\n",
    "        print(chr(65+c-1),end = '')\n",
    "    print()"
   ]
  },
  {
   "cell_type": "code",
   "execution_count": 116,
   "id": "4e78cc86-1e78-4b63-9ff1-f1a5f2111608",
   "metadata": {},
   "outputs": [
    {
     "name": "stdout",
     "output_type": "stream",
     "text": [
      "ABCDE\n",
      "A   E\n",
      "A   E\n",
      "A   E\n",
      "ABCDE\n"
     ]
    }
   ],
   "source": [
    "n = 5\n",
    "for r in range(1,n+1):\n",
    "    for c in range(1,n+1):\n",
    "        if(r==1 or r==n or c == 1 or c==5):\n",
    "            print(chr(65+c-1),end = '')\n",
    "        else:\n",
    "            print(\" \",end = '')\n",
    "    print()"
   ]
  },
  {
   "cell_type": "code",
   "execution_count": 138,
   "id": "2eacc460-720d-4c3f-850b-2caf4b47d37b",
   "metadata": {},
   "outputs": [
    {
     "name": "stdout",
     "output_type": "stream",
     "text": [
      "    * \n",
      "   * * \n",
      "  *   * \n",
      " *     * \n",
      "* * * * * \n"
     ]
    }
   ],
   "source": [
    "n = 5\n",
    "for r in range(1,n+1):\n",
    "    for s in range(n-r):\n",
    "        print(\" \",end = '')\n",
    "    for c in range(1,r+1):\n",
    "        if( r==5 or c == 1 or c == r):\n",
    "            print(\"* \",end= '')\n",
    "        else:\n",
    "            print(\"  \",end = '')\n",
    "    print()"
   ]
  },
  {
   "cell_type": "code",
   "execution_count": 142,
   "id": "d3d526e8-768a-4c26-b89b-584822c89105",
   "metadata": {},
   "outputs": [
    {
     "name": "stdout",
     "output_type": "stream",
     "text": [
      "* \n",
      "* * \n",
      "*   * \n",
      "*     * \n",
      "* * * * * \n"
     ]
    }
   ],
   "source": [
    "n = 5\n",
    "for r in range(1,n+1):\n",
    "    for c in range(1,r+1):\n",
    "        if(r==5 or c==1 or c==r):\n",
    "            print(\"* \",end = '')\n",
    "        else:\n",
    "            print(\"  \",end = '')\n",
    "    print()"
   ]
  },
  {
   "cell_type": "code",
   "execution_count": 143,
   "id": "f1ed3154-537b-46e6-86c0-0480b57841ce",
   "metadata": {},
   "outputs": [
    {
     "ename": "SyntaxError",
     "evalue": "invalid syntax (38698648.py, line 1)",
     "output_type": "error",
     "traceback": [
      "\u001b[1;36m  Cell \u001b[1;32mIn[143], line 1\u001b[1;36m\u001b[0m\n\u001b[1;33m    **********\u001b[0m\n\u001b[1;37m    ^\u001b[0m\n\u001b[1;31mSyntaxError\u001b[0m\u001b[1;31m:\u001b[0m invalid syntax\n"
     ]
    }
   ],
   "source": [
    "**********\n",
    "****  ****\n",
    "***    ***\n",
    "**      **\n",
    "*        *\n",
    "**      **\n",
    "***    ***\n",
    "****  ****\n",
    "**********"
   ]
  },
  {
   "cell_type": "code",
   "execution_count": 156,
   "id": "8bed4e38-0175-4e8d-a6ac-94a5c85d9b01",
   "metadata": {},
   "outputs": [
    {
     "name": "stdout",
     "output_type": "stream",
     "text": [
      "* * * * * \n",
      "* * * * \n",
      "* * * \n",
      "* * \n",
      "* \n",
      "* * \n",
      "* * * \n",
      "* * * * \n",
      "* * * * * \n",
      " *****\n",
      "  ****\n",
      "   ***\n",
      "    **\n",
      "     *\n",
      "    **\n",
      "   ***\n",
      "  ****\n",
      " *****\n"
     ]
    }
   ],
   "source": [
    "\n",
    "n =  5\n",
    "for r in range(1,2*n):\n",
    "    if(r<=n):\n",
    "        total = n-r+1\n",
    "    else:\n",
    "        total = r-n+1\n",
    "    for c in range(1,total+1):\n",
    "        print(\"* \",end = '')\n",
    "    print()\n",
    "\n",
    "for r in range(1,2*n):\n",
    "    if(r<=n):\n",
    "        total = n-r+1\n",
    "    else:\n",
    "        total = r-n+1\n",
    "    nfs = n - total\n",
    "    for s in range(nfs+1):\n",
    "        print(' ',end ='')\n",
    "    for c in range(1,total+1):\n",
    "        print(\"*\",end = '')\n",
    "    print()"
   ]
  },
  {
   "cell_type": "code",
   "execution_count": 157,
   "id": "8e640f16-c28c-4871-aca2-17bcd5fa9156",
   "metadata": {},
   "outputs": [
    {
     "name": "stdout",
     "output_type": "stream",
     "text": [
      "**********\n",
      "****  ****\n",
      "***    ***\n",
      "**      **\n",
      "*        *\n",
      "*        *\n",
      "**      **\n",
      "***    ***\n",
      "****  ****\n",
      "**********\n"
     ]
    }
   ],
   "source": [
    "n = 5\n",
    "\n",
    "# Print the upper inverted triangle\n",
    "for r in range(0, n):\n",
    "    # Print the stars on the left side\n",
    "    for c in range(n - r):\n",
    "        print(\"*\", end=\"\")\n",
    "    \n",
    "    # Print spaces in the middle\n",
    "    for s in range(2 * r):\n",
    "        print(\" \", end=\"\")\n",
    "    \n",
    "    # Print the stars on the right side\n",
    "    for c in range(n - r):\n",
    "        print(\"*\", end=\"\")\n",
    "    \n",
    "    print()  # Move to the next line\n",
    "\n",
    "# Print the lower triangle\n",
    "for r in range(1, n + 1):\n",
    "    # Print the stars on the left side\n",
    "    for c in range(r):\n",
    "        print(\"*\", end=\"\")\n",
    "    \n",
    "    # Print spaces in the middle\n",
    "    for s in range(2 * (n - r)):\n",
    "        print(\" \", end=\"\")\n",
    "    \n",
    "    # Print the stars on the right side\n",
    "    for c in range(r):\n",
    "        print(\"*\", end=\"\")\n",
    "    \n",
    "    print()  # Move to the next line\n"
   ]
  },
  {
   "cell_type": "code",
   "execution_count": 7,
   "id": "828e6977-83d3-441d-85df-f13f6a20b585",
   "metadata": {},
   "outputs": [
    {
     "name": "stdout",
     "output_type": "stream",
     "text": [
      "* \n",
      "* * \n",
      "*   * \n",
      "*     * \n",
      "* * * * * \n"
     ]
    }
   ],
   "source": [
    "n = 5\n",
    "\n",
    "for r in range(1,n+1):\n",
    "    for c in range(1,r+1):\n",
    "        if(c==1 or c==r or r==n):\n",
    "            print(\"* \",end = '')\n",
    "        else:\n",
    "            print(\"  \",end = '')\n",
    "    print()"
   ]
  },
  {
   "cell_type": "code",
   "execution_count": 20,
   "id": "11004b08-8bad-451f-8b61-6f60431ae023",
   "metadata": {},
   "outputs": [
    {
     "name": "stdout",
     "output_type": "stream",
     "text": [
      "    *\n",
      "   **\n",
      "  * *\n",
      " *  *\n",
      "*****\n"
     ]
    }
   ],
   "source": [
    "n = 5\n",
    "for r in range(1,n+1):\n",
    "    for s in range(n-r):\n",
    "        print(\" \",end = '')\n",
    "    for c in range(1,r+1):\n",
    "        if(c==1 or r==5 or c==r):\n",
    "            print(\"*\",end = '')\n",
    "        else:\n",
    "            print(\" \",end = '')\n",
    "    print()"
   ]
  },
  {
   "cell_type": "code",
   "execution_count": 42,
   "id": "256e3e4c-495e-4f69-8631-0a5aceb92b4c",
   "metadata": {},
   "outputs": [
    {
     "name": "stdout",
     "output_type": "stream",
     "text": [
      "     * \n",
      "    * * \n",
      "   *   * \n",
      "  *     * \n",
      " *       * \n",
      "  *     * \n",
      "   *   * \n",
      "    * * \n",
      "     * \n",
      "      \n"
     ]
    }
   ],
   "source": [
    "n = 5\n",
    "for r in range(1,2*n+1):\n",
    "    if(r<=n):\n",
    "        total = r\n",
    "    else:\n",
    "        total = 2*n-r\n",
    "    nfs = n - total\n",
    "    for s in range(nfs+1):\n",
    "        print(' ',end = '')\n",
    "    for c in range(1,total+1):\n",
    "        if(c==1 or c==r or c == total):\n",
    "            print(\"* \",end = '')\n",
    "        else:\n",
    "            print(\"  \",end = '')\n",
    "    print()"
   ]
  },
  {
   "cell_type": "code",
   "execution_count": 22,
   "id": "6d3557ee-ff9b-4340-bf2f-a605c0ec1346",
   "metadata": {},
   "outputs": [
    {
     "name": "stdout",
     "output_type": "stream",
     "text": [
      " * * * * * \n",
      "  *     * \n",
      "   *   * \n",
      "    * * \n",
      "     * \n",
      "     * \n",
      "    * * \n",
      "   *   * \n",
      "  *     * \n",
      " * * * * * \n"
     ]
    }
   ],
   "source": [
    "n = 5\n",
    "for r in range(1,2*n+1):\n",
    "    if(r<=n):\n",
    "        total = n-r+1\n",
    "    else:\n",
    "        total = r-n\n",
    "    nfs = n - total\n",
    "    for s in range(nfs+1):\n",
    "        print(\" \",end = '')\n",
    "    for c in range(1,total+1):\n",
    "        if(c==1 or c==total  or r==1 or r==2*n):\n",
    "            print(\"* \",end = '')\n",
    "        else:\n",
    "            print(\"  \",end = '')\n",
    "    print()"
   ]
  },
  {
   "cell_type": "code",
   "execution_count": 59,
   "id": "5d1e3ae1-62ff-485d-96bb-ba3befa9089c",
   "metadata": {},
   "outputs": [],
   "source": [
    "a = [num%2!=0 for num in range(1,25)]"
   ]
  },
  {
   "cell_type": "code",
   "execution_count": 62,
   "id": "183afcb8-8952-4ca0-8f32-3a31c43cd9cc",
   "metadata": {},
   "outputs": [
    {
     "name": "stdout",
     "output_type": "stream",
     "text": [
      "milindmali108@gmail.com\n"
     ]
    }
   ],
   "source": [
    "string=\"Hi my name is Govind Das and my mail id is milindmali108@gmail.com and my org\"\n",
    "a = string.split()\n",
    "\n",
    "\n",
    "for i in a:\n",
    "    if(i.endswith(\".com\")):\n",
    "        print(i)"
   ]
  },
  {
   "cell_type": "code",
   "execution_count": 72,
   "id": "7993bb6d-8289-43d2-94e7-a45f503e5314",
   "metadata": {},
   "outputs": [
    {
     "name": "stdout",
     "output_type": "stream",
     "text": [
      "1 \n",
      "1 2 \n",
      "1   3 \n",
      "1     4 \n",
      "1 2 3 4 5 \n"
     ]
    }
   ],
   "source": [
    "n = 5\n",
    "\n",
    "for r in range(1,n+1):\n",
    "    for c in range(1,r+1):\n",
    "        if(c==1 or r==5 or c==r):\n",
    "            print(c,end= ' ')\n",
    "        else:\n",
    "            print('  ',end = '')\n",
    "    print()"
   ]
  },
  {
   "cell_type": "code",
   "execution_count": 83,
   "id": "36d51d1e-0df1-41c6-83d8-e9a755aabeec",
   "metadata": {},
   "outputs": [
    {
     "name": "stdout",
     "output_type": "stream",
     "text": [
      "    * \n",
      "   * * \n",
      "  *   * \n",
      " *     * \n",
      "* * * * * \n"
     ]
    }
   ],
   "source": [
    "n = 5\n",
    "for r in range(1,n+1):\n",
    "    for s in range(n-r):\n",
    "        print(' ',end = '')\n",
    "    for c in range(1,r+1):\n",
    "        if(c==1 or r==5 or c==r):\n",
    "            print('* ',end = '')\n",
    "        else:\n",
    "            print('  ',end = '')\n",
    "    print()"
   ]
  },
  {
   "cell_type": "code",
   "execution_count": 104,
   "id": "0a3c4978-68ab-48fd-8b51-483187e4a2a1",
   "metadata": {},
   "outputs": [
    {
     "name": "stdout",
     "output_type": "stream",
     "text": [
      "     1 \n",
      "    2 3 \n",
      "   4   5 \n",
      "  6     7 \n",
      " 8       9 \n",
      "  10     11 \n",
      "   12   13 \n",
      "    14 15 \n",
      "     16 \n",
      "      \n"
     ]
    }
   ],
   "source": [
    "n = 5\n",
    "num = 1\n",
    "for r in range(1,2*n+1):\n",
    "    if(r<=n):\n",
    "        total = r\n",
    "    else:\n",
    "        total = 2*n-r\n",
    "    nfs = n - total\n",
    "    for s in range(nfs+1):\n",
    "        print(' ',end = '')\n",
    "    for c in range(1,total+1):\n",
    "        if(c==1 or c==total):\n",
    "            print(num,end = ' ')\n",
    "            num+=1\n",
    "        else:\n",
    "            print(\"  \",end ='')\n",
    "    print()\n",
    "    "
   ]
  },
  {
   "cell_type": "code",
   "execution_count": 109,
   "id": "ec16a594-ec74-4849-9661-0bb8c62cc3b0",
   "metadata": {},
   "outputs": [
    {
     "name": "stdout",
     "output_type": "stream",
     "text": [
      "*****\n",
      "*  *\n",
      "* *\n",
      "**\n",
      "*\n",
      "**\n",
      "* *\n",
      "*  *\n",
      "*   *\n",
      "******\n"
     ]
    }
   ],
   "source": [
    "n = 5\n",
    "for r in range(1,2*n+1):\n",
    "    if(r<=n):\n",
    "        total = n-r+1\n",
    "    else:\n",
    "        total = r-n+1\n",
    "    for c in range(1,total+1):\n",
    "        if(c==1 or r==1 or c==total or r==2*n):\n",
    "            print('*',end = '')\n",
    "        else:\n",
    "            print(' ',end = '')\n",
    "    print()"
   ]
  },
  {
   "cell_type": "code",
   "execution_count": 5,
   "id": "2c583980-b037-4979-96be-d56fe681cb25",
   "metadata": {},
   "outputs": [
    {
     "data": {
      "text/plain": [
       "'Ashut'"
      ]
     },
     "execution_count": 5,
     "metadata": {},
     "output_type": "execute_result"
    }
   ],
   "source": [
    "class Book:\n",
    "    def __init__(self,title,author):\n",
    "        self.__title = title\n",
    "        self.__author = author\n",
    "    def get_title(self):\n",
    "        return self.__title\n",
    "    def set_title(self,title):\n",
    "        self.__title = title\n",
    "    def get_author(self):\n",
    "        return self.__author\n",
    "    def set_author(self,author):\n",
    "        self.__author = author\n",
    "a = Book(\"VK\",\"ME\")\n",
    "a.get_title()\n",
    "a.get_author()   \n",
    "a.set_title(\"Ashut\")\n",
    "a.get_title()"
   ]
  },
  {
   "cell_type": "code",
   "execution_count": 13,
   "id": "3eddf419-18b1-4364-8815-1542dd53ca6a",
   "metadata": {},
   "outputs": [
    {
     "data": {
      "text/plain": [
       "529"
      ]
     },
     "execution_count": 13,
     "metadata": {},
     "output_type": "execute_result"
    }
   ],
   "source": [
    "class Emp:\n",
    "    def __init__(self,salary):\n",
    "        self.__salary = salary\n",
    "    def cal(self):\n",
    "        raise NotImplementedError(\"XYZ\")\n",
    "class Manager(Emp):\n",
    "    def __init__(self,salary):\n",
    "        self.__salary = salary\n",
    "    def cal(self):\n",
    "        return self.__salary**2\n",
    "class Intern(Emp):\n",
    "    def __init__(self,salary):\n",
    "        self.__salary = salary\n",
    "    def cal(self):\n",
    "        return self.__salary/2\n",
    "\n",
    "a = Manager(23)\n",
    "a.cal()\n",
    "        "
   ]
  },
  {
   "cell_type": "code",
   "execution_count": 32,
   "id": "b75dc293-bb1e-4790-a537-e3f9e36d8350",
   "metadata": {},
   "outputs": [
    {
     "name": "stdout",
     "output_type": "stream",
     "text": [
      "My name is Ashutosh\n",
      "My age is 20\n",
      "Function Ended\n"
     ]
    }
   ],
   "source": [
    "def make(func):\n",
    "    def wrapper(name):\n",
    "        print(f\"My name is {name}\")\n",
    "        func(20)\n",
    "        print(\"Function Ended\")\n",
    "    return wrapper\n",
    "@make\n",
    "def new(age):\n",
    "    print(f\"My age is {age}\")\n",
    "new(\"Ashutosh\")"
   ]
  },
  {
   "cell_type": "code",
   "execution_count": 16,
   "id": "51229ec4-d2cb-4dd7-a0c0-66a0e129d9e3",
   "metadata": {},
   "outputs": [
    {
     "name": "stdout",
     "output_type": "stream",
     "text": [
      "Creating instance\n",
      "Initializing instance\n"
     ]
    }
   ],
   "source": [
    "class MyClass:\n",
    "    def __new__(cls, *args, **kwargs):\n",
    "        print(\"Creating instance\")\n",
    "        instance = super(MyClass, cls).__new__(cls)\n",
    "        return instance\n",
    "\n",
    "    def __init__(self, value):\n",
    "        print(\"Initializing instance\")\n",
    "        self.value = value\n",
    "\n",
    "obj = MyClass(10)\n"
   ]
  },
  {
   "cell_type": "code",
   "execution_count": 56,
   "id": "f101e121-1677-4ca2-aced-ea48d8505e08",
   "metadata": {},
   "outputs": [
    {
     "ename": "AttributeError",
     "evalue": "'set' object has no attribute 'superset'",
     "output_type": "error",
     "traceback": [
      "\u001b[1;31m---------------------------------------------------------------------------\u001b[0m",
      "\u001b[1;31mAttributeError\u001b[0m                            Traceback (most recent call last)",
      "Cell \u001b[1;32mIn[56], line 4\u001b[0m\n\u001b[0;32m      1\u001b[0m s \u001b[38;5;241m=\u001b[39m {\u001b[38;5;241m1\u001b[39m,\u001b[38;5;241m2\u001b[39m,\u001b[38;5;241m3\u001b[39m,\u001b[38;5;241m4\u001b[39m,\u001b[38;5;241m5\u001b[39m,\u001b[38;5;241m6\u001b[39m,\u001b[38;5;241m7\u001b[39m,\u001b[38;5;241m8\u001b[39m,\u001b[38;5;241m7\u001b[39m}\n\u001b[0;32m      2\u001b[0m a \u001b[38;5;241m=\u001b[39m {\u001b[38;5;241m1\u001b[39m,\u001b[38;5;241m2\u001b[39m,\u001b[38;5;241m3\u001b[39m,\u001b[38;5;241m4\u001b[39m,\u001b[38;5;241m5\u001b[39m,\u001b[38;5;241m6\u001b[39m,\u001b[38;5;241m7\u001b[39m,\u001b[38;5;241m8\u001b[39m,\u001b[38;5;241m34\u001b[39m,\u001b[38;5;241m54\u001b[39m,\u001b[38;5;241m12\u001b[39m,\u001b[38;5;241m43\u001b[39m}\n\u001b[1;32m----> 4\u001b[0m s\u001b[38;5;241m.\u001b[39msuperset(a)\n",
      "\u001b[1;31mAttributeError\u001b[0m: 'set' object has no attribute 'superset'"
     ]
    }
   ],
   "source": []
  },
  {
   "cell_type": "code",
   "execution_count": 1,
   "id": "84920669-aee8-4b8e-8b28-cd4141c35225",
   "metadata": {},
   "outputs": [
    {
     "data": {
      "text/plain": [
       "9"
      ]
     },
     "execution_count": 1,
     "metadata": {},
     "output_type": "execute_result"
    }
   ],
   "source": [
    "a = \"Ashutosh \"\n",
    "len(a)"
   ]
  },
  {
   "cell_type": "code",
   "execution_count": 23,
   "id": "21a4af1f-0e3d-420b-bb47-f66a67ab4947",
   "metadata": {},
   "outputs": [
    {
     "data": {
      "text/plain": [
       "False"
      ]
     },
     "execution_count": 23,
     "metadata": {},
     "output_type": "execute_result"
    }
   ],
   "source": [
    "a = 'adkjskjsd'\n",
    "a.isnumeric()"
   ]
  },
  {
   "cell_type": "code",
   "execution_count": 28,
   "id": "f1b89b44-cf98-44b8-b80d-cf30024765fa",
   "metadata": {},
   "outputs": [
    {
     "name": "stdout",
     "output_type": "stream",
     "text": [
      "20\n",
      "10\n"
     ]
    }
   ],
   "source": [
    "a = 10\n",
    "b = 20\n",
    "\n",
    "a = a+b\n",
    "b = a-b\n",
    "a = a-b\n",
    "print(a)\n",
    "print(b)\n"
   ]
  },
  {
   "cell_type": "code",
   "execution_count": 33,
   "id": "439e3462-2722-4229-a560-f75505399a6a",
   "metadata": {},
   "outputs": [
    {
     "name": "stdout",
     "output_type": "stream",
     "text": [
      "* * * * * \n",
      "*       * \n",
      "*       * \n",
      "*       * \n",
      "* * * * * \n"
     ]
    }
   ],
   "source": [
    "n = 5\n",
    "\n",
    "for r in range(1,n+1):\n",
    "    for c in range(1,n+1):\n",
    "        if(c==1 or r==n or r==1 or c==5):\n",
    "            print(\"* \",end = '')\n",
    "        else:\n",
    "            print(\"  \",end = '')\n",
    "    print()\n",
    "    "
   ]
  },
  {
   "cell_type": "code",
   "execution_count": 39,
   "id": "f31c4e2b-deef-4921-97a7-8bb7392d6c01",
   "metadata": {},
   "outputs": [
    {
     "name": "stdout",
     "output_type": "stream",
     "text": [
      "A\n",
      "AB\n",
      "ABC\n",
      "ABCD\n",
      "ABCDE\n"
     ]
    }
   ],
   "source": [
    "n = 5\n",
    "for r in range(1,n+1):\n",
    "    for c in range(1,r+1):\n",
    "        print(chr(65+c-1),end = '')\n",
    "    print()"
   ]
  },
  {
   "cell_type": "code",
   "execution_count": 50,
   "id": "733a5eb2-97b5-4a4e-9690-204d7e1e051e",
   "metadata": {},
   "outputs": [
    {
     "name": "stdout",
     "output_type": "stream",
     "text": [
      "    1\n",
      "   12\n",
      "  1 3\n",
      " 1  4\n",
      "12345\n"
     ]
    }
   ],
   "source": [
    "n = 5\n",
    "for r in range(1,n+1):\n",
    "    for s in range(n-r):\n",
    "        print(' ',end = '')\n",
    "    for c in range(1,r+1):\n",
    "        if(r==5 or c==1 or c==r):\n",
    "            print(c,end = '')\n",
    "        else:\n",
    "            print(\" \",end = '')\n",
    "    print()"
   ]
  },
  {
   "cell_type": "code",
   "execution_count": 70,
   "id": "2cab3567-a85a-4888-82b7-7b4e94b21582",
   "metadata": {},
   "outputs": [
    {
     "name": "stdout",
     "output_type": "stream",
     "text": [
      "    * \n",
      "   * * \n",
      "  *   * \n",
      " *     * \n",
      "* * * * * \n"
     ]
    }
   ],
   "source": [
    "n = 5\n",
    "for r in range(1,n+1):\n",
    "    for s in range(n-r):\n",
    "        print(\" \",end = '')\n",
    "    for c in range(1,r+1):\n",
    "        if(c==1 or r==5 or c==r):\n",
    "            print(\"* \",end = '')\n",
    "        else:\n",
    "            print('  ',end = '')\n",
    "    print()\n"
   ]
  },
  {
   "cell_type": "code",
   "execution_count": 98,
   "id": "dabfaa38-fa80-485a-b4d9-1dfeea4c0b50",
   "metadata": {},
   "outputs": [
    {
     "name": "stdout",
     "output_type": "stream",
     "text": [
      "* \n",
      "* * \n",
      "*  * \n",
      "*   * \n",
      "*    * \n",
      "*   * \n",
      "*  * \n",
      "* * \n",
      "* \n"
     ]
    }
   ],
   "source": [
    "n = 5\n",
    "for r in range(1,2*n):\n",
    "    if(r<=n):\n",
    "        total = r\n",
    "    else:\n",
    "        total = 2*n-r\n",
    "    for c in range(1,total+1):\n",
    "        if(c==1 or c==total):\n",
    "            print(\"* \",end = '')\n",
    "        else:\n",
    "            print(' ',end = '')\n",
    "    print()"
   ]
  },
  {
   "cell_type": "code",
   "execution_count": 97,
   "id": "b2e96ee3-9fca-4997-8ad1-05e806900747",
   "metadata": {},
   "outputs": [
    {
     "name": "stdout",
     "output_type": "stream",
     "text": [
      "     * \n",
      "    * * \n",
      "   *   * \n",
      "  *     * \n",
      " *       * \n",
      "  *     * \n",
      "   *   * \n",
      "    * * \n",
      "     * \n"
     ]
    }
   ],
   "source": [
    "n = 5\n",
    "for r in range(1,2*n):\n",
    "    if(r<=n):\n",
    "        total = r\n",
    "    else:\n",
    "        total = 2*n-r\n",
    "    nfs = n - total\n",
    "    for s in range(nfs+1):\n",
    "        print(\" \",end = '')\n",
    "    for c in range(1,total+1):\n",
    "        if(c==1 or c==total):\n",
    "            print(\"* \",end = '')\n",
    "        else:\n",
    "            print(\"  \",end = '')\n",
    "    print()"
   ]
  },
  {
   "cell_type": "code",
   "execution_count": 104,
   "id": "192dee7d-feed-4e47-b2e2-a2e273f8f449",
   "metadata": {},
   "outputs": [
    {
     "data": {
      "text/plain": [
       "(4, 5)"
      ]
     },
     "execution_count": 104,
     "metadata": {},
     "output_type": "execute_result"
    }
   ],
   "source": [
    "d = {1:1,2:2,3:3,4:4}\n",
    "d[4]=5\n",
    "d.popitem()"
   ]
  },
  {
   "cell_type": "code",
   "execution_count": 2,
   "id": "3a27dc8a-ae0e-4673-b676-70e901fa1c15",
   "metadata": {},
   "outputs": [
    {
     "name": "stdout",
     "output_type": "stream",
     "text": [
      "2331\n"
     ]
    }
   ],
   "source": [
    "n =1332\n",
    "temp = n\n",
    "rev = 0\n",
    "\n",
    "while(n!=0):\n",
    "    digit = n%10\n",
    "    rev = rev*10 + digit\n",
    "    n//=10\n",
    "print(rev)"
   ]
  },
  {
   "cell_type": "code",
   "execution_count": 5,
   "id": "44b39021-14bb-46cb-891b-a1cb44a05a9d",
   "metadata": {},
   "outputs": [
    {
     "name": "stdout",
     "output_type": "stream",
     "text": [
      "153\n"
     ]
    }
   ],
   "source": [
    "n = 153\n",
    "rev = 0\n",
    "while(n!=0):\n",
    "    digit = n%10\n",
    "    rev = rev + digit**3\n",
    "    n//=10\n",
    "print(rev)"
   ]
  },
  {
   "cell_type": "code",
   "execution_count": 9,
   "id": "b979c7fe-bf60-49c2-8df1-3c40862ee95e",
   "metadata": {},
   "outputs": [
    {
     "name": "stdout",
     "output_type": "stream",
     "text": [
      "* \n",
      "* * \n",
      "*   * \n",
      "*     * \n",
      "* * * * * \n"
     ]
    }
   ],
   "source": [
    "n = 5\n",
    "for r in range(1,n+1):\n",
    "    for c in range(1,r+1):\n",
    "        if(c==1 or r==5 or c==r):\n",
    "            print(\"* \",end = '')\n",
    "        else:\n",
    "            print(\"  \",end = '')\n",
    "    print()"
   ]
  },
  {
   "cell_type": "code",
   "execution_count": 14,
   "id": "0bcee6fc-06b5-47e1-860b-ec051c3f873b",
   "metadata": {},
   "outputs": [
    {
     "name": "stdout",
     "output_type": "stream",
     "text": [
      "    * \n",
      "   * * \n",
      "  *   * \n",
      " *     * \n",
      "* * * * * \n"
     ]
    }
   ],
   "source": [
    "n = 5\n",
    "for r in range(1,n+1):\n",
    "    for s in range(n-r):\n",
    "        print(\" \",end = '')\n",
    "    for c in range(1,r+1):\n",
    "        if(c==1 or r==5 or c==r):\n",
    "            print(\"* \",end = '')\n",
    "        else:\n",
    "            print('  ',end = '')\n",
    "    print()"
   ]
  },
  {
   "cell_type": "code",
   "execution_count": 36,
   "id": "0ade9c56-0840-4075-8780-731e270ddd07",
   "metadata": {},
   "outputs": [
    {
     "name": "stdout",
     "output_type": "stream",
     "text": [
      "     * \n",
      "    * * \n",
      "   *   * \n",
      "  *     * \n",
      " *       * \n",
      "  *     * \n",
      "   *   * \n",
      "    * * \n",
      "     * \n"
     ]
    }
   ],
   "source": [
    "n = 5\n",
    "for r in range(1,2*n):\n",
    "    if(r<=n):\n",
    "        total = r\n",
    "    else:\n",
    "        total = 2*n-r\n",
    "    nfs = n-total\n",
    "    for s in range(nfs+1):\n",
    "        print(\" \",end = '')\n",
    "    for c in range(1,total+1):\n",
    "        if(c==1 or c==total):\n",
    "            print(\"* \",end = '')\n",
    "        else:\n",
    "            print('  ',end= '')\n",
    "    print()\n",
    "        "
   ]
  },
  {
   "cell_type": "code",
   "execution_count": 23,
   "id": "e273bf3c-2a6d-4a16-b6c7-23b5f3245cc4",
   "metadata": {},
   "outputs": [
    {
     "name": "stdout",
     "output_type": "stream",
     "text": [
      "hsotuhsa\n"
     ]
    }
   ],
   "source": [
    "a = 'ashutosh'\n",
    "rev = ''\n",
    "for i in a:\n",
    "    rev = i+rev\n",
    "print(rev)"
   ]
  },
  {
   "cell_type": "code",
   "execution_count": 29,
   "id": "dc65833b-a4bf-47d2-a872-670cfa9c60c9",
   "metadata": {},
   "outputs": [
    {
     "name": "stdout",
     "output_type": "stream",
     "text": [
      "<class 'str'>\n"
     ]
    }
   ],
   "source": [
    "a = \"My name is Ashutosh\"\n",
    "b = a.split()\n",
    "rev = ''\n",
    "for i in b:\n",
    "    rev = i+\" \"+ rev\n",
    "print(type(rev))"
   ]
  },
  {
   "cell_type": "code",
   "execution_count": 30,
   "id": "9968dcdb-9d42-49bd-a2d1-9b5cc672d83b",
   "metadata": {},
   "outputs": [
    {
     "name": "stdout",
     "output_type": "stream",
     "text": [
      "[1, 2, 2, 3, 4, 5, 54]\n"
     ]
    }
   ],
   "source": [
    "a = [1,4,3,2,54,5,2]\n",
    "\n",
    "for i in range(0,len(a)):\n",
    "    for j in range(1+i,len(a)):\n",
    "        if(a[i]>a[j]):\n",
    "            a[i],a[j] = a[j],a[i]\n",
    "print(a)"
   ]
  },
  {
   "cell_type": "code",
   "execution_count": 31,
   "id": "62064fbc-d9ff-47ce-9c00-099b54d18de5",
   "metadata": {},
   "outputs": [
    {
     "data": {
      "text/plain": [
       "[1, 2, 2, 3, 4, 5, 54]"
      ]
     },
     "execution_count": 31,
     "metadata": {},
     "output_type": "execute_result"
    }
   ],
   "source": []
  },
  {
   "cell_type": "code",
   "execution_count": 34,
   "id": "9241cb5d-af74-4fa9-ab96-bb35209ac3d0",
   "metadata": {},
   "outputs": [
    {
     "name": "stdout",
     "output_type": "stream",
     "text": [
      "My name is Ashutosh\n",
      "My age 20\n",
      "Function ended\n"
     ]
    }
   ],
   "source": [
    "def make(func):\n",
    "    def wrap(name):\n",
    "        print(f\"My name is {name}\")\n",
    "        func(20)\n",
    "        print(\"Function ended\")\n",
    "    return wrap\n",
    "\n",
    "@make\n",
    "def wow(age):\n",
    "    print(f\"My age {age}\")\n",
    "wow(\"Ashutosh\")"
   ]
  },
  {
   "cell_type": "code",
   "execution_count": 40,
   "id": "448320b9-1243-4536-8a33-ffa03d1928a5",
   "metadata": {},
   "outputs": [
    {
     "name": "stdout",
     "output_type": "stream",
     "text": [
      "5\n"
     ]
    }
   ],
   "source": [
    "a = [1,2,3,4,5,1]\n",
    "max = a[0]\n",
    "\n",
    "for i in a:\n",
    "    if(i>max):\n",
    "        max = i\n",
    "print(max)"
   ]
  },
  {
   "cell_type": "code",
   "execution_count": null,
   "id": "bc7c91ee-5490-4a2d-b07c-6c093a4fd559",
   "metadata": {},
   "outputs": [],
   "source": []
  }
 ],
 "metadata": {
  "kernelspec": {
   "display_name": "Python 3 (ipykernel)",
   "language": "python",
   "name": "python3"
  },
  "language_info": {
   "codemirror_mode": {
    "name": "ipython",
    "version": 3
   },
   "file_extension": ".py",
   "mimetype": "text/x-python",
   "name": "python",
   "nbconvert_exporter": "python",
   "pygments_lexer": "ipython3",
   "version": "3.11.7"
  }
 },
 "nbformat": 4,
 "nbformat_minor": 5
}
