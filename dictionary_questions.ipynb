{
 "cells": [
  {
   "cell_type": "code",
   "execution_count": 3,
   "id": "e98170c5-7d75-4e2d-850f-a861f16b33ee",
   "metadata": {},
   "outputs": [
    {
     "name": "stdin",
     "output_type": "stream",
     "text": [
      " 5\n"
     ]
    },
    {
     "name": "stdout",
     "output_type": "stream",
     "text": [
      "{1: 1, 2: 4, 3: 9, 4: 16, 5: 25}\n"
     ]
    }
   ],
   "source": [
    "n = int(input())\n",
    "a = dict()\n",
    "for i in range(1,n+1):\n",
    "    a[i] = i*i\n",
    "print(a)"
   ]
  },
  {
   "cell_type": "code",
   "execution_count": 8,
   "id": "6b5a25b0-a4ed-4710-a248-206d2b35bef4",
   "metadata": {},
   "outputs": [
    {
     "name": "stdout",
     "output_type": "stream",
     "text": [
      "The Final dictionary is {1: 10, 2: 20, 3: 30, 4: 40, 5: 50, 6: 60} \n"
     ]
    }
   ],
   "source": [
    "dic1 = {1: 10, 2: 20}\n",
    "dic2 = {3: 30, 4: 40}\n",
    "dic3 = {5: 50, 6: 60}\n",
    "\n",
    "a = {}\n",
    "\n",
    "for i in (dic1,dic2,dic3):\n",
    "    a.update(i)\n",
    "print(f\"The Final dictionary is {a} \")"
   ]
  },
  {
   "cell_type": "code",
   "execution_count": 12,
   "id": "eb68732d-bfc9-40ba-9724-8c46f997379b",
   "metadata": {},
   "outputs": [
    {
     "name": "stdout",
     "output_type": "stream",
     "text": [
      "The value is present in the list.\n"
     ]
    }
   ],
   "source": [
    "d = {1: 10, 2: 20, 3: 30, 4: 40, 5: 50, 6: 60}\n",
    "\n",
    "def arg(i):\n",
    "    if i in d:\n",
    "        print(\"The value is present in the list.\")\n",
    "    else:\n",
    "        print(\"The value is not present in the list.\")\n",
    "\n",
    "arg(1)"
   ]
  },
  {
   "cell_type": "code",
   "execution_count": 24,
   "id": "e386c7ba-1d49-47d4-9c64-68f672e67c99",
   "metadata": {},
   "outputs": [
    {
     "name": "stdout",
     "output_type": "stream",
     "text": [
      "x is 10 \n",
      "y is 20 \n",
      "z is 30 \n"
     ]
    }
   ],
   "source": [
    "d = {'x': 10, 'y': 20, 'z': 30} \n",
    "\n",
    "for i,y in d.items():\n",
    "    print(f\"{i} is {y} \")\n",
    "    \n"
   ]
  },
  {
   "cell_type": "code",
   "execution_count": 26,
   "id": "e2e5ce7a-1ffb-42fc-b6f4-1674320e6d5b",
   "metadata": {},
   "outputs": [
    {
     "name": "stdin",
     "output_type": "stream",
     "text": [
      "Enter the Value: 15\n"
     ]
    },
    {
     "name": "stdout",
     "output_type": "stream",
     "text": [
      "{1: 1, 2: 4, 3: 9, 4: 16, 5: 25, 6: 36, 7: 49, 8: 64, 9: 81, 10: 100, 11: 121, 12: 144, 13: 169, 14: 196, 15: 225}\n"
     ]
    }
   ],
   "source": [
    "n = int(input(\"Enter the Value:\"))\n",
    "\n",
    "a = dict()\n",
    "\n",
    "for i in range(1,n+1):\n",
    "    a[i] = i*i\n",
    "print(a)"
   ]
  },
  {
   "cell_type": "code",
   "execution_count": 27,
   "id": "83d7586c-62e6-4520-ba8f-631580b22c2e",
   "metadata": {},
   "outputs": [
    {
     "name": "stdout",
     "output_type": "stream",
     "text": [
      "{1: 10, 2: 20, 3: 30, 4: 40, 5: 50, 6: 60}\n"
     ]
    }
   ],
   "source": [
    "d1 = {1: 10, 2: 20, 3: 30, 4: 40}\n",
    "d2 = {5: 50, 6: 60}\n",
    "\n",
    "d1.update(d2)\n",
    "print(d1)"
   ]
  },
  {
   "cell_type": "code",
   "execution_count": 30,
   "id": "4b2cf2fb-1cea-4936-9c5d-57adb17cee59",
   "metadata": {},
   "outputs": [
    {
     "name": "stdout",
     "output_type": "stream",
     "text": [
      "1 10\n",
      "2 20\n",
      "3 30\n",
      "4 40\n"
     ]
    }
   ],
   "source": [
    "d = {1: 10, 2: 20, 3: 30, 4: 40}\n",
    "for i,y in d.items():\n",
    "    print(i,y)"
   ]
  },
  {
   "cell_type": "code",
   "execution_count": 32,
   "id": "08837a11-a779-409a-96d0-9c8dfbd9566f",
   "metadata": {},
   "outputs": [
    {
     "name": "stdout",
     "output_type": "stream",
     "text": [
      "The sum of the values of dictionary is: 100 \n"
     ]
    }
   ],
   "source": [
    "d = {1: 10, 2: 20, 3: 30, 4: 40}\n",
    "sum = 0\n",
    "for i in d.values():\n",
    "    sum = sum+i\n",
    "print(f\"The sum of the values of dictionary is: {sum} \")"
   ]
  },
  {
   "cell_type": "code",
   "execution_count": 34,
   "id": "e41094dc-6007-4b4e-8ad4-6adf5b30001c",
   "metadata": {},
   "outputs": [
    {
     "name": "stdout",
     "output_type": "stream",
     "text": [
      "61009\n"
     ]
    }
   ],
   "source": [
    "my_dict = {'data1': 100, 'data2': -54, 'data3': 247}\n",
    "for i in my_dict.values():\n",
    "    i = i*i\n",
    "print(i)"
   ]
  },
  {
   "cell_type": "code",
   "execution_count": 35,
   "id": "3ff83c98-0e84-4e85-9595-f2e2e835c9f3",
   "metadata": {},
   "outputs": [
    {
     "name": "stdout",
     "output_type": "stream",
     "text": [
      "{'red': '#FF0000', 'green': '#008000', 'blue': '#0000FF'}\n"
     ]
    }
   ],
   "source": [
    "keys = ['red', 'green', 'blue']\n",
    "values = ['#FF0000', '#008000', '#0000FF']\n",
    "\n",
    "colors = dict"
   ]
  },
  {
   "cell_type": "code",
   "execution_count": 54,
   "id": "31c1512c-dcaf-40bc-a5c0-e53290cf170a",
   "metadata": {},
   "outputs": [
    {
     "name": "stdout",
     "output_type": "stream",
     "text": [
      "<class 'int'> 5874\n"
     ]
    }
   ],
   "source": [
    "my_dict = {'x': 500, 'y': 5874, 'z': 560}\n",
    "max = max(my_dict.values())\n",
    "print(type(max),max)"
   ]
  },
  {
   "cell_type": "code",
   "execution_count": 60,
   "id": "a59ff6c4-b885-4722-94b3-f2e7bb84e4d1",
   "metadata": {},
   "outputs": [
    {
     "name": "stdout",
     "output_type": "stream",
     "text": [
      "{'id1': {'name': ['Sara'], 'class': ['V'], 'subject_integration': ['english, math, science']}, 'id2': {'name': ['David'], 'class': ['V'], 'subject_integration': ['english, math, science']}, 'id4': {'name': ['Surya'], 'class': ['V'], 'subject_integration': ['english, math, science']}}\n"
     ]
    }
   ],
   "source": [
    "sd = {\n",
    "    'id1': {\n",
    "        'name': ['Sara'],\n",
    "        'class': ['V'],\n",
    "        'subject_integration': ['english, math, science']\n",
    "    },\n",
    "    'id2': {\n",
    "        'name': ['David'],\n",
    "        'class': ['V'],\n",
    "        'subject_integration': ['english, math, science']\n",
    "    },\n",
    "    'id3': {\n",
    "        'name': ['Sara'],\n",
    "        'class': ['V'],\n",
    "        'subject_integration': ['english, math, science']\n",
    "    },\n",
    "    'id4': {\n",
    "        'name': ['Surya'],\n",
    "        'class': ['V'],\n",
    "        'subject_integration': ['english, math, science']\n",
    "    }\n",
    "}\n",
    "\n",
    "res = {}\n",
    "\n",
    "for i,j in sd.items():\n",
    "    if j not in res.values():\n",
    "        res[i] = j\n",
    "\n",
    "print(res)"
   ]
  },
  {
   "cell_type": "code",
   "execution_count": 1,
   "id": "199134ff-b26c-4433-b1ad-3553342bf3b6",
   "metadata": {},
   "outputs": [
    {
     "ename": "ImportError",
     "evalue": "cannot import name 'counter' from 'collections' (D:\\Anaconda3\\Lib\\collections\\__init__.py)",
     "output_type": "error",
     "traceback": [
      "\u001b[1;31m---------------------------------------------------------------------------\u001b[0m",
      "\u001b[1;31mImportError\u001b[0m                               Traceback (most recent call last)",
      "Cell \u001b[1;32mIn[1], line 1\u001b[0m\n\u001b[1;32m----> 1\u001b[0m \u001b[38;5;28;01mfrom\u001b[39;00m \u001b[38;5;21;01mcollections\u001b[39;00m \u001b[38;5;28;01mimport\u001b[39;00m counter\n\u001b[0;32m      2\u001b[0m d1 \u001b[38;5;241m=\u001b[39m {\u001b[38;5;124m'\u001b[39m\u001b[38;5;124ma\u001b[39m\u001b[38;5;124m'\u001b[39m: \u001b[38;5;241m100\u001b[39m, \u001b[38;5;124m'\u001b[39m\u001b[38;5;124mb\u001b[39m\u001b[38;5;124m'\u001b[39m: \u001b[38;5;241m200\u001b[39m, \u001b[38;5;124m'\u001b[39m\u001b[38;5;124mc\u001b[39m\u001b[38;5;124m'\u001b[39m: \u001b[38;5;241m300\u001b[39m}\n\u001b[0;32m      3\u001b[0m d2 \u001b[38;5;241m=\u001b[39m {\u001b[38;5;124m'\u001b[39m\u001b[38;5;124ma\u001b[39m\u001b[38;5;124m'\u001b[39m: \u001b[38;5;241m300\u001b[39m, \u001b[38;5;124m'\u001b[39m\u001b[38;5;124mb\u001b[39m\u001b[38;5;124m'\u001b[39m: \u001b[38;5;241m200\u001b[39m, \u001b[38;5;124m'\u001b[39m\u001b[38;5;124md\u001b[39m\u001b[38;5;124m'\u001b[39m: \u001b[38;5;241m400\u001b[39m}\n",
      "\u001b[1;31mImportError\u001b[0m: cannot import name 'counter' from 'collections' (D:\\Anaconda3\\Lib\\collections\\__init__.py)"
     ]
    }
   ],
   "source": [
    "from collections import counter\n",
    "d1 = {'a': 100, 'b': 200, 'c': 300}\n",
    "d2 = {'a': 300, 'b': 200, 'd': 400}\n",
    "d = counter(d1) + counter(d2)\n",
    "print(d)"
   ]
  },
  {
   "cell_type": "code",
   "execution_count": 4,
   "id": "a44927ef-e826-4c81-93ff-b6e195f5081e",
   "metadata": {},
   "outputs": [
    {
     "name": "stdout",
     "output_type": "stream",
     "text": [
      "* \n",
      "* * \n",
      "* * * \n",
      "* * * * \n",
      "* * * * * \n"
     ]
    }
   ],
   "source": []
  },
  {
   "cell_type": "code",
   "execution_count": 7,
   "id": "c71155ae-5d2a-46d2-8b38-c08ad08e7b98",
   "metadata": {},
   "outputs": [
    {
     "name": "stdout",
     "output_type": "stream",
     "text": [
      "2\n"
     ]
    }
   ],
   "source": [
    "n = [2,33,4,52,1,2]\n",
    "for i in n:\n",
    "    if(i%2==0):\n",
    "        print(i)\n",
    "    else:\n",
    "        break"
   ]
  },
  {
   "cell_type": "code",
   "execution_count": 47,
   "id": "ba9919be-4ae9-42fc-b753-27b6be9d7e01",
   "metadata": {},
   "outputs": [
    {
     "name": "stdin",
     "output_type": "stream",
     "text": [
      " 5\n",
      " 1\n",
      " 2\n",
      " 3\n",
      " 3\n",
      " 42\n"
     ]
    },
    {
     "name": "stdout",
     "output_type": "stream",
     "text": [
      "[1, 2, 3, 42]\n",
      "2\n"
     ]
    }
   ],
   "source": [
    "a = []\n",
    "n = int(input())\n",
    "\n",
    "for i in range(n):\n",
    "    val = int(input())\n",
    "    a.append(val)\n",
    "\n",
    "b = set(a)\n",
    "c = list(b)\n",
    "c.sort()\n",
    "print(c)\n",
    "print(c[1])"
   ]
  },
  {
   "cell_type": "code",
   "execution_count": 56,
   "id": "14f259f2-9142-4b98-b874-4487d650c69d",
   "metadata": {},
   "outputs": [
    {
     "name": "stdout",
     "output_type": "stream",
     "text": [
      "[1, 2, 3, 4]\n"
     ]
    }
   ],
   "source": [
    "l1 = [1,2,3,4,5,6]\n",
    "l2 = [1,2,3,4,7]\n",
    "s1 = set(l1)\n",
    "s2 = set(l2)\n",
    "s3 = s1.intersection(s2)\n",
    "l3 = list(s3)\n",
    "print(l3)"
   ]
  },
  {
   "cell_type": "code",
   "execution_count": 58,
   "id": "96f7ba06-728a-410c-9623-109880b503b3",
   "metadata": {},
   "outputs": [
    {
     "name": "stdout",
     "output_type": "stream",
     "text": [
      "[1, 2, 3, 4, 5, 1, 2, 3, 4, 7]\n"
     ]
    }
   ],
   "source": [
    "l1 = [1,2,3,4,5,6]\n",
    "l2 = [1,2,3,4,7]\n",
    "l1.remove(6)\n",
    "l1.extend(l2)\n",
    "print(l1)"
   ]
  },
  {
   "cell_type": "code",
   "execution_count": 4,
   "id": "5db11740-49a1-4579-bec3-eadeaa993bbd",
   "metadata": {},
   "outputs": [
    {
     "name": "stdout",
     "output_type": "stream",
     "text": [
      "1 2 3 4 5 6\n"
     ]
    }
   ],
   "source": [
    "l1 = [1,2,3,4,5,6]\n",
    "\n",
    "l2 = print(*l1)"
   ]
  },
  {
   "cell_type": "code",
   "execution_count": 3,
   "id": "a7b0254a-82cf-4feb-a18a-09d26e08929a",
   "metadata": {},
   "outputs": [
    {
     "name": "stdout",
     "output_type": "stream",
     "text": [
      "<class 'set'> {1, 2, 3, 4}\n"
     ]
    }
   ],
   "source": [
    "s = {1,2,3,4}\n",
    "print(type(s),s)"
   ]
  },
  {
   "cell_type": "code",
   "execution_count": null,
   "id": "9068f0fb-d2be-4f39-bd37-0963aa119084",
   "metadata": {},
   "outputs": [],
   "source": []
  }
 ],
 "metadata": {
  "kernelspec": {
   "display_name": "Python 3 (ipykernel)",
   "language": "python",
   "name": "python3"
  },
  "language_info": {
   "codemirror_mode": {
    "name": "ipython",
    "version": 3
   },
   "file_extension": ".py",
   "mimetype": "text/x-python",
   "name": "python",
   "nbconvert_exporter": "python",
   "pygments_lexer": "ipython3",
   "version": "3.11.7"
  }
 },
 "nbformat": 4,
 "nbformat_minor": 5
}
