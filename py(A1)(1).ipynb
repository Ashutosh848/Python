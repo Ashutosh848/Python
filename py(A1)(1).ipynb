{
 "cells": [
  {
   "cell_type": "code",
   "execution_count": 2,
   "id": "bde12d3d-da2e-4e1a-8127-97f185588598",
   "metadata": {},
   "outputs": [
    {
     "name": "stdin",
     "output_type": "stream",
     "text": [
      " 4\n"
     ]
    },
    {
     "name": "stdout",
     "output_type": "stream",
     "text": [
      "Even\n"
     ]
    }
   ],
   "source": [
    "num = int(input())\n",
    "\n",
    "if(num%2==0):\n",
    "    print(\"Even\")\n",
    "else:\n",
    "    print(\"Odd\")"
   ]
  },
  {
   "cell_type": "code",
   "execution_count": 3,
   "id": "73999ab7-7a91-49b8-917c-516d035bbaf5",
   "metadata": {},
   "outputs": [
    {
     "name": "stdin",
     "output_type": "stream",
     "text": [
      " 34\n",
      " 12\n",
      " 45\n"
     ]
    },
    {
     "name": "stdout",
     "output_type": "stream",
     "text": [
      "Z is greater\n"
     ]
    }
   ],
   "source": [
    "x = int(input())\n",
    "y = int(input())\n",
    "z = int(input())\n",
    "\n",
    "if(x>y and x>z):\n",
    "    print(\"X is greater\")\n",
    "elif(y>x and y>z):\n",
    "    print(\"Y is greater\")\n",
    "else:\n",
    "    print(\"Z is greater\")"
   ]
  },
  {
   "cell_type": "code",
   "execution_count": 4,
   "id": "528a324a-9efb-4781-a107-3ccf8787e746",
   "metadata": {},
   "outputs": [
    {
     "name": "stdin",
     "output_type": "stream",
     "text": [
      " 2020\n"
     ]
    },
    {
     "name": "stdout",
     "output_type": "stream",
     "text": [
      "2020 is a leap year.\n"
     ]
    }
   ],
   "source": [
    "year = int(input())\n",
    "\n",
    "if (year % 4 == 0 and year % 100 != 0) or (year % 400 == 0):\n",
    "    print(f\"{year} is a leap year\")\n",
    "else:\n",
    "    print(f\"{year} is not a leap year\")\n"
   ]
  },
  {
   "cell_type": "code",
   "execution_count": 5,
   "id": "89f3e0d5-c57e-4637-b2a1-1bdb5a1ff88d",
   "metadata": {},
   "outputs": [
    {
     "name": "stdin",
     "output_type": "stream",
     "text": [
      " 67\n"
     ]
    },
    {
     "name": "stdout",
     "output_type": "stream",
     "text": [
      "Grade D\n"
     ]
    }
   ],
   "source": [
    "percentage = int(input())\n",
    "\n",
    "if percentage >= 90:\n",
    "    print(\"Grade A\")\n",
    "elif percentage >= 80:\n",
    "    print(\"Grade B\")\n",
    "elif percentage >= 70:\n",
    "    print(\"Grade C\")\n",
    "elif percentage >= 60:\n",
    "    print(\"Grade D\")\n",
    "else:\n",
    "    print(\"Grade F\")\n"
   ]
  },
  {
   "cell_type": "code",
   "execution_count": 7,
   "id": "1aedef5b-17ce-4b75-9aa8-34478170c6e6",
   "metadata": {},
   "outputs": [
    {
     "name": "stdin",
     "output_type": "stream",
     "text": [
      " e\n"
     ]
    },
    {
     "name": "stdout",
     "output_type": "stream",
     "text": [
      "Vowel\n"
     ]
    }
   ],
   "source": [
    "str = input()\n",
    "vow = 'aeiouAEIOU'\n",
    "\n",
    "if str in vow:\n",
    "    print(\"Vowel\")\n",
    "else:\n",
    "    print(\"Consonent\")\n",
    "\n"
   ]
  },
  {
   "cell_type": "code",
   "execution_count": 9,
   "id": "03a872db-5eae-420b-9582-3bf8476c2033",
   "metadata": {},
   "outputs": [
    {
     "name": "stdin",
     "output_type": "stream",
     "text": [
      " 234\n",
      " 24\n",
      " /\n"
     ]
    },
    {
     "name": "stdout",
     "output_type": "stream",
     "text": [
      "9.75\n"
     ]
    }
   ],
   "source": [
    "a = int(input())\n",
    "b = int(input())\n",
    "oper = input()\n",
    "\n",
    "if(oper=='+'):\n",
    "    print(a+b)\n",
    "elif(oper == '-'):\n",
    "    print(b-a)\n",
    "elif(oper == '*'):\n",
    "    print(a*b)\n",
    "elif(oper == '/'):\n",
    "    print(a/b)"
   ]
  },
  {
   "cell_type": "code",
   "execution_count": 10,
   "id": "36e2432b-57a8-4c24-a486-8ecfac31f665",
   "metadata": {},
   "outputs": [
    {
     "name": "stdin",
     "output_type": "stream",
     "text": [
      " 3\n"
     ]
    },
    {
     "name": "stdout",
     "output_type": "stream",
     "text": [
      "positive\n"
     ]
    }
   ],
   "source": [
    "num = int(input())\n",
    "if(num > 0):\n",
    "    print(\"positive\")\n",
    "elif( num<0):\n",
    "    print(\"neg\")\n",
    "elif(num==0):\n",
    "    print(\"Neutral\")"
   ]
  },
  {
   "cell_type": "code",
   "execution_count": 11,
   "id": "68d84bea-b5a5-40d3-82ac-5460fab2efd3",
   "metadata": {},
   "outputs": [
    {
     "name": "stdin",
     "output_type": "stream",
     "text": [
      " admin\n",
      " 1234\n"
     ]
    },
    {
     "name": "stdout",
     "output_type": "stream",
     "text": [
      "Login successful\n"
     ]
    }
   ],
   "source": [
    "username = \"admin\"\n",
    "password = \"1234\"\n",
    "selfuser = input()\n",
    "selfpass = input()\n",
    "\n",
    "if(selfuser == username and selfpass == password):\n",
    "    print(\"Login successful\")\n",
    "else:\n",
    "    print(\"Login failed\")"
   ]
  },
  {
   "cell_type": "code",
   "execution_count": 13,
   "id": "3daed3ce-9f96-4cdf-ad3d-d7c02a2bf75c",
   "metadata": {},
   "outputs": [
    {
     "name": "stdin",
     "output_type": "stream",
     "text": [
      " 23\n",
      " 45\n",
      " 63\n"
     ]
    },
    {
     "name": "stdout",
     "output_type": "stream",
     "text": [
      "Triangle\n"
     ]
    }
   ],
   "source": [
    "side1 = int(input())\n",
    "side2 = int(input())\n",
    "side3 = int(input())\n",
    "\n",
    "if (side1 + side2 > side3) and (side2 + side3 > side1) and (side1 + side3 > side2):\n",
    "    print(\"Triangle\")\n",
    "else:\n",
    "    print(\"Not a triangle\")"
   ]
  },
  {
   "cell_type": "code",
   "execution_count": 14,
   "id": "e9025223-57f4-45cb-9ef1-e32294c7ded1",
   "metadata": {},
   "outputs": [
    {
     "name": "stdin",
     "output_type": "stream",
     "text": [
      " 23\n",
      " 32\n"
     ]
    },
    {
     "name": "stdout",
     "output_type": "stream",
     "text": [
      "Underweight\n"
     ]
    }
   ],
   "source": [
    "weight = int(input())\n",
    "height = int(input())\n",
    "bmi = weight/(height**2)\n",
    "\n",
    "if(bmi<18.5):\n",
    "    print(\"Underweight\")\n",
    "elif(bmi>=18.5 and bmi<24.9):\n",
    "    print(\"Normal Weight\")\n",
    "elif(bmi>=25 and bmi<29.9):\n",
    "    print(\"Overweight\")\n",
    "elif(bmi>=30):\n",
    "    print(\"Obesity\")"
   ]
  },
  {
   "cell_type": "code",
   "execution_count": null,
   "id": "b8259fff-9325-4911-940b-7e249b933572",
   "metadata": {},
   "outputs": [],
   "source": [
    "price = int(input())\n",
    "dis = 0\n",
    "if(price>1000):\n",
    "    dis = 0.10\n",
    "elif(price>500 and price<1000):\n",
    "    dis = 0.05\n",
    "\n",
    "price = price - (price*discount)\n"
   ]
  },
  {
   "cell_type": "code",
   "execution_count": 17,
   "id": "e374e47d-22be-442f-9c73-24c9433e4da2",
   "metadata": {},
   "outputs": [
    {
     "name": "stdin",
     "output_type": "stream",
     "text": [
      "Enter the age:  90\n"
     ]
    },
    {
     "name": "stdout",
     "output_type": "stream",
     "text": [
      "Senior\n"
     ]
    }
   ],
   "source": [
    "# Input: Age from the user\n",
    "age = int(input(\"Enter the age: \"))\n",
    "\n",
    "# Determine the age category\n",
    "if age >= 0 and age <= 1:\n",
    "    print(\"Infant\")\n",
    "elif age >= 2 and age <= 4:\n",
    "    print(\"Toddler\")\n",
    "elif age >= 5 and age <= 12:\n",
    "    print(\"Child\")\n",
    "elif age >= 13 and age <= 19:\n",
    "    print(\"Teenager\")\n",
    "elif age >= 20 and age <= 59:\n",
    "    print(\"Adult\")\n",
    "elif age >= 60:\n",
    "    print(\"Senior\")\n"
   ]
  },
  {
   "cell_type": "code",
   "execution_count": 19,
   "id": "845fad53-721a-4ca0-ad35-870b7850988c",
   "metadata": {},
   "outputs": [
    {
     "name": "stdin",
     "output_type": "stream",
     "text": [
      "Enter a number (1-7):  3\n"
     ]
    },
    {
     "name": "stdout",
     "output_type": "stream",
     "text": [
      "Wednesday\n"
     ]
    }
   ],
   "source": [
    "# Input: Integer from the user\n",
    "day = int(input(\"Enter a number (1-7): \"))\n",
    "\n",
    "if day == 1:\n",
    "    print(\"Monday\")\n",
    "elif day == 2:\n",
    "    print(\"Tuesday\")\n",
    "elif day == 3:\n",
    "    print(\"Wednesday\")\n",
    "elif day == 4:\n",
    "    print(\"Thursday\")\n",
    "elif day == 5:\n",
    "    print(\"Friday\")\n",
    "elif day == 6:\n",
    "    print(\"Saturday\")\n",
    "elif day == 7:\n",
    "    print(\"Sunday\")\n",
    "else:\n",
    "    print(\"Invalid\")\n"
   ]
  },
  {
   "cell_type": "code",
   "execution_count": null,
   "id": "4128e5be-069b-4edf-8f10-c13353a2ffdb",
   "metadata": {},
   "outputs": [],
   "source": []
  }
 ],
 "metadata": {
  "kernelspec": {
   "display_name": "Python 3 (ipykernel)",
   "language": "python",
   "name": "python3"
  },
  "language_info": {
   "codemirror_mode": {
    "name": "ipython",
    "version": 3
   },
   "file_extension": ".py",
   "mimetype": "text/x-python",
   "name": "python",
   "nbconvert_exporter": "python",
   "pygments_lexer": "ipython3",
   "version": "3.11.7"
  }
 },
 "nbformat": 4,
 "nbformat_minor": 5
}
